{
 "cells": [
  {
   "cell_type": "markdown",
   "id": "4751a35d",
   "metadata": {
    "papermill": {
     "duration": 0.079189,
     "end_time": "2021-07-08T11:17:59.739524",
     "exception": false,
     "start_time": "2021-07-08T11:17:59.660335",
     "status": "completed"
    },
    "tags": []
   },
   "source": [
    "![heart](https://www.healtheuropa.eu/wp-content/uploads/2020/12/Cardiovascular-disease-related-to-Type-2-diabetes-can-be-vastly-reduced-696x378.jpg)\n",
    "\n",
    "Graphs gives us better idea of data but when we need exact Number we use aggregation and groupby function to get more insight from data"
   ]
  },
  {
   "cell_type": "markdown",
   "id": "f68c623c",
   "metadata": {
    "papermill": {
     "duration": 0.074907,
     "end_time": "2021-07-08T11:17:59.890093",
     "exception": false,
     "start_time": "2021-07-08T11:17:59.815186",
     "status": "completed"
    },
    "tags": []
   },
   "source": [
    "# Import Libraries"
   ]
  },
  {
   "cell_type": "code",
   "execution_count": 1,
   "id": "af70787d",
   "metadata": {
    "execution": {
     "iopub.execute_input": "2021-07-08T11:18:00.045603Z",
     "iopub.status.busy": "2021-07-08T11:18:00.044356Z",
     "iopub.status.idle": "2021-07-08T11:18:01.049784Z",
     "shell.execute_reply": "2021-07-08T11:18:01.048618Z",
     "shell.execute_reply.started": "2021-07-08T11:04:56.087122Z"
    },
    "papermill": {
     "duration": 1.084473,
     "end_time": "2021-07-08T11:18:01.050009",
     "exception": false,
     "start_time": "2021-07-08T11:17:59.965536",
     "status": "completed"
    },
    "tags": []
   },
   "outputs": [],
   "source": [
    "import pandas as pd\n",
    "import numpy as np\n",
    "import seaborn as sns\n",
    "import matplotlib.pyplot as plt\n",
    "plt.style.use('fivethirtyeight')\n",
    "\n",
    "import warnings\n",
    "warnings.filterwarnings(\"ignore\")"
   ]
  },
  {
   "cell_type": "code",
   "execution_count": 2,
   "id": "9e0a9e7a",
   "metadata": {
    "execution": {
     "iopub.execute_input": "2021-07-08T11:18:01.225052Z",
     "iopub.status.busy": "2021-07-08T11:18:01.224277Z",
     "iopub.status.idle": "2021-07-08T11:18:01.227272Z",
     "shell.execute_reply": "2021-07-08T11:18:01.226645Z",
     "shell.execute_reply.started": "2021-07-08T11:04:56.185979Z"
    },
    "papermill": {
     "duration": 0.098219,
     "end_time": "2021-07-08T11:18:01.227411",
     "exception": false,
     "start_time": "2021-07-08T11:18:01.129192",
     "status": "completed"
    },
    "tags": []
   },
   "outputs": [],
   "source": [
    "#  For using autocomplete in kaggle notebooks\n",
    "%config Completer.use_jedi = False"
   ]
  },
  {
   "cell_type": "markdown",
   "id": "cb4db38d",
   "metadata": {
    "papermill": {
     "duration": 0.078412,
     "end_time": "2021-07-08T11:18:01.385121",
     "exception": false,
     "start_time": "2021-07-08T11:18:01.306709",
     "status": "completed"
    },
    "tags": []
   },
   "source": [
    "## About Data\n",
    "\n",
    "`age` - Age of the patient\n",
    "\n",
    "`sex` - Sex of the patient\n",
    "\n",
    "`cp` - Chest pain type ~ 0 = Typical Angina, 1 = Atypical Angina, 2 = Non-anginal Pain, 3 = Asymptomatic\n",
    "\n",
    "`trtbps` - Resting blood pressure (in mm Hg)\n",
    "\n",
    "`chol` - Cholestoral in mg/dl fetched via BMI sensor\n",
    "\n",
    "`fbs` - (fasting blood sugar > 120 mg/dl) ~ 1 = True, 0 = False\n",
    "\n",
    "`restecg` - Resting electrocardiographic results ~ 0 = Normal, 1 = ST-T wave normality, 2 = Left ventricular hypertrophy\n",
    "\n",
    "`thalachh` - Maximum heart rate achieved\n",
    "\n",
    "`oldpeak` - Previous peak\n",
    "\n",
    "`slp` - Slope\n",
    "\n",
    "`caa` - Number of major vessels\n",
    "\n",
    "`thall` - Thalium Stress Test result ~ (0,3)\n",
    "\n",
    "`exng` - Exercise induced angina ~ 1 = Yes, 0 = No\n",
    "\n",
    "`output` - Target variable"
   ]
  },
  {
   "cell_type": "code",
   "execution_count": 3,
   "id": "15ece288",
   "metadata": {
    "execution": {
     "iopub.execute_input": "2021-07-08T11:18:01.543969Z",
     "iopub.status.busy": "2021-07-08T11:18:01.543314Z",
     "iopub.status.idle": "2021-07-08T11:18:01.559493Z",
     "shell.execute_reply": "2021-07-08T11:18:01.558327Z",
     "shell.execute_reply.started": "2021-07-08T11:04:56.225980Z"
    },
    "papermill": {
     "duration": 0.098072,
     "end_time": "2021-07-08T11:18:01.559666",
     "exception": false,
     "start_time": "2021-07-08T11:18:01.461594",
     "status": "completed"
    },
    "tags": []
   },
   "outputs": [],
   "source": [
    "df = pd.read_csv('../input/heart-attack-analysis-prediction-dataset/heart.csv')"
   ]
  },
  {
   "cell_type": "code",
   "execution_count": 4,
   "id": "683d598c",
   "metadata": {
    "execution": {
     "iopub.execute_input": "2021-07-08T11:18:01.725513Z",
     "iopub.status.busy": "2021-07-08T11:18:01.724790Z",
     "iopub.status.idle": "2021-07-08T11:18:01.749291Z",
     "shell.execute_reply": "2021-07-08T11:18:01.749774Z",
     "shell.execute_reply.started": "2021-07-08T11:04:56.315822Z"
    },
    "papermill": {
     "duration": 0.115184,
     "end_time": "2021-07-08T11:18:01.749954",
     "exception": false,
     "start_time": "2021-07-08T11:18:01.634770",
     "status": "completed"
    },
    "tags": []
   },
   "outputs": [
    {
     "data": {
      "text/html": [
       "<div>\n",
       "<style scoped>\n",
       "    .dataframe tbody tr th:only-of-type {\n",
       "        vertical-align: middle;\n",
       "    }\n",
       "\n",
       "    .dataframe tbody tr th {\n",
       "        vertical-align: top;\n",
       "    }\n",
       "\n",
       "    .dataframe thead th {\n",
       "        text-align: right;\n",
       "    }\n",
       "</style>\n",
       "<table border=\"1\" class=\"dataframe\">\n",
       "  <thead>\n",
       "    <tr style=\"text-align: right;\">\n",
       "      <th></th>\n",
       "      <th>age</th>\n",
       "      <th>sex</th>\n",
       "      <th>cp</th>\n",
       "      <th>trtbps</th>\n",
       "      <th>chol</th>\n",
       "      <th>fbs</th>\n",
       "      <th>restecg</th>\n",
       "      <th>thalachh</th>\n",
       "      <th>exng</th>\n",
       "      <th>oldpeak</th>\n",
       "      <th>slp</th>\n",
       "      <th>caa</th>\n",
       "      <th>thall</th>\n",
       "      <th>output</th>\n",
       "    </tr>\n",
       "  </thead>\n",
       "  <tbody>\n",
       "    <tr>\n",
       "      <th>0</th>\n",
       "      <td>63</td>\n",
       "      <td>1</td>\n",
       "      <td>3</td>\n",
       "      <td>145</td>\n",
       "      <td>233</td>\n",
       "      <td>1</td>\n",
       "      <td>0</td>\n",
       "      <td>150</td>\n",
       "      <td>0</td>\n",
       "      <td>2.3</td>\n",
       "      <td>0</td>\n",
       "      <td>0</td>\n",
       "      <td>1</td>\n",
       "      <td>1</td>\n",
       "    </tr>\n",
       "    <tr>\n",
       "      <th>1</th>\n",
       "      <td>37</td>\n",
       "      <td>1</td>\n",
       "      <td>2</td>\n",
       "      <td>130</td>\n",
       "      <td>250</td>\n",
       "      <td>0</td>\n",
       "      <td>1</td>\n",
       "      <td>187</td>\n",
       "      <td>0</td>\n",
       "      <td>3.5</td>\n",
       "      <td>0</td>\n",
       "      <td>0</td>\n",
       "      <td>2</td>\n",
       "      <td>1</td>\n",
       "    </tr>\n",
       "    <tr>\n",
       "      <th>2</th>\n",
       "      <td>41</td>\n",
       "      <td>0</td>\n",
       "      <td>1</td>\n",
       "      <td>130</td>\n",
       "      <td>204</td>\n",
       "      <td>0</td>\n",
       "      <td>0</td>\n",
       "      <td>172</td>\n",
       "      <td>0</td>\n",
       "      <td>1.4</td>\n",
       "      <td>2</td>\n",
       "      <td>0</td>\n",
       "      <td>2</td>\n",
       "      <td>1</td>\n",
       "    </tr>\n",
       "    <tr>\n",
       "      <th>3</th>\n",
       "      <td>56</td>\n",
       "      <td>1</td>\n",
       "      <td>1</td>\n",
       "      <td>120</td>\n",
       "      <td>236</td>\n",
       "      <td>0</td>\n",
       "      <td>1</td>\n",
       "      <td>178</td>\n",
       "      <td>0</td>\n",
       "      <td>0.8</td>\n",
       "      <td>2</td>\n",
       "      <td>0</td>\n",
       "      <td>2</td>\n",
       "      <td>1</td>\n",
       "    </tr>\n",
       "    <tr>\n",
       "      <th>4</th>\n",
       "      <td>57</td>\n",
       "      <td>0</td>\n",
       "      <td>0</td>\n",
       "      <td>120</td>\n",
       "      <td>354</td>\n",
       "      <td>0</td>\n",
       "      <td>1</td>\n",
       "      <td>163</td>\n",
       "      <td>1</td>\n",
       "      <td>0.6</td>\n",
       "      <td>2</td>\n",
       "      <td>0</td>\n",
       "      <td>2</td>\n",
       "      <td>1</td>\n",
       "    </tr>\n",
       "    <tr>\n",
       "      <th>...</th>\n",
       "      <td>...</td>\n",
       "      <td>...</td>\n",
       "      <td>...</td>\n",
       "      <td>...</td>\n",
       "      <td>...</td>\n",
       "      <td>...</td>\n",
       "      <td>...</td>\n",
       "      <td>...</td>\n",
       "      <td>...</td>\n",
       "      <td>...</td>\n",
       "      <td>...</td>\n",
       "      <td>...</td>\n",
       "      <td>...</td>\n",
       "      <td>...</td>\n",
       "    </tr>\n",
       "    <tr>\n",
       "      <th>298</th>\n",
       "      <td>57</td>\n",
       "      <td>0</td>\n",
       "      <td>0</td>\n",
       "      <td>140</td>\n",
       "      <td>241</td>\n",
       "      <td>0</td>\n",
       "      <td>1</td>\n",
       "      <td>123</td>\n",
       "      <td>1</td>\n",
       "      <td>0.2</td>\n",
       "      <td>1</td>\n",
       "      <td>0</td>\n",
       "      <td>3</td>\n",
       "      <td>0</td>\n",
       "    </tr>\n",
       "    <tr>\n",
       "      <th>299</th>\n",
       "      <td>45</td>\n",
       "      <td>1</td>\n",
       "      <td>3</td>\n",
       "      <td>110</td>\n",
       "      <td>264</td>\n",
       "      <td>0</td>\n",
       "      <td>1</td>\n",
       "      <td>132</td>\n",
       "      <td>0</td>\n",
       "      <td>1.2</td>\n",
       "      <td>1</td>\n",
       "      <td>0</td>\n",
       "      <td>3</td>\n",
       "      <td>0</td>\n",
       "    </tr>\n",
       "    <tr>\n",
       "      <th>300</th>\n",
       "      <td>68</td>\n",
       "      <td>1</td>\n",
       "      <td>0</td>\n",
       "      <td>144</td>\n",
       "      <td>193</td>\n",
       "      <td>1</td>\n",
       "      <td>1</td>\n",
       "      <td>141</td>\n",
       "      <td>0</td>\n",
       "      <td>3.4</td>\n",
       "      <td>1</td>\n",
       "      <td>2</td>\n",
       "      <td>3</td>\n",
       "      <td>0</td>\n",
       "    </tr>\n",
       "    <tr>\n",
       "      <th>301</th>\n",
       "      <td>57</td>\n",
       "      <td>1</td>\n",
       "      <td>0</td>\n",
       "      <td>130</td>\n",
       "      <td>131</td>\n",
       "      <td>0</td>\n",
       "      <td>1</td>\n",
       "      <td>115</td>\n",
       "      <td>1</td>\n",
       "      <td>1.2</td>\n",
       "      <td>1</td>\n",
       "      <td>1</td>\n",
       "      <td>3</td>\n",
       "      <td>0</td>\n",
       "    </tr>\n",
       "    <tr>\n",
       "      <th>302</th>\n",
       "      <td>57</td>\n",
       "      <td>0</td>\n",
       "      <td>1</td>\n",
       "      <td>130</td>\n",
       "      <td>236</td>\n",
       "      <td>0</td>\n",
       "      <td>0</td>\n",
       "      <td>174</td>\n",
       "      <td>0</td>\n",
       "      <td>0.0</td>\n",
       "      <td>1</td>\n",
       "      <td>1</td>\n",
       "      <td>2</td>\n",
       "      <td>0</td>\n",
       "    </tr>\n",
       "  </tbody>\n",
       "</table>\n",
       "<p>303 rows × 14 columns</p>\n",
       "</div>"
      ],
      "text/plain": [
       "     age  sex  cp  trtbps  chol  fbs  restecg  thalachh  exng  oldpeak  slp  \\\n",
       "0     63    1   3     145   233    1        0       150     0      2.3    0   \n",
       "1     37    1   2     130   250    0        1       187     0      3.5    0   \n",
       "2     41    0   1     130   204    0        0       172     0      1.4    2   \n",
       "3     56    1   1     120   236    0        1       178     0      0.8    2   \n",
       "4     57    0   0     120   354    0        1       163     1      0.6    2   \n",
       "..   ...  ...  ..     ...   ...  ...      ...       ...   ...      ...  ...   \n",
       "298   57    0   0     140   241    0        1       123     1      0.2    1   \n",
       "299   45    1   3     110   264    0        1       132     0      1.2    1   \n",
       "300   68    1   0     144   193    1        1       141     0      3.4    1   \n",
       "301   57    1   0     130   131    0        1       115     1      1.2    1   \n",
       "302   57    0   1     130   236    0        0       174     0      0.0    1   \n",
       "\n",
       "     caa  thall  output  \n",
       "0      0      1       1  \n",
       "1      0      2       1  \n",
       "2      0      2       1  \n",
       "3      0      2       1  \n",
       "4      0      2       1  \n",
       "..   ...    ...     ...  \n",
       "298    0      3       0  \n",
       "299    0      3       0  \n",
       "300    2      3       0  \n",
       "301    1      3       0  \n",
       "302    1      2       0  \n",
       "\n",
       "[303 rows x 14 columns]"
      ]
     },
     "execution_count": 4,
     "metadata": {},
     "output_type": "execute_result"
    }
   ],
   "source": [
    "df "
   ]
  },
  {
   "cell_type": "code",
   "execution_count": 5,
   "id": "309419bd",
   "metadata": {
    "execution": {
     "iopub.execute_input": "2021-07-08T11:18:01.924267Z",
     "iopub.status.busy": "2021-07-08T11:18:01.923485Z",
     "iopub.status.idle": "2021-07-08T11:18:01.927778Z",
     "shell.execute_reply": "2021-07-08T11:18:01.926922Z",
     "shell.execute_reply.started": "2021-07-08T11:04:56.345567Z"
    },
    "papermill": {
     "duration": 0.101018,
     "end_time": "2021-07-08T11:18:01.927980",
     "exception": false,
     "start_time": "2021-07-08T11:18:01.826962",
     "status": "completed"
    },
    "tags": []
   },
   "outputs": [
    {
     "name": "stdout",
     "output_type": "stream",
     "text": [
      "<class 'pandas.core.frame.DataFrame'>\n",
      "RangeIndex: 303 entries, 0 to 302\n",
      "Data columns (total 14 columns):\n",
      " #   Column    Non-Null Count  Dtype  \n",
      "---  ------    --------------  -----  \n",
      " 0   age       303 non-null    int64  \n",
      " 1   sex       303 non-null    int64  \n",
      " 2   cp        303 non-null    int64  \n",
      " 3   trtbps    303 non-null    int64  \n",
      " 4   chol      303 non-null    int64  \n",
      " 5   fbs       303 non-null    int64  \n",
      " 6   restecg   303 non-null    int64  \n",
      " 7   thalachh  303 non-null    int64  \n",
      " 8   exng      303 non-null    int64  \n",
      " 9   oldpeak   303 non-null    float64\n",
      " 10  slp       303 non-null    int64  \n",
      " 11  caa       303 non-null    int64  \n",
      " 12  thall     303 non-null    int64  \n",
      " 13  output    303 non-null    int64  \n",
      "dtypes: float64(1), int64(13)\n",
      "memory usage: 33.3 KB\n"
     ]
    }
   ],
   "source": [
    "df.info()"
   ]
  },
  {
   "cell_type": "code",
   "execution_count": 6,
   "id": "ff3791ee",
   "metadata": {
    "execution": {
     "iopub.execute_input": "2021-07-08T11:18:02.093326Z",
     "iopub.status.busy": "2021-07-08T11:18:02.092432Z",
     "iopub.status.idle": "2021-07-08T11:18:02.143000Z",
     "shell.execute_reply": "2021-07-08T11:18:02.142427Z",
     "shell.execute_reply.started": "2021-07-08T11:04:56.485974Z"
    },
    "papermill": {
     "duration": 0.13671,
     "end_time": "2021-07-08T11:18:02.143154",
     "exception": false,
     "start_time": "2021-07-08T11:18:02.006444",
     "status": "completed"
    },
    "tags": []
   },
   "outputs": [
    {
     "data": {
      "text/html": [
       "<div>\n",
       "<style scoped>\n",
       "    .dataframe tbody tr th:only-of-type {\n",
       "        vertical-align: middle;\n",
       "    }\n",
       "\n",
       "    .dataframe tbody tr th {\n",
       "        vertical-align: top;\n",
       "    }\n",
       "\n",
       "    .dataframe thead th {\n",
       "        text-align: right;\n",
       "    }\n",
       "</style>\n",
       "<table border=\"1\" class=\"dataframe\">\n",
       "  <thead>\n",
       "    <tr style=\"text-align: right;\">\n",
       "      <th></th>\n",
       "      <th>age</th>\n",
       "      <th>sex</th>\n",
       "      <th>cp</th>\n",
       "      <th>trtbps</th>\n",
       "      <th>chol</th>\n",
       "      <th>fbs</th>\n",
       "      <th>restecg</th>\n",
       "      <th>thalachh</th>\n",
       "      <th>exng</th>\n",
       "      <th>oldpeak</th>\n",
       "      <th>slp</th>\n",
       "      <th>caa</th>\n",
       "      <th>thall</th>\n",
       "      <th>output</th>\n",
       "    </tr>\n",
       "  </thead>\n",
       "  <tbody>\n",
       "    <tr>\n",
       "      <th>count</th>\n",
       "      <td>303.000000</td>\n",
       "      <td>303.000000</td>\n",
       "      <td>303.000000</td>\n",
       "      <td>303.000000</td>\n",
       "      <td>303.000000</td>\n",
       "      <td>303.000000</td>\n",
       "      <td>303.000000</td>\n",
       "      <td>303.000000</td>\n",
       "      <td>303.000000</td>\n",
       "      <td>303.000000</td>\n",
       "      <td>303.000000</td>\n",
       "      <td>303.000000</td>\n",
       "      <td>303.000000</td>\n",
       "      <td>303.000000</td>\n",
       "    </tr>\n",
       "    <tr>\n",
       "      <th>mean</th>\n",
       "      <td>54.366337</td>\n",
       "      <td>0.683168</td>\n",
       "      <td>0.966997</td>\n",
       "      <td>131.623762</td>\n",
       "      <td>246.264026</td>\n",
       "      <td>0.148515</td>\n",
       "      <td>0.528053</td>\n",
       "      <td>149.646865</td>\n",
       "      <td>0.326733</td>\n",
       "      <td>1.039604</td>\n",
       "      <td>1.399340</td>\n",
       "      <td>0.729373</td>\n",
       "      <td>2.313531</td>\n",
       "      <td>0.544554</td>\n",
       "    </tr>\n",
       "    <tr>\n",
       "      <th>std</th>\n",
       "      <td>9.082101</td>\n",
       "      <td>0.466011</td>\n",
       "      <td>1.032052</td>\n",
       "      <td>17.538143</td>\n",
       "      <td>51.830751</td>\n",
       "      <td>0.356198</td>\n",
       "      <td>0.525860</td>\n",
       "      <td>22.905161</td>\n",
       "      <td>0.469794</td>\n",
       "      <td>1.161075</td>\n",
       "      <td>0.616226</td>\n",
       "      <td>1.022606</td>\n",
       "      <td>0.612277</td>\n",
       "      <td>0.498835</td>\n",
       "    </tr>\n",
       "    <tr>\n",
       "      <th>min</th>\n",
       "      <td>29.000000</td>\n",
       "      <td>0.000000</td>\n",
       "      <td>0.000000</td>\n",
       "      <td>94.000000</td>\n",
       "      <td>126.000000</td>\n",
       "      <td>0.000000</td>\n",
       "      <td>0.000000</td>\n",
       "      <td>71.000000</td>\n",
       "      <td>0.000000</td>\n",
       "      <td>0.000000</td>\n",
       "      <td>0.000000</td>\n",
       "      <td>0.000000</td>\n",
       "      <td>0.000000</td>\n",
       "      <td>0.000000</td>\n",
       "    </tr>\n",
       "    <tr>\n",
       "      <th>25%</th>\n",
       "      <td>47.500000</td>\n",
       "      <td>0.000000</td>\n",
       "      <td>0.000000</td>\n",
       "      <td>120.000000</td>\n",
       "      <td>211.000000</td>\n",
       "      <td>0.000000</td>\n",
       "      <td>0.000000</td>\n",
       "      <td>133.500000</td>\n",
       "      <td>0.000000</td>\n",
       "      <td>0.000000</td>\n",
       "      <td>1.000000</td>\n",
       "      <td>0.000000</td>\n",
       "      <td>2.000000</td>\n",
       "      <td>0.000000</td>\n",
       "    </tr>\n",
       "    <tr>\n",
       "      <th>50%</th>\n",
       "      <td>55.000000</td>\n",
       "      <td>1.000000</td>\n",
       "      <td>1.000000</td>\n",
       "      <td>130.000000</td>\n",
       "      <td>240.000000</td>\n",
       "      <td>0.000000</td>\n",
       "      <td>1.000000</td>\n",
       "      <td>153.000000</td>\n",
       "      <td>0.000000</td>\n",
       "      <td>0.800000</td>\n",
       "      <td>1.000000</td>\n",
       "      <td>0.000000</td>\n",
       "      <td>2.000000</td>\n",
       "      <td>1.000000</td>\n",
       "    </tr>\n",
       "    <tr>\n",
       "      <th>75%</th>\n",
       "      <td>61.000000</td>\n",
       "      <td>1.000000</td>\n",
       "      <td>2.000000</td>\n",
       "      <td>140.000000</td>\n",
       "      <td>274.500000</td>\n",
       "      <td>0.000000</td>\n",
       "      <td>1.000000</td>\n",
       "      <td>166.000000</td>\n",
       "      <td>1.000000</td>\n",
       "      <td>1.600000</td>\n",
       "      <td>2.000000</td>\n",
       "      <td>1.000000</td>\n",
       "      <td>3.000000</td>\n",
       "      <td>1.000000</td>\n",
       "    </tr>\n",
       "    <tr>\n",
       "      <th>max</th>\n",
       "      <td>77.000000</td>\n",
       "      <td>1.000000</td>\n",
       "      <td>3.000000</td>\n",
       "      <td>200.000000</td>\n",
       "      <td>564.000000</td>\n",
       "      <td>1.000000</td>\n",
       "      <td>2.000000</td>\n",
       "      <td>202.000000</td>\n",
       "      <td>1.000000</td>\n",
       "      <td>6.200000</td>\n",
       "      <td>2.000000</td>\n",
       "      <td>4.000000</td>\n",
       "      <td>3.000000</td>\n",
       "      <td>1.000000</td>\n",
       "    </tr>\n",
       "  </tbody>\n",
       "</table>\n",
       "</div>"
      ],
      "text/plain": [
       "              age         sex          cp      trtbps        chol         fbs  \\\n",
       "count  303.000000  303.000000  303.000000  303.000000  303.000000  303.000000   \n",
       "mean    54.366337    0.683168    0.966997  131.623762  246.264026    0.148515   \n",
       "std      9.082101    0.466011    1.032052   17.538143   51.830751    0.356198   \n",
       "min     29.000000    0.000000    0.000000   94.000000  126.000000    0.000000   \n",
       "25%     47.500000    0.000000    0.000000  120.000000  211.000000    0.000000   \n",
       "50%     55.000000    1.000000    1.000000  130.000000  240.000000    0.000000   \n",
       "75%     61.000000    1.000000    2.000000  140.000000  274.500000    0.000000   \n",
       "max     77.000000    1.000000    3.000000  200.000000  564.000000    1.000000   \n",
       "\n",
       "          restecg    thalachh        exng     oldpeak         slp         caa  \\\n",
       "count  303.000000  303.000000  303.000000  303.000000  303.000000  303.000000   \n",
       "mean     0.528053  149.646865    0.326733    1.039604    1.399340    0.729373   \n",
       "std      0.525860   22.905161    0.469794    1.161075    0.616226    1.022606   \n",
       "min      0.000000   71.000000    0.000000    0.000000    0.000000    0.000000   \n",
       "25%      0.000000  133.500000    0.000000    0.000000    1.000000    0.000000   \n",
       "50%      1.000000  153.000000    0.000000    0.800000    1.000000    0.000000   \n",
       "75%      1.000000  166.000000    1.000000    1.600000    2.000000    1.000000   \n",
       "max      2.000000  202.000000    1.000000    6.200000    2.000000    4.000000   \n",
       "\n",
       "            thall      output  \n",
       "count  303.000000  303.000000  \n",
       "mean     2.313531    0.544554  \n",
       "std      0.612277    0.498835  \n",
       "min      0.000000    0.000000  \n",
       "25%      2.000000    0.000000  \n",
       "50%      2.000000    1.000000  \n",
       "75%      3.000000    1.000000  \n",
       "max      3.000000    1.000000  "
      ]
     },
     "execution_count": 6,
     "metadata": {},
     "output_type": "execute_result"
    }
   ],
   "source": [
    "df.describe()"
   ]
  },
  {
   "cell_type": "code",
   "execution_count": 7,
   "id": "5827eb96",
   "metadata": {
    "execution": {
     "iopub.execute_input": "2021-07-08T11:18:02.307588Z",
     "iopub.status.busy": "2021-07-08T11:18:02.306765Z",
     "iopub.status.idle": "2021-07-08T11:18:02.480705Z",
     "shell.execute_reply": "2021-07-08T11:18:02.480097Z",
     "shell.execute_reply.started": "2021-07-08T11:04:56.541503Z"
    },
    "papermill": {
     "duration": 0.261319,
     "end_time": "2021-07-08T11:18:02.480855",
     "exception": false,
     "start_time": "2021-07-08T11:18:02.219536",
     "status": "completed"
    },
    "tags": []
   },
   "outputs": [
    {
     "name": "stdout",
     "output_type": "stream",
     "text": [
      "1    54.455446\n",
      "0    45.544554\n",
      "Name: output, dtype: float64\n"
     ]
    },
    {
     "data": {
      "image/png": "[encoded data removed]",
      "text/plain": [
       "<Figure size 432x288 with 1 Axes>"
      ]
     },
     "metadata": {},
     "output_type": "display_data"
    }
   ],
   "source": [
    "sns.countplot(df.output)\n",
    "print(df.output.value_counts()/len(df)*100)"
   ]
  },
  {
   "cell_type": "markdown",
   "id": "accd0d04",
   "metadata": {
    "papermill": {
     "duration": 0.077681,
     "end_time": "2021-07-08T11:18:02.636646",
     "exception": false,
     "start_time": "2021-07-08T11:18:02.558965",
     "status": "completed"
    },
    "tags": []
   },
   "source": [
    "* Data is almost abalance"
   ]
  },
  {
   "cell_type": "code",
   "execution_count": 8,
   "id": "db5fad14",
   "metadata": {
    "execution": {
     "iopub.execute_input": "2021-07-08T11:18:02.816586Z",
     "iopub.status.busy": "2021-07-08T11:18:02.815830Z",
     "iopub.status.idle": "2021-07-08T11:18:03.001097Z",
     "shell.execute_reply": "2021-07-08T11:18:03.000300Z",
     "shell.execute_reply.started": "2021-07-08T11:04:56.674548Z"
    },
    "papermill": {
     "duration": 0.286954,
     "end_time": "2021-07-08T11:18:03.001267",
     "exception": false,
     "start_time": "2021-07-08T11:18:02.714313",
     "status": "completed"
    },
    "tags": []
   },
   "outputs": [
    {
     "data": {
      "text/plain": [
       "<AxesSubplot:xlabel='age', ylabel='Count'>"
      ]
     },
     "execution_count": 8,
     "metadata": {},
     "output_type": "execute_result"
    },
    {
     "data": {
      "image/png": "[encoded data removed]",
      "text/plain": [
       "<Figure size 432x288 with 1 Axes>"
      ]
     },
     "metadata": {},
     "output_type": "display_data"
    }
   ],
   "source": [
    "sns.histplot(df.age)"
   ]
  },
  {
   "cell_type": "code",
   "execution_count": 9,
   "id": "1e01ccd8",
   "metadata": {
    "execution": {
     "iopub.execute_input": "2021-07-08T11:18:03.179614Z",
     "iopub.status.busy": "2021-07-08T11:18:03.166334Z",
     "iopub.status.idle": "2021-07-08T11:18:03.280565Z",
     "shell.execute_reply": "2021-07-08T11:18:03.281117Z",
     "shell.execute_reply.started": "2021-07-08T11:04:56.860083Z"
    },
    "papermill": {
     "duration": 0.200194,
     "end_time": "2021-07-08T11:18:03.281290",
     "exception": false,
     "start_time": "2021-07-08T11:18:03.081096",
     "status": "completed"
    },
    "tags": []
   },
   "outputs": [
    {
     "name": "stdout",
     "output_type": "stream",
     "text": [
      "1    68.316832\n",
      "0    31.683168\n",
      "Name: sex, dtype: float64\n"
     ]
    },
    {
     "data": {
      "image/png": "[encoded data removed]",
      "text/plain": [
       "<Figure size 432x288 with 1 Axes>"
      ]
     },
     "metadata": {},
     "output_type": "display_data"
    }
   ],
   "source": [
    "sns.countplot(df.sex)\n",
    "print(df.sex.value_counts()/len(df)*100)"
   ]
  },
  {
   "cell_type": "markdown",
   "id": "e2a55b22",
   "metadata": {
    "papermill": {
     "duration": 0.080008,
     "end_time": "2021-07-08T11:18:03.443578",
     "exception": false,
     "start_time": "2021-07-08T11:18:03.363570",
     "status": "completed"
    },
    "tags": []
   },
   "source": [
    "* 0 are females\n",
    "* 1 is Male\n",
    "\n",
    "\n",
    "It might be happen our model is more bias towards Males because it has more data"
   ]
  },
  {
   "cell_type": "code",
   "execution_count": 10,
   "id": "cc4c53c5",
   "metadata": {
    "execution": {
     "iopub.execute_input": "2021-07-08T11:18:03.626727Z",
     "iopub.status.busy": "2021-07-08T11:18:03.626031Z",
     "iopub.status.idle": "2021-07-08T11:18:03.805302Z",
     "shell.execute_reply": "2021-07-08T11:18:03.805805Z",
     "shell.execute_reply.started": "2021-07-08T11:04:56.973117Z"
    },
    "papermill": {
     "duration": 0.282455,
     "end_time": "2021-07-08T11:18:03.806029",
     "exception": false,
     "start_time": "2021-07-08T11:18:03.523574",
     "status": "completed"
    },
    "tags": []
   },
   "outputs": [
    {
     "data": {
      "text/plain": [
       "<AxesSubplot:xlabel='thalachh', ylabel='Count'>"
      ]
     },
     "execution_count": 10,
     "metadata": {},
     "output_type": "execute_result"
    },
    {
     "data": {
      "image/png": "[encoded data removed]",
      "text/plain": [
       "<Figure size 432x288 with 1 Axes>"
      ]
     },
     "metadata": {},
     "output_type": "display_data"
    }
   ],
   "source": [
    "sns.histplot(df.thalachh)"
   ]
  },
  {
   "cell_type": "markdown",
   "id": "95dfff18",
   "metadata": {
    "papermill": {
     "duration": 0.080543,
     "end_time": "2021-07-08T11:18:03.969132",
     "exception": false,
     "start_time": "2021-07-08T11:18:03.888589",
     "status": "completed"
    },
    "tags": []
   },
   "source": [
    "* thalachh = maximum heart rate achieved"
   ]
  },
  {
   "cell_type": "code",
   "execution_count": 11,
   "id": "02fb6781",
   "metadata": {
    "execution": {
     "iopub.execute_input": "2021-07-08T11:18:04.145117Z",
     "iopub.status.busy": "2021-07-08T11:18:04.144383Z",
     "iopub.status.idle": "2021-07-08T11:18:04.380796Z",
     "shell.execute_reply": "2021-07-08T11:18:04.380244Z",
     "shell.execute_reply.started": "2021-07-08T11:04:57.163415Z"
    },
    "papermill": {
     "duration": 0.329041,
     "end_time": "2021-07-08T11:18:04.380964",
     "exception": false,
     "start_time": "2021-07-08T11:18:04.051923",
     "status": "completed"
    },
    "tags": []
   },
   "outputs": [
    {
     "data": {
      "text/plain": [
       "<AxesSubplot:xlabel='chol', ylabel='Count'>"
      ]
     },
     "execution_count": 11,
     "metadata": {},
     "output_type": "execute_result"
    },
    {
     "data": {
      "image/png": "[encoded data removed]",
      "text/plain": [
       "<Figure size 432x288 with 1 Axes>"
      ]
     },
     "metadata": {},
     "output_type": "display_data"
    }
   ],
   "source": [
    "sns.histplot(df.chol)"
   ]
  },
  {
   "cell_type": "markdown",
   "id": "90a68187",
   "metadata": {
    "papermill": {
     "duration": 0.081722,
     "end_time": "2021-07-08T11:18:04.549362",
     "exception": false,
     "start_time": "2021-07-08T11:18:04.467640",
     "status": "completed"
    },
    "tags": []
   },
   "source": [
    "* chol : cholestoral in mg/dl fetched via BMI sensor\n"
   ]
  },
  {
   "cell_type": "code",
   "execution_count": 12,
   "id": "057069f1",
   "metadata": {
    "execution": {
     "iopub.execute_input": "2021-07-08T11:18:04.725348Z",
     "iopub.status.busy": "2021-07-08T11:18:04.718119Z",
     "iopub.status.idle": "2021-07-08T11:18:04.728992Z",
     "shell.execute_reply": "2021-07-08T11:18:04.729557Z",
     "shell.execute_reply.started": "2021-07-08T11:04:57.367038Z"
    },
    "papermill": {
     "duration": 0.097108,
     "end_time": "2021-07-08T11:18:04.729733",
     "exception": false,
     "start_time": "2021-07-08T11:18:04.632625",
     "status": "completed"
    },
    "tags": []
   },
   "outputs": [
    {
     "name": "stdout",
     "output_type": "stream",
     "text": [
      "Before droping we have dataset of size (303, 14)\n",
      "After droping we have dataset of size (298, 14)\n"
     ]
    }
   ],
   "source": [
    "print('Before droping we have dataset of size', df.shape)\n",
    "df.drop(index=df[(df.chol > 369.75) | (df.chol < 115.75)].index, inplace=True)\n",
    "print('After droping we have dataset of size', df.shape)"
   ]
  },
  {
   "cell_type": "code",
   "execution_count": 13,
   "id": "d3ce5bd9",
   "metadata": {
    "execution": {
     "iopub.execute_input": "2021-07-08T11:18:04.903215Z",
     "iopub.status.busy": "2021-07-08T11:18:04.902262Z",
     "iopub.status.idle": "2021-07-08T11:18:05.052728Z",
     "shell.execute_reply": "2021-07-08T11:18:05.052095Z",
     "shell.execute_reply.started": "2021-07-08T11:04:57.379404Z"
    },
    "papermill": {
     "duration": 0.238434,
     "end_time": "2021-07-08T11:18:05.052883",
     "exception": false,
     "start_time": "2021-07-08T11:18:04.814449",
     "status": "completed"
    },
    "tags": []
   },
   "outputs": [
    {
     "data": {
      "text/plain": [
       "<AxesSubplot:xlabel='cp', ylabel='count'>"
      ]
     },
     "execution_count": 13,
     "metadata": {},
     "output_type": "execute_result"
    },
    {
     "data": {
      "image/png": "[encoded data removed]",
      "text/plain": [
       "<Figure size 432x288 with 1 Axes>"
      ]
     },
     "metadata": {},
     "output_type": "display_data"
    }
   ],
   "source": [
    "sns.countplot(df.cp)"
   ]
  },
  {
   "cell_type": "markdown",
   "id": "f613e195",
   "metadata": {
    "papermill": {
     "duration": 0.087956,
     "end_time": "2021-07-08T11:18:05.224928",
     "exception": false,
     "start_time": "2021-07-08T11:18:05.136972",
     "status": "completed"
    },
    "tags": []
   },
   "source": [
    "cp : Chest Pain type chest pain type"
   ]
  },
  {
   "cell_type": "code",
   "execution_count": 14,
   "id": "92ba7b8d",
   "metadata": {
    "execution": {
     "iopub.execute_input": "2021-07-08T11:18:05.403415Z",
     "iopub.status.busy": "2021-07-08T11:18:05.402373Z",
     "iopub.status.idle": "2021-07-08T11:18:06.220486Z",
     "shell.execute_reply": "2021-07-08T11:18:06.219918Z",
     "shell.execute_reply.started": "2021-07-08T11:04:57.534629Z"
    },
    "papermill": {
     "duration": 0.910604,
     "end_time": "2021-07-08T11:18:06.220622",
     "exception": false,
     "start_time": "2021-07-08T11:18:05.310018",
     "status": "completed"
    },
    "tags": []
   },
   "outputs": [
    {
     "data": {
      "image/png": "[encoded data removed]",
      "text/plain": [
       "<Figure size 432x288 with 1 Axes>"
      ]
     },
     "metadata": {},
     "output_type": "display_data"
    },
    {
     "data": {
      "image/png": "[encoded data removed]",
      "text/plain": [
       "<Figure size 432x288 with 1 Axes>"
      ]
     },
     "metadata": {},
     "output_type": "display_data"
    },
    {
     "data": {
      "image/png": "[encoded data removed]",
      "text/plain": [
       "<Figure size 432x288 with 1 Axes>"
      ]
     },
     "metadata": {},
     "output_type": "display_data"
    },
    {
     "data": {
      "image/png": "[encoded data removed]",
      "text/plain": [
       "<Figure size 432x288 with 1 Axes>"
      ]
     },
     "metadata": {},
     "output_type": "display_data"
    },
    {
     "data": {
      "image/png": "[encoded data removed]",
      "text/plain": [
       "<Figure size 432x288 with 1 Axes>"
      ]
     },
     "metadata": {},
     "output_type": "display_data"
    },
    {
     "data": {
      "image/png": "[encoded data removed]",
      "text/plain": [
       "<Figure size 432x288 with 1 Axes>"
      ]
     },
     "metadata": {},
     "output_type": "display_data"
    }
   ],
   "source": [
    "columns = ['fbs','restecg','exng','slp','caa','thall']\n",
    "for col in columns:\n",
    "    sns.countplot(df[col])\n",
    "    plt.show()"
   ]
  },
  {
   "cell_type": "markdown",
   "id": "3b963a2f",
   "metadata": {
    "papermill": {
     "duration": 0.088205,
     "end_time": "2021-07-08T11:18:06.397353",
     "exception": false,
     "start_time": "2021-07-08T11:18:06.309148",
     "status": "completed"
    },
    "tags": []
   },
   "source": [
    "# Multivariant analysis"
   ]
  },
  {
   "cell_type": "markdown",
   "id": "3a14973f",
   "metadata": {
    "papermill": {
     "duration": 0.087449,
     "end_time": "2021-07-08T11:18:06.572698",
     "exception": false,
     "start_time": "2021-07-08T11:18:06.485249",
     "status": "completed"
    },
    "tags": []
   },
   "source": [
    "## Age"
   ]
  },
  {
   "cell_type": "markdown",
   "id": "9f589a98",
   "metadata": {
    "papermill": {
     "duration": 0.089207,
     "end_time": "2021-07-08T11:18:06.755070",
     "exception": false,
     "start_time": "2021-07-08T11:18:06.665863",
     "status": "completed"
    },
    "tags": []
   },
   "source": [
    "`Pandas cut()` function is used to separate the array elements into different bins . The cut function is mainly used to perform statistical analysis on scalar data. \n",
    "\n",
    "`cut(x, bins, right=True, labels=None, retbins=False, precision=3, include_lowest=False, duplicates=”raise”,)`\n",
    "\n",
    "Parameters:\n",
    "\n",
    "x: The input array to be binned. Must be 1-dimensional.\n",
    "\n",
    "bins: defines the bin edges for the segmentation."
   ]
  },
  {
   "cell_type": "code",
   "execution_count": 15,
   "id": "33df5c1e",
   "metadata": {
    "execution": {
     "iopub.execute_input": "2021-07-08T11:18:06.949957Z",
     "iopub.status.busy": "2021-07-08T11:18:06.948854Z",
     "iopub.status.idle": "2021-07-08T11:18:06.966942Z",
     "shell.execute_reply": "2021-07-08T11:18:06.967440Z",
     "shell.execute_reply.started": "2021-07-08T11:04:58.203805Z"
    },
    "papermill": {
     "duration": 0.124934,
     "end_time": "2021-07-08T11:18:06.967604",
     "exception": false,
     "start_time": "2021-07-08T11:18:06.842670",
     "status": "completed"
    },
    "tags": []
   },
   "outputs": [
    {
     "data": {
      "text/html": [
       "<div>\n",
       "<style scoped>\n",
       "    .dataframe tbody tr th:only-of-type {\n",
       "        vertical-align: middle;\n",
       "    }\n",
       "\n",
       "    .dataframe tbody tr th {\n",
       "        vertical-align: top;\n",
       "    }\n",
       "\n",
       "    .dataframe thead th {\n",
       "        text-align: right;\n",
       "    }\n",
       "</style>\n",
       "<table border=\"1\" class=\"dataframe\">\n",
       "  <thead>\n",
       "    <tr style=\"text-align: right;\">\n",
       "      <th></th>\n",
       "      <th>age</th>\n",
       "      <th>sex</th>\n",
       "      <th>cp</th>\n",
       "      <th>trtbps</th>\n",
       "      <th>chol</th>\n",
       "      <th>fbs</th>\n",
       "      <th>restecg</th>\n",
       "      <th>thalachh</th>\n",
       "      <th>exng</th>\n",
       "      <th>oldpeak</th>\n",
       "      <th>slp</th>\n",
       "      <th>caa</th>\n",
       "      <th>thall</th>\n",
       "      <th>output</th>\n",
       "    </tr>\n",
       "    <tr>\n",
       "      <th>age</th>\n",
       "      <th></th>\n",
       "      <th></th>\n",
       "      <th></th>\n",
       "      <th></th>\n",
       "      <th></th>\n",
       "      <th></th>\n",
       "      <th></th>\n",
       "      <th></th>\n",
       "      <th></th>\n",
       "      <th></th>\n",
       "      <th></th>\n",
       "      <th></th>\n",
       "      <th></th>\n",
       "      <th></th>\n",
       "    </tr>\n",
       "  </thead>\n",
       "  <tbody>\n",
       "    <tr>\n",
       "      <th>(45, 55]</th>\n",
       "      <td>4504</td>\n",
       "      <td>62</td>\n",
       "      <td>89</td>\n",
       "      <td>11366</td>\n",
       "      <td>21569</td>\n",
       "      <td>14</td>\n",
       "      <td>51</td>\n",
       "      <td>13324</td>\n",
       "      <td>28</td>\n",
       "      <td>78.1</td>\n",
       "      <td>130</td>\n",
       "      <td>50</td>\n",
       "      <td>204</td>\n",
       "      <td>55</td>\n",
       "    </tr>\n",
       "    <tr>\n",
       "      <th>(35, 45]</th>\n",
       "      <td>2398</td>\n",
       "      <td>41</td>\n",
       "      <td>65</td>\n",
       "      <td>7062</td>\n",
       "      <td>13243</td>\n",
       "      <td>3</td>\n",
       "      <td>36</td>\n",
       "      <td>9283</td>\n",
       "      <td>13</td>\n",
       "      <td>38.8</td>\n",
       "      <td>86</td>\n",
       "      <td>22</td>\n",
       "      <td>125</td>\n",
       "      <td>43</td>\n",
       "    </tr>\n",
       "    <tr>\n",
       "      <th>(55, 65]</th>\n",
       "      <td>6824</td>\n",
       "      <td>79</td>\n",
       "      <td>96</td>\n",
       "      <td>15482</td>\n",
       "      <td>28249</td>\n",
       "      <td>21</td>\n",
       "      <td>53</td>\n",
       "      <td>16426</td>\n",
       "      <td>44</td>\n",
       "      <td>148.6</td>\n",
       "      <td>148</td>\n",
       "      <td>104</td>\n",
       "      <td>271</td>\n",
       "      <td>43</td>\n",
       "    </tr>\n",
       "    <tr>\n",
       "      <th>(65, 75]</th>\n",
       "      <td>2044</td>\n",
       "      <td>19</td>\n",
       "      <td>31</td>\n",
       "      <td>4156</td>\n",
       "      <td>7414</td>\n",
       "      <td>6</td>\n",
       "      <td>14</td>\n",
       "      <td>4044</td>\n",
       "      <td>10</td>\n",
       "      <td>35.2</td>\n",
       "      <td>38</td>\n",
       "      <td>36</td>\n",
       "      <td>68</td>\n",
       "      <td>15</td>\n",
       "    </tr>\n",
       "    <tr>\n",
       "      <th>(25, 35]</th>\n",
       "      <td>237</td>\n",
       "      <td>5</td>\n",
       "      <td>6</td>\n",
       "      <td>872</td>\n",
       "      <td>1451</td>\n",
       "      <td>0</td>\n",
       "      <td>4</td>\n",
       "      <td>1210</td>\n",
       "      <td>2</td>\n",
       "      <td>3.7</td>\n",
       "      <td>13</td>\n",
       "      <td>0</td>\n",
       "      <td>16</td>\n",
       "      <td>5</td>\n",
       "    </tr>\n",
       "    <tr>\n",
       "      <th>(75, 85]</th>\n",
       "      <td>153</td>\n",
       "      <td>1</td>\n",
       "      <td>2</td>\n",
       "      <td>265</td>\n",
       "      <td>501</td>\n",
       "      <td>0</td>\n",
       "      <td>2</td>\n",
       "      <td>278</td>\n",
       "      <td>1</td>\n",
       "      <td>1.1</td>\n",
       "      <td>3</td>\n",
       "      <td>3</td>\n",
       "      <td>4</td>\n",
       "      <td>1</td>\n",
       "    </tr>\n",
       "  </tbody>\n",
       "</table>\n",
       "</div>"
      ],
      "text/plain": [
       "           age  sex  cp  trtbps   chol  fbs  restecg  thalachh  exng  oldpeak  \\\n",
       "age                                                                             \n",
       "(45, 55]  4504   62  89   11366  21569   14       51     13324    28     78.1   \n",
       "(35, 45]  2398   41  65    7062  13243    3       36      9283    13     38.8   \n",
       "(55, 65]  6824   79  96   15482  28249   21       53     16426    44    148.6   \n",
       "(65, 75]  2044   19  31    4156   7414    6       14      4044    10     35.2   \n",
       "(25, 35]   237    5   6     872   1451    0        4      1210     2      3.7   \n",
       "(75, 85]   153    1   2     265    501    0        2       278     1      1.1   \n",
       "\n",
       "          slp  caa  thall  output  \n",
       "age                                \n",
       "(45, 55]  130   50    204      55  \n",
       "(35, 45]   86   22    125      43  \n",
       "(55, 65]  148  104    271      43  \n",
       "(65, 75]   38   36     68      15  \n",
       "(25, 35]   13    0     16       5  \n",
       "(75, 85]    3    3      4       1  "
      ]
     },
     "execution_count": 15,
     "metadata": {},
     "output_type": "execute_result"
    }
   ],
   "source": [
    "# Create bins for age and group them\n",
    "# Aggregate by sum()\n",
    "df.groupby(pd.cut(df.age,[25,35,45,55,65,75,85])).sum().sort_values('output', ascending=False)"
   ]
  },
  {
   "cell_type": "code",
   "execution_count": 16,
   "id": "54c6f38c",
   "metadata": {
    "execution": {
     "iopub.execute_input": "2021-07-08T11:18:07.184733Z",
     "iopub.status.busy": "2021-07-08T11:18:07.183981Z",
     "iopub.status.idle": "2021-07-08T11:18:07.502719Z",
     "shell.execute_reply": "2021-07-08T11:18:07.502007Z",
     "shell.execute_reply.started": "2021-07-08T11:04:58.233045Z"
    },
    "papermill": {
     "duration": 0.446295,
     "end_time": "2021-07-08T11:18:07.502894",
     "exception": false,
     "start_time": "2021-07-08T11:18:07.056599",
     "status": "completed"
    },
    "tags": []
   },
   "outputs": [
    {
     "data": {
      "text/plain": [
       "<matplotlib.legend.Legend at 0x7f80f8676990>"
      ]
     },
     "execution_count": 16,
     "metadata": {},
     "output_type": "execute_result"
    },
    {
     "data": {
      "image/png": "[encoded data removed]",
      "text/plain": [
       "<Figure size 432x288 with 1 Axes>"
      ]
     },
     "metadata": {},
     "output_type": "display_data"
    }
   ],
   "source": [
    "sns.kdeplot(df.loc[df['output'] == 0, 'age'], label = 'output 0')\n",
    "sns.kdeplot(df.loc[df['output'] == 1, 'age'], label = 'output 1')\n",
    "plt.legend()"
   ]
  },
  {
   "cell_type": "code",
   "execution_count": 17,
   "id": "437f6fb4",
   "metadata": {
    "execution": {
     "iopub.execute_input": "2021-07-08T11:18:07.710857Z",
     "iopub.status.busy": "2021-07-08T11:18:07.697867Z",
     "iopub.status.idle": "2021-07-08T11:18:07.715566Z",
     "shell.execute_reply": "2021-07-08T11:18:07.714946Z",
     "shell.execute_reply.started": "2021-07-08T11:04:58.433928Z"
    },
    "papermill": {
     "duration": 0.122631,
     "end_time": "2021-07-08T11:18:07.715703",
     "exception": false,
     "start_time": "2021-07-08T11:18:07.593072",
     "status": "completed"
    },
    "tags": []
   },
   "outputs": [
    {
     "data": {
      "text/html": [
       "<div>\n",
       "<style scoped>\n",
       "    .dataframe tbody tr th:only-of-type {\n",
       "        vertical-align: middle;\n",
       "    }\n",
       "\n",
       "    .dataframe tbody tr th {\n",
       "        vertical-align: top;\n",
       "    }\n",
       "\n",
       "    .dataframe thead th {\n",
       "        text-align: right;\n",
       "    }\n",
       "</style>\n",
       "<table border=\"1\" class=\"dataframe\">\n",
       "  <thead>\n",
       "    <tr style=\"text-align: right;\">\n",
       "      <th></th>\n",
       "      <th>age</th>\n",
       "      <th>sex</th>\n",
       "      <th>cp</th>\n",
       "      <th>trtbps</th>\n",
       "      <th>chol</th>\n",
       "      <th>fbs</th>\n",
       "      <th>restecg</th>\n",
       "      <th>thalachh</th>\n",
       "      <th>exng</th>\n",
       "      <th>oldpeak</th>\n",
       "      <th>slp</th>\n",
       "      <th>caa</th>\n",
       "      <th>thall</th>\n",
       "      <th>output</th>\n",
       "    </tr>\n",
       "    <tr>\n",
       "      <th>age</th>\n",
       "      <th></th>\n",
       "      <th></th>\n",
       "      <th></th>\n",
       "      <th></th>\n",
       "      <th></th>\n",
       "      <th></th>\n",
       "      <th></th>\n",
       "      <th></th>\n",
       "      <th></th>\n",
       "      <th></th>\n",
       "      <th></th>\n",
       "      <th></th>\n",
       "      <th></th>\n",
       "      <th></th>\n",
       "    </tr>\n",
       "  </thead>\n",
       "  <tbody>\n",
       "    <tr>\n",
       "      <th>(55, 65]</th>\n",
       "      <td>114</td>\n",
       "      <td>114</td>\n",
       "      <td>114</td>\n",
       "      <td>114</td>\n",
       "      <td>114</td>\n",
       "      <td>114</td>\n",
       "      <td>114</td>\n",
       "      <td>114</td>\n",
       "      <td>114</td>\n",
       "      <td>114</td>\n",
       "      <td>114</td>\n",
       "      <td>114</td>\n",
       "      <td>114</td>\n",
       "      <td>114</td>\n",
       "    </tr>\n",
       "    <tr>\n",
       "      <th>(45, 55]</th>\n",
       "      <td>88</td>\n",
       "      <td>88</td>\n",
       "      <td>88</td>\n",
       "      <td>88</td>\n",
       "      <td>88</td>\n",
       "      <td>88</td>\n",
       "      <td>88</td>\n",
       "      <td>88</td>\n",
       "      <td>88</td>\n",
       "      <td>88</td>\n",
       "      <td>88</td>\n",
       "      <td>88</td>\n",
       "      <td>88</td>\n",
       "      <td>88</td>\n",
       "    </tr>\n",
       "    <tr>\n",
       "      <th>(35, 45]</th>\n",
       "      <td>57</td>\n",
       "      <td>57</td>\n",
       "      <td>57</td>\n",
       "      <td>57</td>\n",
       "      <td>57</td>\n",
       "      <td>57</td>\n",
       "      <td>57</td>\n",
       "      <td>57</td>\n",
       "      <td>57</td>\n",
       "      <td>57</td>\n",
       "      <td>57</td>\n",
       "      <td>57</td>\n",
       "      <td>57</td>\n",
       "      <td>57</td>\n",
       "    </tr>\n",
       "    <tr>\n",
       "      <th>(65, 75]</th>\n",
       "      <td>30</td>\n",
       "      <td>30</td>\n",
       "      <td>30</td>\n",
       "      <td>30</td>\n",
       "      <td>30</td>\n",
       "      <td>30</td>\n",
       "      <td>30</td>\n",
       "      <td>30</td>\n",
       "      <td>30</td>\n",
       "      <td>30</td>\n",
       "      <td>30</td>\n",
       "      <td>30</td>\n",
       "      <td>30</td>\n",
       "      <td>30</td>\n",
       "    </tr>\n",
       "    <tr>\n",
       "      <th>(25, 35]</th>\n",
       "      <td>7</td>\n",
       "      <td>7</td>\n",
       "      <td>7</td>\n",
       "      <td>7</td>\n",
       "      <td>7</td>\n",
       "      <td>7</td>\n",
       "      <td>7</td>\n",
       "      <td>7</td>\n",
       "      <td>7</td>\n",
       "      <td>7</td>\n",
       "      <td>7</td>\n",
       "      <td>7</td>\n",
       "      <td>7</td>\n",
       "      <td>7</td>\n",
       "    </tr>\n",
       "    <tr>\n",
       "      <th>(75, 85]</th>\n",
       "      <td>2</td>\n",
       "      <td>2</td>\n",
       "      <td>2</td>\n",
       "      <td>2</td>\n",
       "      <td>2</td>\n",
       "      <td>2</td>\n",
       "      <td>2</td>\n",
       "      <td>2</td>\n",
       "      <td>2</td>\n",
       "      <td>2</td>\n",
       "      <td>2</td>\n",
       "      <td>2</td>\n",
       "      <td>2</td>\n",
       "      <td>2</td>\n",
       "    </tr>\n",
       "  </tbody>\n",
       "</table>\n",
       "</div>"
      ],
      "text/plain": [
       "          age  sex   cp  trtbps  chol  fbs  restecg  thalachh  exng  oldpeak  \\\n",
       "age                                                                            \n",
       "(55, 65]  114  114  114     114   114  114      114       114   114      114   \n",
       "(45, 55]   88   88   88      88    88   88       88        88    88       88   \n",
       "(35, 45]   57   57   57      57    57   57       57        57    57       57   \n",
       "(65, 75]   30   30   30      30    30   30       30        30    30       30   \n",
       "(25, 35]    7    7    7       7     7    7        7         7     7        7   \n",
       "(75, 85]    2    2    2       2     2    2        2         2     2        2   \n",
       "\n",
       "          slp  caa  thall  output  \n",
       "age                                \n",
       "(55, 65]  114  114    114     114  \n",
       "(45, 55]   88   88     88      88  \n",
       "(35, 45]   57   57     57      57  \n",
       "(65, 75]   30   30     30      30  \n",
       "(25, 35]    7    7      7       7  \n",
       "(75, 85]    2    2      2       2  "
      ]
     },
     "execution_count": 17,
     "metadata": {},
     "output_type": "execute_result"
    }
   ],
   "source": [
    "# Aggregate by Count()\n",
    "df.groupby(pd.cut(df.age,[25,35,45,55,65,75,85])).count().sort_values('output', ascending=False)"
   ]
  },
  {
   "cell_type": "code",
   "execution_count": 18,
   "id": "c29fc9f5",
   "metadata": {
    "execution": {
     "iopub.execute_input": "2021-07-08T11:18:07.920378Z",
     "iopub.status.busy": "2021-07-08T11:18:07.912155Z",
     "iopub.status.idle": "2021-07-08T11:18:07.990026Z",
     "shell.execute_reply": "2021-07-08T11:18:07.989368Z",
     "shell.execute_reply.started": "2021-07-08T11:04:58.461108Z"
    },
    "papermill": {
     "duration": 0.183053,
     "end_time": "2021-07-08T11:18:07.990178",
     "exception": false,
     "start_time": "2021-07-08T11:18:07.807125",
     "status": "completed"
    },
    "tags": []
   },
   "outputs": [
    {
     "data": {
      "text/html": [
       "<div>\n",
       "<style scoped>\n",
       "    .dataframe tbody tr th:only-of-type {\n",
       "        vertical-align: middle;\n",
       "    }\n",
       "\n",
       "    .dataframe tbody tr th {\n",
       "        vertical-align: top;\n",
       "    }\n",
       "\n",
       "    .dataframe thead th {\n",
       "        text-align: right;\n",
       "    }\n",
       "</style>\n",
       "<table border=\"1\" class=\"dataframe\">\n",
       "  <thead>\n",
       "    <tr style=\"text-align: right;\">\n",
       "      <th></th>\n",
       "      <th>output</th>\n",
       "      <th>total_count</th>\n",
       "      <th>percentage</th>\n",
       "    </tr>\n",
       "    <tr>\n",
       "      <th>age</th>\n",
       "      <th></th>\n",
       "      <th></th>\n",
       "      <th></th>\n",
       "    </tr>\n",
       "  </thead>\n",
       "  <tbody>\n",
       "    <tr>\n",
       "      <th>(45, 55]</th>\n",
       "      <td>55</td>\n",
       "      <td>88</td>\n",
       "      <td>62.500000</td>\n",
       "    </tr>\n",
       "    <tr>\n",
       "      <th>(35, 45]</th>\n",
       "      <td>43</td>\n",
       "      <td>57</td>\n",
       "      <td>75.438596</td>\n",
       "    </tr>\n",
       "    <tr>\n",
       "      <th>(55, 65]</th>\n",
       "      <td>43</td>\n",
       "      <td>114</td>\n",
       "      <td>37.719298</td>\n",
       "    </tr>\n",
       "    <tr>\n",
       "      <th>(65, 75]</th>\n",
       "      <td>15</td>\n",
       "      <td>30</td>\n",
       "      <td>50.000000</td>\n",
       "    </tr>\n",
       "    <tr>\n",
       "      <th>(25, 35]</th>\n",
       "      <td>5</td>\n",
       "      <td>7</td>\n",
       "      <td>71.428571</td>\n",
       "    </tr>\n",
       "    <tr>\n",
       "      <th>(75, 85]</th>\n",
       "      <td>1</td>\n",
       "      <td>2</td>\n",
       "      <td>50.000000</td>\n",
       "    </tr>\n",
       "  </tbody>\n",
       "</table>\n",
       "</div>"
      ],
      "text/plain": [
       "          output  total_count  percentage\n",
       "age                                      \n",
       "(45, 55]      55           88   62.500000\n",
       "(35, 45]      43           57   75.438596\n",
       "(55, 65]      43          114   37.719298\n",
       "(65, 75]      15           30   50.000000\n",
       "(25, 35]       5            7   71.428571\n",
       "(75, 85]       1            2   50.000000"
      ]
     },
     "execution_count": 18,
     "metadata": {},
     "output_type": "execute_result"
    }
   ],
   "source": [
    "df_age = df.groupby(pd.cut(df.age,[25,35,45,55,65,75,85])).sum().sort_values('output', ascending=False)\n",
    "df_age['total_count'] = df.groupby(pd.cut(df.age,[25,35,45,55,65,75,85])).count().sort_values('output', ascending=False)['output']\n",
    "df_age['percentage'] = df_age['output'] / df_age['total_count'] * 100\n",
    "df_age = df_age[['output','total_count','percentage']]\n",
    "df_age"
   ]
  },
  {
   "cell_type": "code",
   "execution_count": 19,
   "id": "eb4efba4",
   "metadata": {
    "execution": {
     "iopub.execute_input": "2021-07-08T11:18:08.222309Z",
     "iopub.status.busy": "2021-07-08T11:18:08.221245Z",
     "iopub.status.idle": "2021-07-08T11:18:08.362499Z",
     "shell.execute_reply": "2021-07-08T11:18:08.361932Z",
     "shell.execute_reply.started": "2021-07-08T11:04:58.504276Z"
    },
    "papermill": {
     "duration": 0.280961,
     "end_time": "2021-07-08T11:18:08.362650",
     "exception": false,
     "start_time": "2021-07-08T11:18:08.081689",
     "status": "completed"
    },
    "tags": []
   },
   "outputs": [
    {
     "data": {
      "text/plain": [
       "<AxesSubplot:xlabel='age', ylabel='Count'>"
      ]
     },
     "execution_count": 19,
     "metadata": {},
     "output_type": "execute_result"
    },
    {
     "data": {
      "image/png": "[encoded data removed]",
      "text/plain": [
       "<Figure size 432x288 with 1 Axes>"
      ]
     },
     "metadata": {},
     "output_type": "display_data"
    }
   ],
   "source": [
    "sns.histplot(df.age,bins=6)"
   ]
  },
  {
   "cell_type": "markdown",
   "id": "0273cb04",
   "metadata": {
    "papermill": {
     "duration": 0.092582,
     "end_time": "2021-07-08T11:18:08.549297",
     "exception": false,
     "start_time": "2021-07-08T11:18:08.456715",
     "status": "completed"
    },
    "tags": []
   },
   "source": [
    "By above observation we don't able to say 35 - 65 have more chances of heart attacks because,\n",
    "\n",
    "We have very less data for saying 25-35 and 65-85 has less heart attacks\n",
    "\n",
    "So, we can't direct jump on colnclusion, we need more data"
   ]
  },
  {
   "cell_type": "markdown",
   "id": "da28ea8d",
   "metadata": {
    "papermill": {
     "duration": 0.092154,
     "end_time": "2021-07-08T11:18:08.733896",
     "exception": false,
     "start_time": "2021-07-08T11:18:08.641742",
     "status": "completed"
    },
    "tags": []
   },
   "source": [
    "# Sex"
   ]
  },
  {
   "cell_type": "markdown",
   "id": "b32f9370",
   "metadata": {
    "papermill": {
     "duration": 0.093693,
     "end_time": "2021-07-08T11:18:08.919981",
     "exception": false,
     "start_time": "2021-07-08T11:18:08.826288",
     "status": "completed"
    },
    "tags": []
   },
   "source": [
    "## Male Female who is more likely to have heart problem ?"
   ]
  },
  {
   "cell_type": "markdown",
   "id": "5082295f",
   "metadata": {
    "papermill": {
     "duration": 0.092016,
     "end_time": "2021-07-08T11:18:09.105784",
     "exception": false,
     "start_time": "2021-07-08T11:18:09.013768",
     "status": "completed"
    },
    "tags": []
   },
   "source": [
    "* 0 : Female\n",
    "* 1 : Male"
   ]
  },
  {
   "cell_type": "code",
   "execution_count": 20,
   "id": "031ecfc1",
   "metadata": {
    "execution": {
     "iopub.execute_input": "2021-07-08T11:18:09.298287Z",
     "iopub.status.busy": "2021-07-08T11:18:09.295148Z",
     "iopub.status.idle": "2021-07-08T11:18:09.301800Z",
     "shell.execute_reply": "2021-07-08T11:18:09.302392Z",
     "shell.execute_reply.started": "2021-07-08T11:04:58.662984Z"
    },
    "papermill": {
     "duration": 0.104612,
     "end_time": "2021-07-08T11:18:09.302568",
     "exception": false,
     "start_time": "2021-07-08T11:18:09.197956",
     "status": "completed"
    },
    "tags": []
   },
   "outputs": [
    {
     "data": {
      "text/plain": [
       "1    69.463087\n",
       "0    30.536913\n",
       "Name: sex, dtype: float64"
      ]
     },
     "execution_count": 20,
     "metadata": {},
     "output_type": "execute_result"
    }
   ],
   "source": [
    "df.sex.value_counts()/len(df)*100"
   ]
  },
  {
   "cell_type": "markdown",
   "id": "42d01c00",
   "metadata": {
    "papermill": {
     "duration": 0.094315,
     "end_time": "2021-07-08T11:18:09.492006",
     "exception": false,
     "start_time": "2021-07-08T11:18:09.397691",
     "status": "completed"
    },
    "tags": []
   },
   "source": [
    "We have inbalance dataset"
   ]
  },
  {
   "cell_type": "code",
   "execution_count": 21,
   "id": "fd6dbe7e",
   "metadata": {
    "execution": {
     "iopub.execute_input": "2021-07-08T11:18:09.687678Z",
     "iopub.status.busy": "2021-07-08T11:18:09.682800Z",
     "iopub.status.idle": "2021-07-08T11:18:09.696607Z",
     "shell.execute_reply": "2021-07-08T11:18:09.697078Z",
     "shell.execute_reply.started": "2021-07-08T11:04:58.672982Z"
    },
    "papermill": {
     "duration": 0.113035,
     "end_time": "2021-07-08T11:18:09.697254",
     "exception": false,
     "start_time": "2021-07-08T11:18:09.584219",
     "status": "completed"
    },
    "tags": []
   },
   "outputs": [
    {
     "data": {
      "text/html": [
       "<div>\n",
       "<style scoped>\n",
       "    .dataframe tbody tr th:only-of-type {\n",
       "        vertical-align: middle;\n",
       "    }\n",
       "\n",
       "    .dataframe tbody tr th {\n",
       "        vertical-align: top;\n",
       "    }\n",
       "\n",
       "    .dataframe thead th {\n",
       "        text-align: right;\n",
       "    }\n",
       "</style>\n",
       "<table border=\"1\" class=\"dataframe\">\n",
       "  <thead>\n",
       "    <tr style=\"text-align: right;\">\n",
       "      <th></th>\n",
       "      <th>age</th>\n",
       "      <th>cp</th>\n",
       "      <th>trtbps</th>\n",
       "      <th>chol</th>\n",
       "      <th>fbs</th>\n",
       "      <th>restecg</th>\n",
       "      <th>thalachh</th>\n",
       "      <th>exng</th>\n",
       "      <th>oldpeak</th>\n",
       "      <th>slp</th>\n",
       "      <th>caa</th>\n",
       "      <th>thall</th>\n",
       "      <th>output</th>\n",
       "    </tr>\n",
       "    <tr>\n",
       "      <th>sex</th>\n",
       "      <th></th>\n",
       "      <th></th>\n",
       "      <th></th>\n",
       "      <th></th>\n",
       "      <th></th>\n",
       "      <th></th>\n",
       "      <th></th>\n",
       "      <th></th>\n",
       "      <th></th>\n",
       "      <th></th>\n",
       "      <th></th>\n",
       "      <th></th>\n",
       "      <th></th>\n",
       "    </tr>\n",
       "  </thead>\n",
       "  <tbody>\n",
       "    <tr>\n",
       "      <th>0</th>\n",
       "      <td>5032</td>\n",
       "      <td>96</td>\n",
       "      <td>12097</td>\n",
       "      <td>22894</td>\n",
       "      <td>11</td>\n",
       "      <td>55</td>\n",
       "      <td>13730</td>\n",
       "      <td>21</td>\n",
       "      <td>74.6</td>\n",
       "      <td>131</td>\n",
       "      <td>47</td>\n",
       "      <td>191</td>\n",
       "      <td>69</td>\n",
       "    </tr>\n",
       "    <tr>\n",
       "      <th>1</th>\n",
       "      <td>11128</td>\n",
       "      <td>193</td>\n",
       "      <td>27106</td>\n",
       "      <td>49533</td>\n",
       "      <td>33</td>\n",
       "      <td>105</td>\n",
       "      <td>30835</td>\n",
       "      <td>77</td>\n",
       "      <td>230.9</td>\n",
       "      <td>287</td>\n",
       "      <td>168</td>\n",
       "      <td>497</td>\n",
       "      <td>93</td>\n",
       "    </tr>\n",
       "  </tbody>\n",
       "</table>\n",
       "</div>"
      ],
      "text/plain": [
       "       age   cp  trtbps   chol  fbs  restecg  thalachh  exng  oldpeak  slp  \\\n",
       "sex                                                                          \n",
       "0     5032   96   12097  22894   11       55     13730    21     74.6  131   \n",
       "1    11128  193   27106  49533   33      105     30835    77    230.9  287   \n",
       "\n",
       "     caa  thall  output  \n",
       "sex                      \n",
       "0     47    191      69  \n",
       "1    168    497      93  "
      ]
     },
     "execution_count": 21,
     "metadata": {},
     "output_type": "execute_result"
    }
   ],
   "source": [
    "df.groupby('sex').sum()"
   ]
  },
  {
   "cell_type": "markdown",
   "id": "c753f550",
   "metadata": {
    "papermill": {
     "duration": 0.092394,
     "end_time": "2021-07-08T11:18:09.881974",
     "exception": false,
     "start_time": "2021-07-08T11:18:09.789580",
     "status": "completed"
    },
    "tags": []
   },
   "source": [
    "By sum we can easily see Male get more heart attacks But..."
   ]
  },
  {
   "cell_type": "code",
   "execution_count": 22,
   "id": "ef11ddd4",
   "metadata": {
    "execution": {
     "iopub.execute_input": "2021-07-08T11:18:10.081059Z",
     "iopub.status.busy": "2021-07-08T11:18:10.074119Z",
     "iopub.status.idle": "2021-07-08T11:18:10.092509Z",
     "shell.execute_reply": "2021-07-08T11:18:10.091955Z",
     "shell.execute_reply.started": "2021-07-08T11:04:58.699254Z"
    },
    "papermill": {
     "duration": 0.117461,
     "end_time": "2021-07-08T11:18:10.092653",
     "exception": false,
     "start_time": "2021-07-08T11:18:09.975192",
     "status": "completed"
    },
    "tags": []
   },
   "outputs": [
    {
     "data": {
      "text/html": [
       "<div>\n",
       "<style scoped>\n",
       "    .dataframe tbody tr th:only-of-type {\n",
       "        vertical-align: middle;\n",
       "    }\n",
       "\n",
       "    .dataframe tbody tr th {\n",
       "        vertical-align: top;\n",
       "    }\n",
       "\n",
       "    .dataframe thead th {\n",
       "        text-align: right;\n",
       "    }\n",
       "</style>\n",
       "<table border=\"1\" class=\"dataframe\">\n",
       "  <thead>\n",
       "    <tr style=\"text-align: right;\">\n",
       "      <th></th>\n",
       "      <th>age</th>\n",
       "      <th>cp</th>\n",
       "      <th>trtbps</th>\n",
       "      <th>chol</th>\n",
       "      <th>fbs</th>\n",
       "      <th>restecg</th>\n",
       "      <th>thalachh</th>\n",
       "      <th>exng</th>\n",
       "      <th>oldpeak</th>\n",
       "      <th>slp</th>\n",
       "      <th>caa</th>\n",
       "      <th>thall</th>\n",
       "      <th>output</th>\n",
       "    </tr>\n",
       "    <tr>\n",
       "      <th>sex</th>\n",
       "      <th></th>\n",
       "      <th></th>\n",
       "      <th></th>\n",
       "      <th></th>\n",
       "      <th></th>\n",
       "      <th></th>\n",
       "      <th></th>\n",
       "      <th></th>\n",
       "      <th></th>\n",
       "      <th></th>\n",
       "      <th></th>\n",
       "      <th></th>\n",
       "      <th></th>\n",
       "    </tr>\n",
       "  </thead>\n",
       "  <tbody>\n",
       "    <tr>\n",
       "      <th>0</th>\n",
       "      <td>55.296703</td>\n",
       "      <td>1.054945</td>\n",
       "      <td>132.934066</td>\n",
       "      <td>251.582418</td>\n",
       "      <td>0.120879</td>\n",
       "      <td>0.604396</td>\n",
       "      <td>150.879121</td>\n",
       "      <td>0.230769</td>\n",
       "      <td>0.819780</td>\n",
       "      <td>1.439560</td>\n",
       "      <td>0.516484</td>\n",
       "      <td>2.098901</td>\n",
       "      <td>0.758242</td>\n",
       "    </tr>\n",
       "    <tr>\n",
       "      <th>1</th>\n",
       "      <td>53.758454</td>\n",
       "      <td>0.932367</td>\n",
       "      <td>130.946860</td>\n",
       "      <td>239.289855</td>\n",
       "      <td>0.159420</td>\n",
       "      <td>0.507246</td>\n",
       "      <td>148.961353</td>\n",
       "      <td>0.371981</td>\n",
       "      <td>1.115459</td>\n",
       "      <td>1.386473</td>\n",
       "      <td>0.811594</td>\n",
       "      <td>2.400966</td>\n",
       "      <td>0.449275</td>\n",
       "    </tr>\n",
       "  </tbody>\n",
       "</table>\n",
       "</div>"
      ],
      "text/plain": [
       "           age        cp      trtbps        chol       fbs   restecg  \\\n",
       "sex                                                                    \n",
       "0    55.296703  1.054945  132.934066  251.582418  0.120879  0.604396   \n",
       "1    53.758454  0.932367  130.946860  239.289855  0.159420  0.507246   \n",
       "\n",
       "       thalachh      exng   oldpeak       slp       caa     thall    output  \n",
       "sex                                                                          \n",
       "0    150.879121  0.230769  0.819780  1.439560  0.516484  2.098901  0.758242  \n",
       "1    148.961353  0.371981  1.115459  1.386473  0.811594  2.400966  0.449275  "
      ]
     },
     "execution_count": 22,
     "metadata": {},
     "output_type": "execute_result"
    }
   ],
   "source": [
    "df.groupby('sex').mean()"
   ]
  },
  {
   "cell_type": "markdown",
   "id": "8c6c27a2",
   "metadata": {
    "papermill": {
     "duration": 0.093348,
     "end_time": "2021-07-08T11:18:10.279055",
     "exception": false,
     "start_time": "2021-07-08T11:18:10.185707",
     "status": "completed"
    },
    "tags": []
   },
   "source": [
    "Mean show completely different picture here, they show female gets more heart attack, HOW??"
   ]
  },
  {
   "cell_type": "markdown",
   "id": "2d2a1d22",
   "metadata": {
    "papermill": {
     "duration": 0.094374,
     "end_time": "2021-07-08T11:18:10.468443",
     "exception": false,
     "start_time": "2021-07-08T11:18:10.374069",
     "status": "completed"
    },
    "tags": []
   },
   "source": [
    "because male has more data points mean value decrese\n",
    "\n",
    "\n",
    "and female has less data points their mean value increase\n",
    "\n",
    "Imbalance dataset"
   ]
  },
  {
   "cell_type": "code",
   "execution_count": 23,
   "id": "9eda7dec",
   "metadata": {
    "execution": {
     "iopub.execute_input": "2021-07-08T11:18:10.723380Z",
     "iopub.status.busy": "2021-07-08T11:18:10.720452Z",
     "iopub.status.idle": "2021-07-08T11:18:10.865910Z",
     "shell.execute_reply": "2021-07-08T11:18:10.866391Z",
     "shell.execute_reply.started": "2021-07-08T11:04:58.727515Z"
    },
    "papermill": {
     "duration": 0.305347,
     "end_time": "2021-07-08T11:18:10.866574",
     "exception": false,
     "start_time": "2021-07-08T11:18:10.561227",
     "status": "completed"
    },
    "tags": []
   },
   "outputs": [
    {
     "data": {
      "text/plain": [
       "<matplotlib.legend.Legend at 0x7f80e8523b50>"
      ]
     },
     "execution_count": 23,
     "metadata": {},
     "output_type": "execute_result"
    },
    {
     "data": {
      "image/png": "[encoded data removed]",
      "text/plain": [
       "<Figure size 432x288 with 1 Axes>"
      ]
     },
     "metadata": {},
     "output_type": "display_data"
    }
   ],
   "source": [
    "sns.kdeplot(df.loc[df['output'] == 0, 'sex'], label = 'output 0')\n",
    "sns.kdeplot(df.loc[df['output'] == 1, 'sex'], label = 'output 1')\n",
    "plt.legend()"
   ]
  },
  {
   "cell_type": "markdown",
   "id": "12e60bde",
   "metadata": {
    "papermill": {
     "duration": 0.095415,
     "end_time": "2021-07-08T11:18:11.057189",
     "exception": false,
     "start_time": "2021-07-08T11:18:10.961774",
     "status": "completed"
    },
    "tags": []
   },
   "source": [
    "* We can say Female has more probability of attacks by seeing kdeplot"
   ]
  },
  {
   "cell_type": "code",
   "execution_count": 24,
   "id": "89a15aff",
   "metadata": {
    "execution": {
     "iopub.execute_input": "2021-07-08T11:18:11.253819Z",
     "iopub.status.busy": "2021-07-08T11:18:11.253161Z",
     "iopub.status.idle": "2021-07-08T11:18:11.262555Z",
     "shell.execute_reply": "2021-07-08T11:18:11.263091Z",
     "shell.execute_reply.started": "2021-07-08T11:04:58.930076Z"
    },
    "papermill": {
     "duration": 0.109567,
     "end_time": "2021-07-08T11:18:11.263289",
     "exception": false,
     "start_time": "2021-07-08T11:18:11.153722",
     "status": "completed"
    },
    "tags": []
   },
   "outputs": [],
   "source": [
    "# copy dataframe to another varible\n",
    "df_se_ag = df.copy()\n",
    "\n",
    "# create seperate variable for both sex\n",
    "df_se_ag['female'] = np.where(df_se_ag.sex == 0,1,0)\n",
    "df_se_ag['male'] = np.where(df_se_ag.sex == 1,1,0)\n",
    "\n",
    "# seperate output variable base on sex\n",
    "df_se_ag['out_female'] = np.where(df_se_ag.sex == 0,df_se_ag.output,0)\n",
    "df_se_ag['out_male'] = np.where(df_se_ag.sex == 1,df_se_ag.output,0)"
   ]
  },
  {
   "cell_type": "markdown",
   "id": "38462c63",
   "metadata": {
    "papermill": {
     "duration": 0.102141,
     "end_time": "2021-07-08T11:18:11.481461",
     "exception": false,
     "start_time": "2021-07-08T11:18:11.379320",
     "status": "completed"
    },
    "tags": []
   },
   "source": [
    "because values are between 1 and 0 when we add them we only get count of 1"
   ]
  },
  {
   "cell_type": "code",
   "execution_count": 25,
   "id": "62a096fd",
   "metadata": {
    "execution": {
     "iopub.execute_input": "2021-07-08T11:18:11.674922Z",
     "iopub.status.busy": "2021-07-08T11:18:11.674272Z",
     "iopub.status.idle": "2021-07-08T11:18:11.698100Z",
     "shell.execute_reply": "2021-07-08T11:18:11.697541Z",
     "shell.execute_reply.started": "2021-07-08T11:04:58.942430Z"
    },
    "papermill": {
     "duration": 0.120921,
     "end_time": "2021-07-08T11:18:11.698246",
     "exception": false,
     "start_time": "2021-07-08T11:18:11.577325",
     "status": "completed"
    },
    "tags": []
   },
   "outputs": [
    {
     "data": {
      "text/html": [
       "<div>\n",
       "<style scoped>\n",
       "    .dataframe tbody tr th:only-of-type {\n",
       "        vertical-align: middle;\n",
       "    }\n",
       "\n",
       "    .dataframe tbody tr th {\n",
       "        vertical-align: top;\n",
       "    }\n",
       "\n",
       "    .dataframe thead th {\n",
       "        text-align: right;\n",
       "    }\n",
       "</style>\n",
       "<table border=\"1\" class=\"dataframe\">\n",
       "  <thead>\n",
       "    <tr style=\"text-align: right;\">\n",
       "      <th></th>\n",
       "      <th>female</th>\n",
       "      <th>male</th>\n",
       "      <th>out_female</th>\n",
       "      <th>out_male</th>\n",
       "    </tr>\n",
       "    <tr>\n",
       "      <th>age</th>\n",
       "      <th></th>\n",
       "      <th></th>\n",
       "      <th></th>\n",
       "      <th></th>\n",
       "    </tr>\n",
       "  </thead>\n",
       "  <tbody>\n",
       "    <tr>\n",
       "      <th>(25, 35]</th>\n",
       "      <td>2</td>\n",
       "      <td>5</td>\n",
       "      <td>2</td>\n",
       "      <td>3</td>\n",
       "    </tr>\n",
       "    <tr>\n",
       "      <th>(35, 45]</th>\n",
       "      <td>16</td>\n",
       "      <td>41</td>\n",
       "      <td>15</td>\n",
       "      <td>28</td>\n",
       "    </tr>\n",
       "    <tr>\n",
       "      <th>(45, 55]</th>\n",
       "      <td>26</td>\n",
       "      <td>62</td>\n",
       "      <td>23</td>\n",
       "      <td>32</td>\n",
       "    </tr>\n",
       "    <tr>\n",
       "      <th>(55, 65]</th>\n",
       "      <td>35</td>\n",
       "      <td>79</td>\n",
       "      <td>18</td>\n",
       "      <td>25</td>\n",
       "    </tr>\n",
       "    <tr>\n",
       "      <th>(65, 75]</th>\n",
       "      <td>11</td>\n",
       "      <td>19</td>\n",
       "      <td>10</td>\n",
       "      <td>5</td>\n",
       "    </tr>\n",
       "    <tr>\n",
       "      <th>(75, 85]</th>\n",
       "      <td>1</td>\n",
       "      <td>1</td>\n",
       "      <td>1</td>\n",
       "      <td>0</td>\n",
       "    </tr>\n",
       "  </tbody>\n",
       "</table>\n",
       "</div>"
      ],
      "text/plain": [
       "          female  male  out_female  out_male\n",
       "age                                         \n",
       "(25, 35]       2     5           2         3\n",
       "(35, 45]      16    41          15        28\n",
       "(45, 55]      26    62          23        32\n",
       "(55, 65]      35    79          18        25\n",
       "(65, 75]      11    19          10         5\n",
       "(75, 85]       1     1           1         0"
      ]
     },
     "execution_count": 25,
     "metadata": {},
     "output_type": "execute_result"
    }
   ],
   "source": [
    "# apply groupby function by age\n",
    "# take only necessary columns\n",
    "ma_fe_df = df_se_ag.groupby(pd.cut(df_se_ag.age,[25,35,45,55,65,75,85])).sum()[['female','male','out_female','out_male']]\n",
    "ma_fe_df"
   ]
  },
  {
   "cell_type": "markdown",
   "id": "4df30866",
   "metadata": {
    "papermill": {
     "duration": 0.09494,
     "end_time": "2021-07-08T11:18:11.888463",
     "exception": false,
     "start_time": "2021-07-08T11:18:11.793523",
     "status": "completed"
    },
    "tags": []
   },
   "source": [
    "`out_female` and `out_male` feature is show total number of heart attack paitent "
   ]
  },
  {
   "cell_type": "code",
   "execution_count": 26,
   "id": "58fa3437",
   "metadata": {
    "execution": {
     "iopub.execute_input": "2021-07-08T11:18:12.145622Z",
     "iopub.status.busy": "2021-07-08T11:18:12.144969Z",
     "iopub.status.idle": "2021-07-08T11:18:12.147673Z",
     "shell.execute_reply": "2021-07-08T11:18:12.148263Z",
     "shell.execute_reply.started": "2021-07-08T11:04:58.974738Z"
    },
    "papermill": {
     "duration": 0.114052,
     "end_time": "2021-07-08T11:18:12.148427",
     "exception": false,
     "start_time": "2021-07-08T11:18:12.034375",
     "status": "completed"
    },
    "tags": []
   },
   "outputs": [
    {
     "data": {
      "text/html": [
       "<div>\n",
       "<style scoped>\n",
       "    .dataframe tbody tr th:only-of-type {\n",
       "        vertical-align: middle;\n",
       "    }\n",
       "\n",
       "    .dataframe tbody tr th {\n",
       "        vertical-align: top;\n",
       "    }\n",
       "\n",
       "    .dataframe thead th {\n",
       "        text-align: right;\n",
       "    }\n",
       "</style>\n",
       "<table border=\"1\" class=\"dataframe\">\n",
       "  <thead>\n",
       "    <tr style=\"text-align: right;\">\n",
       "      <th></th>\n",
       "      <th>female</th>\n",
       "      <th>male</th>\n",
       "      <th>out_female</th>\n",
       "      <th>out_male</th>\n",
       "      <th>per_female</th>\n",
       "      <th>per_male</th>\n",
       "    </tr>\n",
       "    <tr>\n",
       "      <th>age</th>\n",
       "      <th></th>\n",
       "      <th></th>\n",
       "      <th></th>\n",
       "      <th></th>\n",
       "      <th></th>\n",
       "      <th></th>\n",
       "    </tr>\n",
       "  </thead>\n",
       "  <tbody>\n",
       "    <tr>\n",
       "      <th>(25, 35]</th>\n",
       "      <td>2</td>\n",
       "      <td>5</td>\n",
       "      <td>2</td>\n",
       "      <td>3</td>\n",
       "      <td>100.000000</td>\n",
       "      <td>60.000000</td>\n",
       "    </tr>\n",
       "    <tr>\n",
       "      <th>(35, 45]</th>\n",
       "      <td>16</td>\n",
       "      <td>41</td>\n",
       "      <td>15</td>\n",
       "      <td>28</td>\n",
       "      <td>93.750000</td>\n",
       "      <td>68.292683</td>\n",
       "    </tr>\n",
       "    <tr>\n",
       "      <th>(45, 55]</th>\n",
       "      <td>26</td>\n",
       "      <td>62</td>\n",
       "      <td>23</td>\n",
       "      <td>32</td>\n",
       "      <td>88.461538</td>\n",
       "      <td>51.612903</td>\n",
       "    </tr>\n",
       "    <tr>\n",
       "      <th>(55, 65]</th>\n",
       "      <td>35</td>\n",
       "      <td>79</td>\n",
       "      <td>18</td>\n",
       "      <td>25</td>\n",
       "      <td>51.428571</td>\n",
       "      <td>31.645570</td>\n",
       "    </tr>\n",
       "    <tr>\n",
       "      <th>(65, 75]</th>\n",
       "      <td>11</td>\n",
       "      <td>19</td>\n",
       "      <td>10</td>\n",
       "      <td>5</td>\n",
       "      <td>90.909091</td>\n",
       "      <td>26.315789</td>\n",
       "    </tr>\n",
       "    <tr>\n",
       "      <th>(75, 85]</th>\n",
       "      <td>1</td>\n",
       "      <td>1</td>\n",
       "      <td>1</td>\n",
       "      <td>0</td>\n",
       "      <td>100.000000</td>\n",
       "      <td>0.000000</td>\n",
       "    </tr>\n",
       "  </tbody>\n",
       "</table>\n",
       "</div>"
      ],
      "text/plain": [
       "          female  male  out_female  out_male  per_female   per_male\n",
       "age                                                                \n",
       "(25, 35]       2     5           2         3  100.000000  60.000000\n",
       "(35, 45]      16    41          15        28   93.750000  68.292683\n",
       "(45, 55]      26    62          23        32   88.461538  51.612903\n",
       "(55, 65]      35    79          18        25   51.428571  31.645570\n",
       "(65, 75]      11    19          10         5   90.909091  26.315789\n",
       "(75, 85]       1     1           1         0  100.000000   0.000000"
      ]
     },
     "execution_count": 26,
     "metadata": {},
     "output_type": "execute_result"
    }
   ],
   "source": [
    "# find out percentage \n",
    "ma_fe_df['per_female'] = ma_fe_df['out_female'] / ma_fe_df['female'] *100\n",
    "ma_fe_df['per_male'] = ma_fe_df['out_male'] / ma_fe_df['male']*100\n",
    "\n",
    "ma_fe_df"
   ]
  },
  {
   "cell_type": "markdown",
   "id": "eed0a75b",
   "metadata": {
    "papermill": {
     "duration": 0.096553,
     "end_time": "2021-07-08T11:18:12.341828",
     "exception": false,
     "start_time": "2021-07-08T11:18:12.245275",
     "status": "completed"
    },
    "tags": []
   },
   "source": [
    "Again we confirm our previous statement by seeing agewise male female\n",
    "\n",
    "Female has more probably of heart attacks as compare to Male"
   ]
  },
  {
   "cell_type": "markdown",
   "id": "49429637",
   "metadata": {
    "papermill": {
     "duration": 0.098294,
     "end_time": "2021-07-08T11:18:12.537464",
     "exception": false,
     "start_time": "2021-07-08T11:18:12.439170",
     "status": "completed"
    },
    "tags": []
   },
   "source": [
    "# Cholestrol"
   ]
  },
  {
   "cell_type": "code",
   "execution_count": 27,
   "id": "f9a16535",
   "metadata": {
    "execution": {
     "iopub.execute_input": "2021-07-08T11:18:12.740158Z",
     "iopub.status.busy": "2021-07-08T11:18:12.739346Z",
     "iopub.status.idle": "2021-07-08T11:18:12.762618Z",
     "shell.execute_reply": "2021-07-08T11:18:12.762115Z",
     "shell.execute_reply.started": "2021-07-08T11:04:58.994426Z"
    },
    "papermill": {
     "duration": 0.125621,
     "end_time": "2021-07-08T11:18:12.762768",
     "exception": false,
     "start_time": "2021-07-08T11:18:12.637147",
     "status": "completed"
    },
    "tags": []
   },
   "outputs": [
    {
     "data": {
      "text/html": [
       "<div>\n",
       "<style scoped>\n",
       "    .dataframe tbody tr th:only-of-type {\n",
       "        vertical-align: middle;\n",
       "    }\n",
       "\n",
       "    .dataframe tbody tr th {\n",
       "        vertical-align: top;\n",
       "    }\n",
       "\n",
       "    .dataframe thead th {\n",
       "        text-align: right;\n",
       "    }\n",
       "</style>\n",
       "<table border=\"1\" class=\"dataframe\">\n",
       "  <thead>\n",
       "    <tr style=\"text-align: right;\">\n",
       "      <th></th>\n",
       "      <th>age</th>\n",
       "      <th>sex</th>\n",
       "      <th>cp</th>\n",
       "      <th>trtbps</th>\n",
       "      <th>fbs</th>\n",
       "      <th>restecg</th>\n",
       "      <th>thalachh</th>\n",
       "      <th>exng</th>\n",
       "      <th>oldpeak</th>\n",
       "      <th>slp</th>\n",
       "      <th>caa</th>\n",
       "      <th>thall</th>\n",
       "      <th>output</th>\n",
       "    </tr>\n",
       "    <tr>\n",
       "      <th>chol</th>\n",
       "      <th></th>\n",
       "      <th></th>\n",
       "      <th></th>\n",
       "      <th></th>\n",
       "      <th></th>\n",
       "      <th></th>\n",
       "      <th></th>\n",
       "      <th></th>\n",
       "      <th></th>\n",
       "      <th></th>\n",
       "      <th></th>\n",
       "      <th></th>\n",
       "      <th></th>\n",
       "    </tr>\n",
       "  </thead>\n",
       "  <tbody>\n",
       "    <tr>\n",
       "      <th>126</th>\n",
       "      <td>57</td>\n",
       "      <td>1</td>\n",
       "      <td>2</td>\n",
       "      <td>150</td>\n",
       "      <td>1</td>\n",
       "      <td>1</td>\n",
       "      <td>173</td>\n",
       "      <td>0</td>\n",
       "      <td>0.2</td>\n",
       "      <td>2</td>\n",
       "      <td>1</td>\n",
       "      <td>3</td>\n",
       "      <td>1</td>\n",
       "    </tr>\n",
       "    <tr>\n",
       "      <th>131</th>\n",
       "      <td>57</td>\n",
       "      <td>1</td>\n",
       "      <td>0</td>\n",
       "      <td>130</td>\n",
       "      <td>0</td>\n",
       "      <td>1</td>\n",
       "      <td>115</td>\n",
       "      <td>1</td>\n",
       "      <td>1.2</td>\n",
       "      <td>1</td>\n",
       "      <td>1</td>\n",
       "      <td>3</td>\n",
       "      <td>0</td>\n",
       "    </tr>\n",
       "    <tr>\n",
       "      <th>141</th>\n",
       "      <td>44</td>\n",
       "      <td>0</td>\n",
       "      <td>2</td>\n",
       "      <td>108</td>\n",
       "      <td>0</td>\n",
       "      <td>1</td>\n",
       "      <td>175</td>\n",
       "      <td>0</td>\n",
       "      <td>0.6</td>\n",
       "      <td>1</td>\n",
       "      <td>0</td>\n",
       "      <td>2</td>\n",
       "      <td>1</td>\n",
       "    </tr>\n",
       "    <tr>\n",
       "      <th>149</th>\n",
       "      <td>120</td>\n",
       "      <td>1</td>\n",
       "      <td>2</td>\n",
       "      <td>230</td>\n",
       "      <td>0</td>\n",
       "      <td>1</td>\n",
       "      <td>251</td>\n",
       "      <td>0</td>\n",
       "      <td>2.4</td>\n",
       "      <td>3</td>\n",
       "      <td>3</td>\n",
       "      <td>4</td>\n",
       "      <td>1</td>\n",
       "    </tr>\n",
       "    <tr>\n",
       "      <th>157</th>\n",
       "      <td>41</td>\n",
       "      <td>1</td>\n",
       "      <td>1</td>\n",
       "      <td>120</td>\n",
       "      <td>0</td>\n",
       "      <td>1</td>\n",
       "      <td>182</td>\n",
       "      <td>0</td>\n",
       "      <td>0.0</td>\n",
       "      <td>2</td>\n",
       "      <td>0</td>\n",
       "      <td>2</td>\n",
       "      <td>1</td>\n",
       "    </tr>\n",
       "    <tr>\n",
       "      <th>...</th>\n",
       "      <td>...</td>\n",
       "      <td>...</td>\n",
       "      <td>...</td>\n",
       "      <td>...</td>\n",
       "      <td>...</td>\n",
       "      <td>...</td>\n",
       "      <td>...</td>\n",
       "      <td>...</td>\n",
       "      <td>...</td>\n",
       "      <td>...</td>\n",
       "      <td>...</td>\n",
       "      <td>...</td>\n",
       "      <td>...</td>\n",
       "    </tr>\n",
       "    <tr>\n",
       "      <th>341</th>\n",
       "      <td>43</td>\n",
       "      <td>0</td>\n",
       "      <td>0</td>\n",
       "      <td>132</td>\n",
       "      <td>1</td>\n",
       "      <td>0</td>\n",
       "      <td>136</td>\n",
       "      <td>1</td>\n",
       "      <td>3.0</td>\n",
       "      <td>1</td>\n",
       "      <td>0</td>\n",
       "      <td>3</td>\n",
       "      <td>0</td>\n",
       "    </tr>\n",
       "    <tr>\n",
       "      <th>342</th>\n",
       "      <td>55</td>\n",
       "      <td>0</td>\n",
       "      <td>1</td>\n",
       "      <td>132</td>\n",
       "      <td>0</td>\n",
       "      <td>1</td>\n",
       "      <td>166</td>\n",
       "      <td>0</td>\n",
       "      <td>1.2</td>\n",
       "      <td>2</td>\n",
       "      <td>0</td>\n",
       "      <td>2</td>\n",
       "      <td>1</td>\n",
       "    </tr>\n",
       "    <tr>\n",
       "      <th>353</th>\n",
       "      <td>55</td>\n",
       "      <td>1</td>\n",
       "      <td>0</td>\n",
       "      <td>132</td>\n",
       "      <td>0</td>\n",
       "      <td>1</td>\n",
       "      <td>132</td>\n",
       "      <td>1</td>\n",
       "      <td>1.2</td>\n",
       "      <td>1</td>\n",
       "      <td>1</td>\n",
       "      <td>3</td>\n",
       "      <td>0</td>\n",
       "    </tr>\n",
       "    <tr>\n",
       "      <th>354</th>\n",
       "      <td>57</td>\n",
       "      <td>0</td>\n",
       "      <td>0</td>\n",
       "      <td>120</td>\n",
       "      <td>0</td>\n",
       "      <td>1</td>\n",
       "      <td>163</td>\n",
       "      <td>1</td>\n",
       "      <td>0.6</td>\n",
       "      <td>2</td>\n",
       "      <td>0</td>\n",
       "      <td>2</td>\n",
       "      <td>1</td>\n",
       "    </tr>\n",
       "    <tr>\n",
       "      <th>360</th>\n",
       "      <td>65</td>\n",
       "      <td>0</td>\n",
       "      <td>2</td>\n",
       "      <td>160</td>\n",
       "      <td>0</td>\n",
       "      <td>0</td>\n",
       "      <td>151</td>\n",
       "      <td>0</td>\n",
       "      <td>0.8</td>\n",
       "      <td>2</td>\n",
       "      <td>0</td>\n",
       "      <td>2</td>\n",
       "      <td>1</td>\n",
       "    </tr>\n",
       "  </tbody>\n",
       "</table>\n",
       "<p>147 rows × 13 columns</p>\n",
       "</div>"
      ],
      "text/plain": [
       "      age  sex  cp  trtbps  fbs  restecg  thalachh  exng  oldpeak  slp  caa  \\\n",
       "chol                                                                          \n",
       "126    57    1   2     150    1        1       173     0      0.2    2    1   \n",
       "131    57    1   0     130    0        1       115     1      1.2    1    1   \n",
       "141    44    0   2     108    0        1       175     0      0.6    1    0   \n",
       "149   120    1   2     230    0        1       251     0      2.4    3    3   \n",
       "157    41    1   1     120    0        1       182     0      0.0    2    0   \n",
       "...   ...  ...  ..     ...  ...      ...       ...   ...      ...  ...  ...   \n",
       "341    43    0   0     132    1        0       136     1      3.0    1    0   \n",
       "342    55    0   1     132    0        1       166     0      1.2    2    0   \n",
       "353    55    1   0     132    0        1       132     1      1.2    1    1   \n",
       "354    57    0   0     120    0        1       163     1      0.6    2    0   \n",
       "360    65    0   2     160    0        0       151     0      0.8    2    0   \n",
       "\n",
       "      thall  output  \n",
       "chol                 \n",
       "126       3       1  \n",
       "131       3       0  \n",
       "141       2       1  \n",
       "149       4       1  \n",
       "157       2       1  \n",
       "...     ...     ...  \n",
       "341       3       0  \n",
       "342       2       1  \n",
       "353       3       0  \n",
       "354       2       1  \n",
       "360       2       1  \n",
       "\n",
       "[147 rows x 13 columns]"
      ]
     },
     "execution_count": 27,
     "metadata": {},
     "output_type": "execute_result"
    }
   ],
   "source": [
    "df.groupby('chol').sum()"
   ]
  },
  {
   "cell_type": "markdown",
   "id": "1d8d00c5",
   "metadata": {
    "papermill": {
     "duration": 0.096856,
     "end_time": "2021-07-08T11:18:12.957909",
     "exception": false,
     "start_time": "2021-07-08T11:18:12.861053",
     "status": "completed"
    },
    "tags": []
   },
   "source": [
    "** At first glance anybody can say cholestrol above 192 is more chances of heart diseases **\n",
    "\n",
    "\n",
    "There is BIG BUT.."
   ]
  },
  {
   "cell_type": "code",
   "execution_count": 28,
   "id": "0881faa3",
   "metadata": {
    "execution": {
     "iopub.execute_input": "2021-07-08T11:18:13.184229Z",
     "iopub.status.busy": "2021-07-08T11:18:13.183525Z",
     "iopub.status.idle": "2021-07-08T11:18:13.366027Z",
     "shell.execute_reply": "2021-07-08T11:18:13.366612Z",
     "shell.execute_reply.started": "2021-07-08T11:04:59.028973Z"
    },
    "papermill": {
     "duration": 0.311432,
     "end_time": "2021-07-08T11:18:13.366873",
     "exception": false,
     "start_time": "2021-07-08T11:18:13.055441",
     "status": "completed"
    },
    "tags": []
   },
   "outputs": [
    {
     "data": {
      "text/plain": [
       "<matplotlib.legend.Legend at 0x7f80e8351bd0>"
      ]
     },
     "execution_count": 28,
     "metadata": {},
     "output_type": "execute_result"
    },
    {
     "data": {
      "image/png": "[encoded data removed]",
      "text/plain": [
       "<Figure size 432x288 with 1 Axes>"
      ]
     },
     "metadata": {},
     "output_type": "display_data"
    }
   ],
   "source": [
    "sns.kdeplot(df.loc[df['output'] == 0, 'chol'], label = 'output 0')\n",
    "sns.kdeplot(df.loc[df['output'] == 1, 'chol'], label = 'output 1')\n",
    "plt.legend()"
   ]
  },
  {
   "cell_type": "code",
   "execution_count": 29,
   "id": "50a3c685",
   "metadata": {
    "execution": {
     "iopub.execute_input": "2021-07-08T11:18:13.569438Z",
     "iopub.status.busy": "2021-07-08T11:18:13.568705Z",
     "iopub.status.idle": "2021-07-08T11:18:13.615022Z",
     "shell.execute_reply": "2021-07-08T11:18:13.614435Z",
     "shell.execute_reply.started": "2021-07-08T11:04:59.238872Z"
    },
    "papermill": {
     "duration": 0.147694,
     "end_time": "2021-07-08T11:18:13.615160",
     "exception": false,
     "start_time": "2021-07-08T11:18:13.467466",
     "status": "completed"
    },
    "tags": []
   },
   "outputs": [
    {
     "data": {
      "text/html": [
       "<div>\n",
       "<style scoped>\n",
       "    .dataframe tbody tr th:only-of-type {\n",
       "        vertical-align: middle;\n",
       "    }\n",
       "\n",
       "    .dataframe tbody tr th {\n",
       "        vertical-align: top;\n",
       "    }\n",
       "\n",
       "    .dataframe thead th {\n",
       "        text-align: right;\n",
       "    }\n",
       "</style>\n",
       "<table border=\"1\" class=\"dataframe\">\n",
       "  <thead>\n",
       "    <tr style=\"text-align: right;\">\n",
       "      <th></th>\n",
       "      <th>age</th>\n",
       "      <th>sex</th>\n",
       "      <th>cp</th>\n",
       "      <th>trtbps</th>\n",
       "      <th>chol</th>\n",
       "      <th>fbs</th>\n",
       "      <th>restecg</th>\n",
       "      <th>thalachh</th>\n",
       "      <th>exng</th>\n",
       "      <th>oldpeak</th>\n",
       "      <th>slp</th>\n",
       "      <th>caa</th>\n",
       "      <th>thall</th>\n",
       "      <th>output</th>\n",
       "      <th>chol_count</th>\n",
       "      <th>percent</th>\n",
       "    </tr>\n",
       "    <tr>\n",
       "      <th>c_grp</th>\n",
       "      <th></th>\n",
       "      <th></th>\n",
       "      <th></th>\n",
       "      <th></th>\n",
       "      <th></th>\n",
       "      <th></th>\n",
       "      <th></th>\n",
       "      <th></th>\n",
       "      <th></th>\n",
       "      <th></th>\n",
       "      <th></th>\n",
       "      <th></th>\n",
       "      <th></th>\n",
       "      <th></th>\n",
       "      <th></th>\n",
       "      <th></th>\n",
       "    </tr>\n",
       "  </thead>\n",
       "  <tbody>\n",
       "    <tr>\n",
       "      <th>(125.766, 142.714]</th>\n",
       "      <td>158</td>\n",
       "      <td>2</td>\n",
       "      <td>4</td>\n",
       "      <td>388</td>\n",
       "      <td>398</td>\n",
       "      <td>1</td>\n",
       "      <td>3</td>\n",
       "      <td>463</td>\n",
       "      <td>1</td>\n",
       "      <td>2.0</td>\n",
       "      <td>4</td>\n",
       "      <td>2</td>\n",
       "      <td>8</td>\n",
       "      <td>2</td>\n",
       "      <td>3</td>\n",
       "      <td>66.666667</td>\n",
       "    </tr>\n",
       "    <tr>\n",
       "      <th>(142.714, 159.429]</th>\n",
       "      <td>161</td>\n",
       "      <td>2</td>\n",
       "      <td>3</td>\n",
       "      <td>350</td>\n",
       "      <td>455</td>\n",
       "      <td>0</td>\n",
       "      <td>2</td>\n",
       "      <td>433</td>\n",
       "      <td>0</td>\n",
       "      <td>2.4</td>\n",
       "      <td>5</td>\n",
       "      <td>3</td>\n",
       "      <td>6</td>\n",
       "      <td>2</td>\n",
       "      <td>3</td>\n",
       "      <td>66.666667</td>\n",
       "    </tr>\n",
       "    <tr>\n",
       "      <th>(159.429, 176.143]</th>\n",
       "      <td>606</td>\n",
       "      <td>10</td>\n",
       "      <td>9</td>\n",
       "      <td>1595</td>\n",
       "      <td>2041</td>\n",
       "      <td>1</td>\n",
       "      <td>7</td>\n",
       "      <td>1682</td>\n",
       "      <td>4</td>\n",
       "      <td>20.4</td>\n",
       "      <td>14</td>\n",
       "      <td>14</td>\n",
       "      <td>26</td>\n",
       "      <td>5</td>\n",
       "      <td>12</td>\n",
       "      <td>41.666667</td>\n",
       "    </tr>\n",
       "    <tr>\n",
       "      <th>(176.143, 192.857]</th>\n",
       "      <td>810</td>\n",
       "      <td>13</td>\n",
       "      <td>17</td>\n",
       "      <td>2060</td>\n",
       "      <td>2933</td>\n",
       "      <td>1</td>\n",
       "      <td>9</td>\n",
       "      <td>2352</td>\n",
       "      <td>5</td>\n",
       "      <td>18.6</td>\n",
       "      <td>23</td>\n",
       "      <td>8</td>\n",
       "      <td>35</td>\n",
       "      <td>9</td>\n",
       "      <td>16</td>\n",
       "      <td>56.250000</td>\n",
       "    </tr>\n",
       "    <tr>\n",
       "      <th>(192.857, 209.571]</th>\n",
       "      <td>2028</td>\n",
       "      <td>26</td>\n",
       "      <td>35</td>\n",
       "      <td>4989</td>\n",
       "      <td>7854</td>\n",
       "      <td>8</td>\n",
       "      <td>28</td>\n",
       "      <td>6011</td>\n",
       "      <td>13</td>\n",
       "      <td>30.7</td>\n",
       "      <td>58</td>\n",
       "      <td>16</td>\n",
       "      <td>87</td>\n",
       "      <td>26</td>\n",
       "      <td>39</td>\n",
       "      <td>66.666667</td>\n",
       "    </tr>\n",
       "    <tr>\n",
       "      <th>(209.571, 226.286]</th>\n",
       "      <td>2117</td>\n",
       "      <td>28</td>\n",
       "      <td>47</td>\n",
       "      <td>5200</td>\n",
       "      <td>8718</td>\n",
       "      <td>4</td>\n",
       "      <td>23</td>\n",
       "      <td>6003</td>\n",
       "      <td>9</td>\n",
       "      <td>41.0</td>\n",
       "      <td>59</td>\n",
       "      <td>28</td>\n",
       "      <td>88</td>\n",
       "      <td>27</td>\n",
       "      <td>40</td>\n",
       "      <td>67.500000</td>\n",
       "    </tr>\n",
       "    <tr>\n",
       "      <th>(226.286, 243.0]</th>\n",
       "      <td>2467</td>\n",
       "      <td>35</td>\n",
       "      <td>56</td>\n",
       "      <td>5882</td>\n",
       "      <td>10566</td>\n",
       "      <td>7</td>\n",
       "      <td>27</td>\n",
       "      <td>6931</td>\n",
       "      <td>13</td>\n",
       "      <td>45.3</td>\n",
       "      <td>58</td>\n",
       "      <td>28</td>\n",
       "      <td>109</td>\n",
       "      <td>25</td>\n",
       "      <td>45</td>\n",
       "      <td>55.555556</td>\n",
       "    </tr>\n",
       "    <tr>\n",
       "      <th>(243.0, 259.714]</th>\n",
       "      <td>2027</td>\n",
       "      <td>28</td>\n",
       "      <td>32</td>\n",
       "      <td>4865</td>\n",
       "      <td>9288</td>\n",
       "      <td>8</td>\n",
       "      <td>12</td>\n",
       "      <td>5669</td>\n",
       "      <td>12</td>\n",
       "      <td>35.9</td>\n",
       "      <td>52</td>\n",
       "      <td>35</td>\n",
       "      <td>84</td>\n",
       "      <td>18</td>\n",
       "      <td>37</td>\n",
       "      <td>48.648649</td>\n",
       "    </tr>\n",
       "    <tr>\n",
       "      <th>(259.714, 276.429]</th>\n",
       "      <td>1956</td>\n",
       "      <td>22</td>\n",
       "      <td>33</td>\n",
       "      <td>4597</td>\n",
       "      <td>9374</td>\n",
       "      <td>2</td>\n",
       "      <td>16</td>\n",
       "      <td>4950</td>\n",
       "      <td>14</td>\n",
       "      <td>32.0</td>\n",
       "      <td>48</td>\n",
       "      <td>17</td>\n",
       "      <td>83</td>\n",
       "      <td>19</td>\n",
       "      <td>35</td>\n",
       "      <td>54.285714</td>\n",
       "    </tr>\n",
       "    <tr>\n",
       "      <th>(276.429, 293.143]</th>\n",
       "      <td>1208</td>\n",
       "      <td>16</td>\n",
       "      <td>19</td>\n",
       "      <td>3021</td>\n",
       "      <td>5971</td>\n",
       "      <td>6</td>\n",
       "      <td>3</td>\n",
       "      <td>3032</td>\n",
       "      <td>9</td>\n",
       "      <td>24.9</td>\n",
       "      <td>26</td>\n",
       "      <td>25</td>\n",
       "      <td>54</td>\n",
       "      <td>5</td>\n",
       "      <td>21</td>\n",
       "      <td>23.809524</td>\n",
       "    </tr>\n",
       "    <tr>\n",
       "      <th>(293.143, 309.857]</th>\n",
       "      <td>1334</td>\n",
       "      <td>13</td>\n",
       "      <td>17</td>\n",
       "      <td>3132</td>\n",
       "      <td>7254</td>\n",
       "      <td>3</td>\n",
       "      <td>13</td>\n",
       "      <td>3651</td>\n",
       "      <td>8</td>\n",
       "      <td>21.2</td>\n",
       "      <td>36</td>\n",
       "      <td>22</td>\n",
       "      <td>57</td>\n",
       "      <td>14</td>\n",
       "      <td>24</td>\n",
       "      <td>58.333333</td>\n",
       "    </tr>\n",
       "    <tr>\n",
       "      <th>(309.857, 326.571]</th>\n",
       "      <td>655</td>\n",
       "      <td>8</td>\n",
       "      <td>10</td>\n",
       "      <td>1638</td>\n",
       "      <td>3828</td>\n",
       "      <td>1</td>\n",
       "      <td>9</td>\n",
       "      <td>1749</td>\n",
       "      <td>4</td>\n",
       "      <td>16.1</td>\n",
       "      <td>17</td>\n",
       "      <td>12</td>\n",
       "      <td>25</td>\n",
       "      <td>6</td>\n",
       "      <td>12</td>\n",
       "      <td>50.000000</td>\n",
       "    </tr>\n",
       "    <tr>\n",
       "      <th>(326.571, 343.286]</th>\n",
       "      <td>456</td>\n",
       "      <td>3</td>\n",
       "      <td>5</td>\n",
       "      <td>1074</td>\n",
       "      <td>2680</td>\n",
       "      <td>2</td>\n",
       "      <td>6</td>\n",
       "      <td>1193</td>\n",
       "      <td>4</td>\n",
       "      <td>12.4</td>\n",
       "      <td>13</td>\n",
       "      <td>4</td>\n",
       "      <td>19</td>\n",
       "      <td>2</td>\n",
       "      <td>8</td>\n",
       "      <td>25.000000</td>\n",
       "    </tr>\n",
       "    <tr>\n",
       "      <th>(343.286, 360.0]</th>\n",
       "      <td>177</td>\n",
       "      <td>1</td>\n",
       "      <td>2</td>\n",
       "      <td>412</td>\n",
       "      <td>1067</td>\n",
       "      <td>0</td>\n",
       "      <td>2</td>\n",
       "      <td>446</td>\n",
       "      <td>2</td>\n",
       "      <td>2.6</td>\n",
       "      <td>5</td>\n",
       "      <td>1</td>\n",
       "      <td>7</td>\n",
       "      <td>2</td>\n",
       "      <td>3</td>\n",
       "      <td>66.666667</td>\n",
       "    </tr>\n",
       "  </tbody>\n",
       "</table>\n",
       "</div>"
      ],
      "text/plain": [
       "                     age  sex  cp  trtbps   chol  fbs  restecg  thalachh  \\\n",
       "c_grp                                                                      \n",
       "(125.766, 142.714]   158    2   4     388    398    1        3       463   \n",
       "(142.714, 159.429]   161    2   3     350    455    0        2       433   \n",
       "(159.429, 176.143]   606   10   9    1595   2041    1        7      1682   \n",
       "(176.143, 192.857]   810   13  17    2060   2933    1        9      2352   \n",
       "(192.857, 209.571]  2028   26  35    4989   7854    8       28      6011   \n",
       "(209.571, 226.286]  2117   28  47    5200   8718    4       23      6003   \n",
       "(226.286, 243.0]    2467   35  56    5882  10566    7       27      6931   \n",
       "(243.0, 259.714]    2027   28  32    4865   9288    8       12      5669   \n",
       "(259.714, 276.429]  1956   22  33    4597   9374    2       16      4950   \n",
       "(276.429, 293.143]  1208   16  19    3021   5971    6        3      3032   \n",
       "(293.143, 309.857]  1334   13  17    3132   7254    3       13      3651   \n",
       "(309.857, 326.571]   655    8  10    1638   3828    1        9      1749   \n",
       "(326.571, 343.286]   456    3   5    1074   2680    2        6      1193   \n",
       "(343.286, 360.0]     177    1   2     412   1067    0        2       446   \n",
       "\n",
       "                    exng  oldpeak  slp  caa  thall  output  chol_count  \\\n",
       "c_grp                                                                    \n",
       "(125.766, 142.714]     1      2.0    4    2      8       2           3   \n",
       "(142.714, 159.429]     0      2.4    5    3      6       2           3   \n",
       "(159.429, 176.143]     4     20.4   14   14     26       5          12   \n",
       "(176.143, 192.857]     5     18.6   23    8     35       9          16   \n",
       "(192.857, 209.571]    13     30.7   58   16     87      26          39   \n",
       "(209.571, 226.286]     9     41.0   59   28     88      27          40   \n",
       "(226.286, 243.0]      13     45.3   58   28    109      25          45   \n",
       "(243.0, 259.714]      12     35.9   52   35     84      18          37   \n",
       "(259.714, 276.429]    14     32.0   48   17     83      19          35   \n",
       "(276.429, 293.143]     9     24.9   26   25     54       5          21   \n",
       "(293.143, 309.857]     8     21.2   36   22     57      14          24   \n",
       "(309.857, 326.571]     4     16.1   17   12     25       6          12   \n",
       "(326.571, 343.286]     4     12.4   13    4     19       2           8   \n",
       "(343.286, 360.0]       2      2.6    5    1      7       2           3   \n",
       "\n",
       "                      percent  \n",
       "c_grp                          \n",
       "(125.766, 142.714]  66.666667  \n",
       "(142.714, 159.429]  66.666667  \n",
       "(159.429, 176.143]  41.666667  \n",
       "(176.143, 192.857]  56.250000  \n",
       "(192.857, 209.571]  66.666667  \n",
       "(209.571, 226.286]  67.500000  \n",
       "(226.286, 243.0]    55.555556  \n",
       "(243.0, 259.714]    48.648649  \n",
       "(259.714, 276.429]  54.285714  \n",
       "(276.429, 293.143]  23.809524  \n",
       "(293.143, 309.857]  58.333333  \n",
       "(309.857, 326.571]  50.000000  \n",
       "(326.571, 343.286]  25.000000  \n",
       "(343.286, 360.0]    66.666667  "
      ]
     },
     "execution_count": 29,
     "metadata": {},
     "output_type": "execute_result"
    }
   ],
   "source": [
    "df_chol = df.copy()\n",
    "df_chol['c_grp'] = pd.cut(df['chol'],14)\n",
    "df_chol = df_chol.groupby('c_grp').sum()\n",
    "df_chol['chol_count'] = df.groupby(pd.cut(df['chol'],14)).count()['chol']\n",
    "df_chol['percent'] = df_chol['output'] / df_chol['chol_count']*100\n",
    "df_chol"
   ]
  },
  {
   "cell_type": "markdown",
   "id": "1d9b8d67",
   "metadata": {
    "papermill": {
     "duration": 0.101346,
     "end_time": "2021-07-08T11:18:13.816434",
     "exception": false,
     "start_time": "2021-07-08T11:18:13.715088",
     "status": "completed"
    },
    "tags": []
   },
   "source": [
    "we can clearly see here cholestrol is not a good factor in Heart Disease\n",
    "\n",
    "Because the guy who has 125 cholestrol has 66% probability and guy has more than 340 also same probability"
   ]
  },
  {
   "cell_type": "markdown",
   "id": "bb45d0b3",
   "metadata": {
    "papermill": {
     "duration": 0.099009,
     "end_time": "2021-07-08T11:18:14.015315",
     "exception": false,
     "start_time": "2021-07-08T11:18:13.916306",
     "status": "completed"
    },
    "tags": []
   },
   "source": [
    "### How many times we write same code lets make function for it"
   ]
  },
  {
   "cell_type": "markdown",
   "id": "5e79c782",
   "metadata": {
    "papermill": {
     "duration": 0.099413,
     "end_time": "2021-07-08T11:18:14.215026",
     "exception": false,
     "start_time": "2021-07-08T11:18:14.115613",
     "status": "completed"
    },
    "tags": []
   },
   "source": [
    "also important to write again and again to understand it"
   ]
  },
  {
   "cell_type": "code",
   "execution_count": 30,
   "id": "bf4fc570",
   "metadata": {
    "execution": {
     "iopub.execute_input": "2021-07-08T11:18:14.419895Z",
     "iopub.status.busy": "2021-07-08T11:18:14.419162Z",
     "iopub.status.idle": "2021-07-08T11:18:14.422138Z",
     "shell.execute_reply": "2021-07-08T11:18:14.421474Z",
     "shell.execute_reply.started": "2021-07-08T11:04:59.289315Z"
    },
    "papermill": {
     "duration": 0.107996,
     "end_time": "2021-07-08T11:18:14.422288",
     "exception": false,
     "start_time": "2021-07-08T11:18:14.314292",
     "status": "completed"
    },
    "tags": []
   },
   "outputs": [],
   "source": [
    "def kdplot(col):\n",
    "    '''\n",
    "    Return\n",
    "    ----------\n",
    "    plot kdeplot for output variable `col`\n",
    "    '''\n",
    "    sns.kdeplot(df.loc[df['output'] == 0, col], label = 'output 0')\n",
    "    sns.kdeplot(df.loc[df['output'] == 1, col], label = 'output 1')\n",
    "    plt.legend()\n",
    "    plt.show"
   ]
  },
  {
   "cell_type": "code",
   "execution_count": 31,
   "id": "dd152c0d",
   "metadata": {
    "execution": {
     "iopub.execute_input": "2021-07-08T11:18:14.628298Z",
     "iopub.status.busy": "2021-07-08T11:18:14.627240Z",
     "iopub.status.idle": "2021-07-08T11:18:14.630133Z",
     "shell.execute_reply": "2021-07-08T11:18:14.629628Z",
     "shell.execute_reply.started": "2021-07-08T11:04:59.298549Z"
    },
    "papermill": {
     "duration": 0.108392,
     "end_time": "2021-07-08T11:18:14.630279",
     "exception": false,
     "start_time": "2021-07-08T11:18:14.521887",
     "status": "completed"
    },
    "tags": []
   },
   "outputs": [],
   "source": [
    "def show_per_cat(df,col):\n",
    "    '''\n",
    "    Function for category\n",
    "    \n",
    "    Return\n",
    "    --------\n",
    "    df_temp(Dataframe):\n",
    "        Contain count of attacks , total points and percentage of attack\n",
    "    '''\n",
    "    df_temp = df.copy()\n",
    "    df_temp = df_temp.groupby(col).sum()\n",
    "    df_temp['grp_count'] = df.groupby(col).count()['output']\n",
    "    df_temp['percent'] = df_temp['output'] / df_temp['grp_count']*100\n",
    "    \n",
    "    return df_temp[['output','grp_count','percent']]"
   ]
  },
  {
   "cell_type": "code",
   "execution_count": 32,
   "id": "99f20d02",
   "metadata": {
    "execution": {
     "iopub.execute_input": "2021-07-08T11:18:14.836854Z",
     "iopub.status.busy": "2021-07-08T11:18:14.834604Z",
     "iopub.status.idle": "2021-07-08T11:18:14.848849Z",
     "shell.execute_reply": "2021-07-08T11:18:14.848363Z",
     "shell.execute_reply.started": "2021-07-08T11:04:59.318660Z"
    },
    "papermill": {
     "duration": 0.119385,
     "end_time": "2021-07-08T11:18:14.848985",
     "exception": false,
     "start_time": "2021-07-08T11:18:14.729600",
     "status": "completed"
    },
    "tags": []
   },
   "outputs": [
    {
     "data": {
      "text/html": [
       "<div>\n",
       "<style scoped>\n",
       "    .dataframe tbody tr th:only-of-type {\n",
       "        vertical-align: middle;\n",
       "    }\n",
       "\n",
       "    .dataframe tbody tr th {\n",
       "        vertical-align: top;\n",
       "    }\n",
       "\n",
       "    .dataframe thead th {\n",
       "        text-align: right;\n",
       "    }\n",
       "</style>\n",
       "<table border=\"1\" class=\"dataframe\">\n",
       "  <thead>\n",
       "    <tr style=\"text-align: right;\">\n",
       "      <th></th>\n",
       "      <th>output</th>\n",
       "      <th>grp_count</th>\n",
       "      <th>percent</th>\n",
       "    </tr>\n",
       "    <tr>\n",
       "      <th>exng</th>\n",
       "      <th></th>\n",
       "      <th></th>\n",
       "      <th></th>\n",
       "    </tr>\n",
       "  </thead>\n",
       "  <tbody>\n",
       "    <tr>\n",
       "      <th>0</th>\n",
       "      <td>139</td>\n",
       "      <td>200</td>\n",
       "      <td>69.500000</td>\n",
       "    </tr>\n",
       "    <tr>\n",
       "      <th>1</th>\n",
       "      <td>23</td>\n",
       "      <td>98</td>\n",
       "      <td>23.469388</td>\n",
       "    </tr>\n",
       "  </tbody>\n",
       "</table>\n",
       "</div>"
      ],
      "text/plain": [
       "      output  grp_count    percent\n",
       "exng                              \n",
       "0        139        200  69.500000\n",
       "1         23         98  23.469388"
      ]
     },
     "execution_count": 32,
     "metadata": {},
     "output_type": "execute_result"
    }
   ],
   "source": [
    "show_per_cat(df,'exng')"
   ]
  },
  {
   "cell_type": "code",
   "execution_count": 33,
   "id": "2ce14f9d",
   "metadata": {
    "execution": {
     "iopub.execute_input": "2021-07-08T11:18:15.056482Z",
     "iopub.status.busy": "2021-07-08T11:18:15.055806Z",
     "iopub.status.idle": "2021-07-08T11:18:15.255004Z",
     "shell.execute_reply": "2021-07-08T11:18:15.254448Z",
     "shell.execute_reply.started": "2021-07-08T11:04:59.356401Z"
    },
    "papermill": {
     "duration": 0.307518,
     "end_time": "2021-07-08T11:18:15.255149",
     "exception": false,
     "start_time": "2021-07-08T11:18:14.947631",
     "status": "completed"
    },
    "tags": []
   },
   "outputs": [
    {
     "data": {
      "image/png": "[encoded data removed]",
      "text/plain": [
       "<Figure size 432x288 with 1 Axes>"
      ]
     },
     "metadata": {},
     "output_type": "display_data"
    }
   ],
   "source": [
    "kdplot('exng')"
   ]
  },
  {
   "cell_type": "markdown",
   "id": "855924c5",
   "metadata": {
    "papermill": {
     "duration": 0.102558,
     "end_time": "2021-07-08T11:18:15.459533",
     "exception": false,
     "start_time": "2021-07-08T11:18:15.356975",
     "status": "completed"
    },
    "tags": []
   },
   "source": [
    "exercise induced angina (1 = yes; 0 = no)\n",
    "\n",
    "\n",
    "0 is more probable to heart disease"
   ]
  },
  {
   "cell_type": "markdown",
   "id": "2dfb5bef",
   "metadata": {
    "papermill": {
     "duration": 0.10246,
     "end_time": "2021-07-08T11:18:15.665235",
     "exception": false,
     "start_time": "2021-07-08T11:18:15.562775",
     "status": "completed"
    },
    "tags": []
   },
   "source": [
    "# Chest Pain"
   ]
  },
  {
   "cell_type": "code",
   "execution_count": 34,
   "id": "dd919ca0",
   "metadata": {
    "execution": {
     "iopub.execute_input": "2021-07-08T11:18:15.878529Z",
     "iopub.status.busy": "2021-07-08T11:18:15.876005Z",
     "iopub.status.idle": "2021-07-08T11:18:15.892821Z",
     "shell.execute_reply": "2021-07-08T11:18:15.892192Z",
     "shell.execute_reply.started": "2021-07-08T11:04:59.572803Z"
    },
    "papermill": {
     "duration": 0.125022,
     "end_time": "2021-07-08T11:18:15.892975",
     "exception": false,
     "start_time": "2021-07-08T11:18:15.767953",
     "status": "completed"
    },
    "tags": []
   },
   "outputs": [
    {
     "data": {
      "text/html": [
       "<div>\n",
       "<style scoped>\n",
       "    .dataframe tbody tr th:only-of-type {\n",
       "        vertical-align: middle;\n",
       "    }\n",
       "\n",
       "    .dataframe tbody tr th {\n",
       "        vertical-align: top;\n",
       "    }\n",
       "\n",
       "    .dataframe thead th {\n",
       "        text-align: right;\n",
       "    }\n",
       "</style>\n",
       "<table border=\"1\" class=\"dataframe\">\n",
       "  <thead>\n",
       "    <tr style=\"text-align: right;\">\n",
       "      <th></th>\n",
       "      <th>output</th>\n",
       "      <th>grp_count</th>\n",
       "      <th>percent</th>\n",
       "    </tr>\n",
       "    <tr>\n",
       "      <th>cp</th>\n",
       "      <th></th>\n",
       "      <th></th>\n",
       "      <th></th>\n",
       "    </tr>\n",
       "  </thead>\n",
       "  <tbody>\n",
       "    <tr>\n",
       "      <th>0</th>\n",
       "      <td>38</td>\n",
       "      <td>140</td>\n",
       "      <td>27.142857</td>\n",
       "    </tr>\n",
       "    <tr>\n",
       "      <th>1</th>\n",
       "      <td>41</td>\n",
       "      <td>50</td>\n",
       "      <td>82.000000</td>\n",
       "    </tr>\n",
       "    <tr>\n",
       "      <th>2</th>\n",
       "      <td>67</td>\n",
       "      <td>85</td>\n",
       "      <td>78.823529</td>\n",
       "    </tr>\n",
       "    <tr>\n",
       "      <th>3</th>\n",
       "      <td>16</td>\n",
       "      <td>23</td>\n",
       "      <td>69.565217</td>\n",
       "    </tr>\n",
       "  </tbody>\n",
       "</table>\n",
       "</div>"
      ],
      "text/plain": [
       "    output  grp_count    percent\n",
       "cp                              \n",
       "0       38        140  27.142857\n",
       "1       41         50  82.000000\n",
       "2       67         85  78.823529\n",
       "3       16         23  69.565217"
      ]
     },
     "execution_count": 34,
     "metadata": {},
     "output_type": "execute_result"
    }
   ],
   "source": [
    "show_per_cat(df,'cp')"
   ]
  },
  {
   "cell_type": "code",
   "execution_count": 35,
   "id": "b2a6a78a",
   "metadata": {
    "execution": {
     "iopub.execute_input": "2021-07-08T11:18:16.126456Z",
     "iopub.status.busy": "2021-07-08T11:18:16.122366Z",
     "iopub.status.idle": "2021-07-08T11:18:16.304080Z",
     "shell.execute_reply": "2021-07-08T11:18:16.303508Z",
     "shell.execute_reply.started": "2021-07-08T11:04:59.596956Z"
    },
    "papermill": {
     "duration": 0.308272,
     "end_time": "2021-07-08T11:18:16.304216",
     "exception": false,
     "start_time": "2021-07-08T11:18:15.995944",
     "status": "completed"
    },
    "tags": []
   },
   "outputs": [
    {
     "data": {
      "image/png": "[encoded data removed]",
      "text/plain": [
       "<Figure size 432x288 with 1 Axes>"
      ]
     },
     "metadata": {},
     "output_type": "display_data"
    }
   ],
   "source": [
    "kdplot('cp')"
   ]
  },
  {
   "cell_type": "markdown",
   "id": "b191cbb7",
   "metadata": {
    "papermill": {
     "duration": 0.103809,
     "end_time": "2021-07-08T11:18:16.512265",
     "exception": false,
     "start_time": "2021-07-08T11:18:16.408456",
     "status": "completed"
    },
    "tags": []
   },
   "source": [
    "Definitely chest pain is bad sign for heart"
   ]
  },
  {
   "cell_type": "code",
   "execution_count": 36,
   "id": "b0e538ac",
   "metadata": {
    "execution": {
     "iopub.execute_input": "2021-07-08T11:18:16.727375Z",
     "iopub.status.busy": "2021-07-08T11:18:16.726413Z",
     "iopub.status.idle": "2021-07-08T11:18:16.729532Z",
     "shell.execute_reply": "2021-07-08T11:18:16.729010Z",
     "shell.execute_reply.started": "2021-07-08T11:05:00.055457Z"
    },
    "papermill": {
     "duration": 0.113571,
     "end_time": "2021-07-08T11:18:16.729676",
     "exception": false,
     "start_time": "2021-07-08T11:18:16.616105",
     "status": "completed"
    },
    "tags": []
   },
   "outputs": [],
   "source": [
    "def show_per_cont(df,col,quant=5):\n",
    "    '''\n",
    "    Function for continuous features\n",
    "    \n",
    "    quant (int):\n",
    "        It divide number of unique values in that feature and create those amount of bins\n",
    "        we can change that if feature has many unique features \n",
    "    \n",
    "    Return\n",
    "    --------\n",
    "    df_temp(Dataframe):\n",
    "        Contain count of attacks , total points and percentage of attack\n",
    "    '''\n",
    "    df_chol = df.copy()\n",
    "    df_chol = df_chol.groupby(pd.cut(df[col],int(df[col].nunique()/quant))).sum()\n",
    "    df_chol['grp_count'] = df.groupby(pd.cut(df[col],int(df[col].nunique()/quant))).count()['output']\n",
    "    df_chol['percent'] = df_chol['output'] / df_chol['grp_count']*100\n",
    "    \n",
    "    return df_chol[['output','grp_count','percent']]"
   ]
  },
  {
   "cell_type": "code",
   "execution_count": 37,
   "id": "4b2ebf82",
   "metadata": {
    "execution": {
     "iopub.execute_input": "2021-07-08T11:18:16.944764Z",
     "iopub.status.busy": "2021-07-08T11:18:16.943349Z",
     "iopub.status.idle": "2021-07-08T11:18:16.976400Z",
     "shell.execute_reply": "2021-07-08T11:18:16.975747Z",
     "shell.execute_reply.started": "2021-07-08T11:05:00.063017Z"
    },
    "papermill": {
     "duration": 0.142642,
     "end_time": "2021-07-08T11:18:16.976533",
     "exception": false,
     "start_time": "2021-07-08T11:18:16.833891",
     "status": "completed"
    },
    "tags": []
   },
   "outputs": [
    {
     "data": {
      "text/html": [
       "<div>\n",
       "<style scoped>\n",
       "    .dataframe tbody tr th:only-of-type {\n",
       "        vertical-align: middle;\n",
       "    }\n",
       "\n",
       "    .dataframe tbody tr th {\n",
       "        vertical-align: top;\n",
       "    }\n",
       "\n",
       "    .dataframe thead th {\n",
       "        text-align: right;\n",
       "    }\n",
       "</style>\n",
       "<table border=\"1\" class=\"dataframe\">\n",
       "  <thead>\n",
       "    <tr style=\"text-align: right;\">\n",
       "      <th></th>\n",
       "      <th>output</th>\n",
       "      <th>grp_count</th>\n",
       "      <th>percent</th>\n",
       "    </tr>\n",
       "    <tr>\n",
       "      <th>trtbps</th>\n",
       "      <th></th>\n",
       "      <th></th>\n",
       "      <th></th>\n",
       "    </tr>\n",
       "  </thead>\n",
       "  <tbody>\n",
       "    <tr>\n",
       "      <th>(93.894, 105.778]</th>\n",
       "      <td>11</td>\n",
       "      <td>13</td>\n",
       "      <td>84.615385</td>\n",
       "    </tr>\n",
       "    <tr>\n",
       "      <th>(105.778, 117.556]</th>\n",
       "      <td>20</td>\n",
       "      <td>39</td>\n",
       "      <td>51.282051</td>\n",
       "    </tr>\n",
       "    <tr>\n",
       "      <th>(117.556, 129.333]</th>\n",
       "      <td>45</td>\n",
       "      <td>82</td>\n",
       "      <td>54.878049</td>\n",
       "    </tr>\n",
       "    <tr>\n",
       "      <th>(129.333, 141.111]</th>\n",
       "      <td>59</td>\n",
       "      <td>100</td>\n",
       "      <td>59.000000</td>\n",
       "    </tr>\n",
       "    <tr>\n",
       "      <th>(141.111, 152.889]</th>\n",
       "      <td>16</td>\n",
       "      <td>35</td>\n",
       "      <td>45.714286</td>\n",
       "    </tr>\n",
       "    <tr>\n",
       "      <th>(152.889, 164.667]</th>\n",
       "      <td>7</td>\n",
       "      <td>15</td>\n",
       "      <td>46.666667</td>\n",
       "    </tr>\n",
       "    <tr>\n",
       "      <th>(164.667, 176.444]</th>\n",
       "      <td>2</td>\n",
       "      <td>7</td>\n",
       "      <td>28.571429</td>\n",
       "    </tr>\n",
       "    <tr>\n",
       "      <th>(176.444, 188.222]</th>\n",
       "      <td>2</td>\n",
       "      <td>5</td>\n",
       "      <td>40.000000</td>\n",
       "    </tr>\n",
       "    <tr>\n",
       "      <th>(188.222, 200.0]</th>\n",
       "      <td>0</td>\n",
       "      <td>2</td>\n",
       "      <td>0.000000</td>\n",
       "    </tr>\n",
       "  </tbody>\n",
       "</table>\n",
       "</div>"
      ],
      "text/plain": [
       "                    output  grp_count    percent\n",
       "trtbps                                          \n",
       "(93.894, 105.778]       11         13  84.615385\n",
       "(105.778, 117.556]      20         39  51.282051\n",
       "(117.556, 129.333]      45         82  54.878049\n",
       "(129.333, 141.111]      59        100  59.000000\n",
       "(141.111, 152.889]      16         35  45.714286\n",
       "(152.889, 164.667]       7         15  46.666667\n",
       "(164.667, 176.444]       2          7  28.571429\n",
       "(176.444, 188.222]       2          5  40.000000\n",
       "(188.222, 200.0]         0          2   0.000000"
      ]
     },
     "execution_count": 37,
     "metadata": {},
     "output_type": "execute_result"
    }
   ],
   "source": [
    "show_per_cont(df,'trtbps')"
   ]
  },
  {
   "cell_type": "code",
   "execution_count": 38,
   "id": "ca63b1a9",
   "metadata": {
    "execution": {
     "iopub.execute_input": "2021-07-08T11:18:17.220420Z",
     "iopub.status.busy": "2021-07-08T11:18:17.209389Z",
     "iopub.status.idle": "2021-07-08T11:18:17.407591Z",
     "shell.execute_reply": "2021-07-08T11:18:17.407004Z",
     "shell.execute_reply.started": "2021-07-08T11:05:00.108164Z"
    },
    "papermill": {
     "duration": 0.327697,
     "end_time": "2021-07-08T11:18:17.407729",
     "exception": false,
     "start_time": "2021-07-08T11:18:17.080032",
     "status": "completed"
    },
    "tags": []
   },
   "outputs": [
    {
     "data": {
      "image/png": "[encoded data removed]",
      "text/plain": [
       "<Figure size 432x288 with 1 Axes>"
      ]
     },
     "metadata": {},
     "output_type": "display_data"
    }
   ],
   "source": [
    "kdplot('trtbps')"
   ]
  },
  {
   "cell_type": "markdown",
   "id": "d16691f2",
   "metadata": {
    "papermill": {
     "duration": 0.105904,
     "end_time": "2021-07-08T11:18:17.622357",
     "exception": false,
     "start_time": "2021-07-08T11:18:17.516453",
     "status": "completed"
    },
    "tags": []
   },
   "source": [
    "There is no usefulness insight from trtbps means resting blood pressure"
   ]
  },
  {
   "cell_type": "code",
   "execution_count": 39,
   "id": "ea323ae3",
   "metadata": {
    "execution": {
     "iopub.execute_input": "2021-07-08T11:18:17.846695Z",
     "iopub.status.busy": "2021-07-08T11:18:17.844503Z",
     "iopub.status.idle": "2021-07-08T11:18:17.857323Z",
     "shell.execute_reply": "2021-07-08T11:18:17.856792Z",
     "shell.execute_reply.started": "2021-07-08T11:05:00.323810Z"
    },
    "papermill": {
     "duration": 0.128162,
     "end_time": "2021-07-08T11:18:17.857468",
     "exception": false,
     "start_time": "2021-07-08T11:18:17.729306",
     "status": "completed"
    },
    "tags": []
   },
   "outputs": [
    {
     "data": {
      "text/html": [
       "<div>\n",
       "<style scoped>\n",
       "    .dataframe tbody tr th:only-of-type {\n",
       "        vertical-align: middle;\n",
       "    }\n",
       "\n",
       "    .dataframe tbody tr th {\n",
       "        vertical-align: top;\n",
       "    }\n",
       "\n",
       "    .dataframe thead th {\n",
       "        text-align: right;\n",
       "    }\n",
       "</style>\n",
       "<table border=\"1\" class=\"dataframe\">\n",
       "  <thead>\n",
       "    <tr style=\"text-align: right;\">\n",
       "      <th></th>\n",
       "      <th>output</th>\n",
       "      <th>grp_count</th>\n",
       "      <th>percent</th>\n",
       "    </tr>\n",
       "    <tr>\n",
       "      <th>fbs</th>\n",
       "      <th></th>\n",
       "      <th></th>\n",
       "      <th></th>\n",
       "    </tr>\n",
       "  </thead>\n",
       "  <tbody>\n",
       "    <tr>\n",
       "      <th>0</th>\n",
       "      <td>140</td>\n",
       "      <td>254</td>\n",
       "      <td>55.11811</td>\n",
       "    </tr>\n",
       "    <tr>\n",
       "      <th>1</th>\n",
       "      <td>22</td>\n",
       "      <td>44</td>\n",
       "      <td>50.00000</td>\n",
       "    </tr>\n",
       "  </tbody>\n",
       "</table>\n",
       "</div>"
      ],
      "text/plain": [
       "     output  grp_count   percent\n",
       "fbs                             \n",
       "0       140        254  55.11811\n",
       "1        22         44  50.00000"
      ]
     },
     "execution_count": 39,
     "metadata": {},
     "output_type": "execute_result"
    }
   ],
   "source": [
    "show_per_cat(df,'fbs')"
   ]
  },
  {
   "cell_type": "code",
   "execution_count": 40,
   "id": "41520a49",
   "metadata": {
    "execution": {
     "iopub.execute_input": "2021-07-08T11:18:18.132779Z",
     "iopub.status.busy": "2021-07-08T11:18:18.113593Z",
     "iopub.status.idle": "2021-07-08T11:18:18.283336Z",
     "shell.execute_reply": "2021-07-08T11:18:18.283790Z",
     "shell.execute_reply.started": "2021-07-08T11:05:00.349459Z"
    },
    "papermill": {
     "duration": 0.320648,
     "end_time": "2021-07-08T11:18:18.283982",
     "exception": false,
     "start_time": "2021-07-08T11:18:17.963334",
     "status": "completed"
    },
    "tags": []
   },
   "outputs": [
    {
     "data": {
      "image/png": "[encoded data removed]",
      "text/plain": [
       "<Figure size 432x288 with 1 Axes>"
      ]
     },
     "metadata": {},
     "output_type": "display_data"
    }
   ],
   "source": [
    "kdplot('fbs')"
   ]
  },
  {
   "cell_type": "code",
   "execution_count": 41,
   "id": "22d792d8",
   "metadata": {
    "execution": {
     "iopub.execute_input": "2021-07-08T11:18:18.518726Z",
     "iopub.status.busy": "2021-07-08T11:18:18.516473Z",
     "iopub.status.idle": "2021-07-08T11:18:18.530762Z",
     "shell.execute_reply": "2021-07-08T11:18:18.530141Z",
     "shell.execute_reply.started": "2021-07-08T11:05:00.544492Z"
    },
    "papermill": {
     "duration": 0.13041,
     "end_time": "2021-07-08T11:18:18.530915",
     "exception": false,
     "start_time": "2021-07-08T11:18:18.400505",
     "status": "completed"
    },
    "tags": []
   },
   "outputs": [
    {
     "data": {
      "text/html": [
       "<div>\n",
       "<style scoped>\n",
       "    .dataframe tbody tr th:only-of-type {\n",
       "        vertical-align: middle;\n",
       "    }\n",
       "\n",
       "    .dataframe tbody tr th {\n",
       "        vertical-align: top;\n",
       "    }\n",
       "\n",
       "    .dataframe thead th {\n",
       "        text-align: right;\n",
       "    }\n",
       "</style>\n",
       "<table border=\"1\" class=\"dataframe\">\n",
       "  <thead>\n",
       "    <tr style=\"text-align: right;\">\n",
       "      <th></th>\n",
       "      <th>output</th>\n",
       "      <th>grp_count</th>\n",
       "      <th>percent</th>\n",
       "    </tr>\n",
       "    <tr>\n",
       "      <th>restecg</th>\n",
       "      <th></th>\n",
       "      <th></th>\n",
       "      <th></th>\n",
       "    </tr>\n",
       "  </thead>\n",
       "  <tbody>\n",
       "    <tr>\n",
       "      <th>0</th>\n",
       "      <td>65</td>\n",
       "      <td>142</td>\n",
       "      <td>45.774648</td>\n",
       "    </tr>\n",
       "    <tr>\n",
       "      <th>1</th>\n",
       "      <td>96</td>\n",
       "      <td>152</td>\n",
       "      <td>63.157895</td>\n",
       "    </tr>\n",
       "    <tr>\n",
       "      <th>2</th>\n",
       "      <td>1</td>\n",
       "      <td>4</td>\n",
       "      <td>25.000000</td>\n",
       "    </tr>\n",
       "  </tbody>\n",
       "</table>\n",
       "</div>"
      ],
      "text/plain": [
       "         output  grp_count    percent\n",
       "restecg                              \n",
       "0            65        142  45.774648\n",
       "1            96        152  63.157895\n",
       "2             1          4  25.000000"
      ]
     },
     "execution_count": 41,
     "metadata": {},
     "output_type": "execute_result"
    }
   ],
   "source": [
    "show_per_cat(df,'restecg')"
   ]
  },
  {
   "cell_type": "code",
   "execution_count": 42,
   "id": "5811bf4b",
   "metadata": {
    "execution": {
     "iopub.execute_input": "2021-07-08T11:18:18.770690Z",
     "iopub.status.busy": "2021-07-08T11:18:18.768572Z",
     "iopub.status.idle": "2021-07-08T11:18:18.968674Z",
     "shell.execute_reply": "2021-07-08T11:18:18.968131Z",
     "shell.execute_reply.started": "2021-07-08T11:05:00.565580Z"
    },
    "papermill": {
     "duration": 0.331055,
     "end_time": "2021-07-08T11:18:18.968811",
     "exception": false,
     "start_time": "2021-07-08T11:18:18.637756",
     "status": "completed"
    },
    "tags": []
   },
   "outputs": [
    {
     "data": {
      "image/png": "[encoded data removed]",
      "text/plain": [
       "<Figure size 432x288 with 1 Axes>"
      ]
     },
     "metadata": {},
     "output_type": "display_data"
    }
   ],
   "source": [
    "kdplot('restecg')"
   ]
  },
  {
   "cell_type": "markdown",
   "id": "a669ea68",
   "metadata": {
    "papermill": {
     "duration": 0.11027,
     "end_time": "2021-07-08T11:18:19.187851",
     "exception": false,
     "start_time": "2021-07-08T11:18:19.077581",
     "status": "completed"
    },
    "tags": []
   },
   "source": [
    "Not any impactful insight"
   ]
  },
  {
   "cell_type": "code",
   "execution_count": 43,
   "id": "d01ce39e",
   "metadata": {
    "execution": {
     "iopub.execute_input": "2021-07-08T11:18:19.424593Z",
     "iopub.status.busy": "2021-07-08T11:18:19.421331Z",
     "iopub.status.idle": "2021-07-08T11:18:19.431881Z",
     "shell.execute_reply": "2021-07-08T11:18:19.432344Z",
     "shell.execute_reply.started": "2021-07-08T11:05:00.774486Z"
    },
    "papermill": {
     "duration": 0.135053,
     "end_time": "2021-07-08T11:18:19.432526",
     "exception": false,
     "start_time": "2021-07-08T11:18:19.297473",
     "status": "completed"
    },
    "tags": []
   },
   "outputs": [
    {
     "data": {
      "text/html": [
       "<div>\n",
       "<style scoped>\n",
       "    .dataframe tbody tr th:only-of-type {\n",
       "        vertical-align: middle;\n",
       "    }\n",
       "\n",
       "    .dataframe tbody tr th {\n",
       "        vertical-align: top;\n",
       "    }\n",
       "\n",
       "    .dataframe thead th {\n",
       "        text-align: right;\n",
       "    }\n",
       "</style>\n",
       "<table border=\"1\" class=\"dataframe\">\n",
       "  <thead>\n",
       "    <tr style=\"text-align: right;\">\n",
       "      <th></th>\n",
       "      <th>output</th>\n",
       "      <th>grp_count</th>\n",
       "      <th>percent</th>\n",
       "    </tr>\n",
       "    <tr>\n",
       "      <th>thall</th>\n",
       "      <th></th>\n",
       "      <th></th>\n",
       "      <th></th>\n",
       "    </tr>\n",
       "  </thead>\n",
       "  <tbody>\n",
       "    <tr>\n",
       "      <th>0</th>\n",
       "      <td>1</td>\n",
       "      <td>2</td>\n",
       "      <td>50.000000</td>\n",
       "    </tr>\n",
       "    <tr>\n",
       "      <th>1</th>\n",
       "      <td>6</td>\n",
       "      <td>18</td>\n",
       "      <td>33.333333</td>\n",
       "    </tr>\n",
       "    <tr>\n",
       "      <th>2</th>\n",
       "      <td>128</td>\n",
       "      <td>164</td>\n",
       "      <td>78.048780</td>\n",
       "    </tr>\n",
       "    <tr>\n",
       "      <th>3</th>\n",
       "      <td>27</td>\n",
       "      <td>114</td>\n",
       "      <td>23.684211</td>\n",
       "    </tr>\n",
       "  </tbody>\n",
       "</table>\n",
       "</div>"
      ],
      "text/plain": [
       "       output  grp_count    percent\n",
       "thall                              \n",
       "0           1          2  50.000000\n",
       "1           6         18  33.333333\n",
       "2         128        164  78.048780\n",
       "3          27        114  23.684211"
      ]
     },
     "execution_count": 43,
     "metadata": {},
     "output_type": "execute_result"
    }
   ],
   "source": [
    "show_per_cat(df,'thall')"
   ]
  },
  {
   "cell_type": "code",
   "execution_count": 44,
   "id": "4c804ff3",
   "metadata": {
    "execution": {
     "iopub.execute_input": "2021-07-08T11:18:19.678210Z",
     "iopub.status.busy": "2021-07-08T11:18:19.673413Z",
     "iopub.status.idle": "2021-07-08T11:18:19.860467Z",
     "shell.execute_reply": "2021-07-08T11:18:19.859790Z",
     "shell.execute_reply.started": "2021-07-08T11:05:00.794915Z"
    },
    "papermill": {
     "duration": 0.318134,
     "end_time": "2021-07-08T11:18:19.860603",
     "exception": false,
     "start_time": "2021-07-08T11:18:19.542469",
     "status": "completed"
    },
    "tags": []
   },
   "outputs": [
    {
     "data": {
      "image/png": "[encoded data removed]",
      "text/plain": [
       "<Figure size 432x288 with 1 Axes>"
      ]
     },
     "metadata": {},
     "output_type": "display_data"
    }
   ],
   "source": [
    "kdplot('thall')"
   ]
  },
  {
   "cell_type": "markdown",
   "id": "73a8f51d",
   "metadata": {
    "papermill": {
     "duration": 0.110861,
     "end_time": "2021-07-08T11:18:20.082399",
     "exception": false,
     "start_time": "2021-07-08T11:18:19.971538",
     "status": "completed"
    },
    "tags": []
   },
   "source": [
    "More thall less probability to heart diseases"
   ]
  },
  {
   "cell_type": "markdown",
   "id": "80444265",
   "metadata": {
    "papermill": {
     "duration": 0.110539,
     "end_time": "2021-07-08T11:18:20.303890",
     "exception": false,
     "start_time": "2021-07-08T11:18:20.193351",
     "status": "completed"
    },
    "tags": []
   },
   "source": [
    "# Modeling"
   ]
  },
  {
   "cell_type": "code",
   "execution_count": 45,
   "id": "f4d40e55",
   "metadata": {
    "execution": {
     "iopub.execute_input": "2021-07-08T11:18:20.542377Z",
     "iopub.status.busy": "2021-07-08T11:18:20.541343Z",
     "iopub.status.idle": "2021-07-08T11:18:20.544067Z",
     "shell.execute_reply": "2021-07-08T11:18:20.544554Z",
     "shell.execute_reply.started": "2021-07-08T11:05:00.990398Z"
    },
    "papermill": {
     "duration": 0.130648,
     "end_time": "2021-07-08T11:18:20.544713",
     "exception": false,
     "start_time": "2021-07-08T11:18:20.414065",
     "status": "completed"
    },
    "tags": []
   },
   "outputs": [],
   "source": [
    "# Convert features data type to category\n",
    "cat_col = ['sex','cp','fbs','restecg', 'exng', 'slp', 'caa', 'thall']\n",
    "df[cat_col] = df[cat_col].astype('category')"
   ]
  },
  {
   "cell_type": "code",
   "execution_count": 46,
   "id": "9dfe6ba3",
   "metadata": {
    "execution": {
     "iopub.execute_input": "2021-07-08T11:18:20.777263Z",
     "iopub.status.busy": "2021-07-08T11:18:20.774396Z",
     "iopub.status.idle": "2021-07-08T11:18:20.780824Z",
     "shell.execute_reply": "2021-07-08T11:18:20.780286Z",
     "shell.execute_reply.started": "2021-07-08T11:05:01.007075Z"
    },
    "papermill": {
     "duration": 0.126082,
     "end_time": "2021-07-08T11:18:20.780978",
     "exception": false,
     "start_time": "2021-07-08T11:18:20.654896",
     "status": "completed"
    },
    "tags": []
   },
   "outputs": [],
   "source": [
    "# Performing One-Hot-Encoding\n",
    "df_process = pd.get_dummies(df, columns=cat_col, drop_first=True)"
   ]
  },
  {
   "cell_type": "code",
   "execution_count": 47,
   "id": "f541ce4f",
   "metadata": {
    "execution": {
     "iopub.execute_input": "2021-07-08T11:18:21.011141Z",
     "iopub.status.busy": "2021-07-08T11:18:21.010472Z",
     "iopub.status.idle": "2021-07-08T11:18:21.034889Z",
     "shell.execute_reply": "2021-07-08T11:18:21.035382Z",
     "shell.execute_reply.started": "2021-07-08T11:05:01.027068Z"
    },
    "papermill": {
     "duration": 0.144496,
     "end_time": "2021-07-08T11:18:21.035549",
     "exception": false,
     "start_time": "2021-07-08T11:18:20.891053",
     "status": "completed"
    },
    "tags": []
   },
   "outputs": [
    {
     "data": {
      "text/html": [
       "<div>\n",
       "<style scoped>\n",
       "    .dataframe tbody tr th:only-of-type {\n",
       "        vertical-align: middle;\n",
       "    }\n",
       "\n",
       "    .dataframe tbody tr th {\n",
       "        vertical-align: top;\n",
       "    }\n",
       "\n",
       "    .dataframe thead th {\n",
       "        text-align: right;\n",
       "    }\n",
       "</style>\n",
       "<table border=\"1\" class=\"dataframe\">\n",
       "  <thead>\n",
       "    <tr style=\"text-align: right;\">\n",
       "      <th></th>\n",
       "      <th>age</th>\n",
       "      <th>trtbps</th>\n",
       "      <th>chol</th>\n",
       "      <th>thalachh</th>\n",
       "      <th>oldpeak</th>\n",
       "      <th>output</th>\n",
       "      <th>sex_1</th>\n",
       "      <th>cp_1</th>\n",
       "      <th>cp_2</th>\n",
       "      <th>cp_3</th>\n",
       "      <th>...</th>\n",
       "      <th>exng_1</th>\n",
       "      <th>slp_1</th>\n",
       "      <th>slp_2</th>\n",
       "      <th>caa_1</th>\n",
       "      <th>caa_2</th>\n",
       "      <th>caa_3</th>\n",
       "      <th>caa_4</th>\n",
       "      <th>thall_1</th>\n",
       "      <th>thall_2</th>\n",
       "      <th>thall_3</th>\n",
       "    </tr>\n",
       "  </thead>\n",
       "  <tbody>\n",
       "    <tr>\n",
       "      <th>0</th>\n",
       "      <td>63</td>\n",
       "      <td>145</td>\n",
       "      <td>233</td>\n",
       "      <td>150</td>\n",
       "      <td>2.3</td>\n",
       "      <td>1</td>\n",
       "      <td>1</td>\n",
       "      <td>0</td>\n",
       "      <td>0</td>\n",
       "      <td>1</td>\n",
       "      <td>...</td>\n",
       "      <td>0</td>\n",
       "      <td>0</td>\n",
       "      <td>0</td>\n",
       "      <td>0</td>\n",
       "      <td>0</td>\n",
       "      <td>0</td>\n",
       "      <td>0</td>\n",
       "      <td>1</td>\n",
       "      <td>0</td>\n",
       "      <td>0</td>\n",
       "    </tr>\n",
       "    <tr>\n",
       "      <th>1</th>\n",
       "      <td>37</td>\n",
       "      <td>130</td>\n",
       "      <td>250</td>\n",
       "      <td>187</td>\n",
       "      <td>3.5</td>\n",
       "      <td>1</td>\n",
       "      <td>1</td>\n",
       "      <td>0</td>\n",
       "      <td>1</td>\n",
       "      <td>0</td>\n",
       "      <td>...</td>\n",
       "      <td>0</td>\n",
       "      <td>0</td>\n",
       "      <td>0</td>\n",
       "      <td>0</td>\n",
       "      <td>0</td>\n",
       "      <td>0</td>\n",
       "      <td>0</td>\n",
       "      <td>0</td>\n",
       "      <td>1</td>\n",
       "      <td>0</td>\n",
       "    </tr>\n",
       "    <tr>\n",
       "      <th>2</th>\n",
       "      <td>41</td>\n",
       "      <td>130</td>\n",
       "      <td>204</td>\n",
       "      <td>172</td>\n",
       "      <td>1.4</td>\n",
       "      <td>1</td>\n",
       "      <td>0</td>\n",
       "      <td>1</td>\n",
       "      <td>0</td>\n",
       "      <td>0</td>\n",
       "      <td>...</td>\n",
       "      <td>0</td>\n",
       "      <td>0</td>\n",
       "      <td>1</td>\n",
       "      <td>0</td>\n",
       "      <td>0</td>\n",
       "      <td>0</td>\n",
       "      <td>0</td>\n",
       "      <td>0</td>\n",
       "      <td>1</td>\n",
       "      <td>0</td>\n",
       "    </tr>\n",
       "    <tr>\n",
       "      <th>3</th>\n",
       "      <td>56</td>\n",
       "      <td>120</td>\n",
       "      <td>236</td>\n",
       "      <td>178</td>\n",
       "      <td>0.8</td>\n",
       "      <td>1</td>\n",
       "      <td>1</td>\n",
       "      <td>1</td>\n",
       "      <td>0</td>\n",
       "      <td>0</td>\n",
       "      <td>...</td>\n",
       "      <td>0</td>\n",
       "      <td>0</td>\n",
       "      <td>1</td>\n",
       "      <td>0</td>\n",
       "      <td>0</td>\n",
       "      <td>0</td>\n",
       "      <td>0</td>\n",
       "      <td>0</td>\n",
       "      <td>1</td>\n",
       "      <td>0</td>\n",
       "    </tr>\n",
       "    <tr>\n",
       "      <th>4</th>\n",
       "      <td>57</td>\n",
       "      <td>120</td>\n",
       "      <td>354</td>\n",
       "      <td>163</td>\n",
       "      <td>0.6</td>\n",
       "      <td>1</td>\n",
       "      <td>0</td>\n",
       "      <td>0</td>\n",
       "      <td>0</td>\n",
       "      <td>0</td>\n",
       "      <td>...</td>\n",
       "      <td>1</td>\n",
       "      <td>0</td>\n",
       "      <td>1</td>\n",
       "      <td>0</td>\n",
       "      <td>0</td>\n",
       "      <td>0</td>\n",
       "      <td>0</td>\n",
       "      <td>0</td>\n",
       "      <td>1</td>\n",
       "      <td>0</td>\n",
       "    </tr>\n",
       "    <tr>\n",
       "      <th>...</th>\n",
       "      <td>...</td>\n",
       "      <td>...</td>\n",
       "      <td>...</td>\n",
       "      <td>...</td>\n",
       "      <td>...</td>\n",
       "      <td>...</td>\n",
       "      <td>...</td>\n",
       "      <td>...</td>\n",
       "      <td>...</td>\n",
       "      <td>...</td>\n",
       "      <td>...</td>\n",
       "      <td>...</td>\n",
       "      <td>...</td>\n",
       "      <td>...</td>\n",
       "      <td>...</td>\n",
       "      <td>...</td>\n",
       "      <td>...</td>\n",
       "      <td>...</td>\n",
       "      <td>...</td>\n",
       "      <td>...</td>\n",
       "      <td>...</td>\n",
       "    </tr>\n",
       "    <tr>\n",
       "      <th>298</th>\n",
       "      <td>57</td>\n",
       "      <td>140</td>\n",
       "      <td>241</td>\n",
       "      <td>123</td>\n",
       "      <td>0.2</td>\n",
       "      <td>0</td>\n",
       "      <td>0</td>\n",
       "      <td>0</td>\n",
       "      <td>0</td>\n",
       "      <td>0</td>\n",
       "      <td>...</td>\n",
       "      <td>1</td>\n",
       "      <td>1</td>\n",
       "      <td>0</td>\n",
       "      <td>0</td>\n",
       "      <td>0</td>\n",
       "      <td>0</td>\n",
       "      <td>0</td>\n",
       "      <td>0</td>\n",
       "      <td>0</td>\n",
       "      <td>1</td>\n",
       "    </tr>\n",
       "    <tr>\n",
       "      <th>299</th>\n",
       "      <td>45</td>\n",
       "      <td>110</td>\n",
       "      <td>264</td>\n",
       "      <td>132</td>\n",
       "      <td>1.2</td>\n",
       "      <td>0</td>\n",
       "      <td>1</td>\n",
       "      <td>0</td>\n",
       "      <td>0</td>\n",
       "      <td>1</td>\n",
       "      <td>...</td>\n",
       "      <td>0</td>\n",
       "      <td>1</td>\n",
       "      <td>0</td>\n",
       "      <td>0</td>\n",
       "      <td>0</td>\n",
       "      <td>0</td>\n",
       "      <td>0</td>\n",
       "      <td>0</td>\n",
       "      <td>0</td>\n",
       "      <td>1</td>\n",
       "    </tr>\n",
       "    <tr>\n",
       "      <th>300</th>\n",
       "      <td>68</td>\n",
       "      <td>144</td>\n",
       "      <td>193</td>\n",
       "      <td>141</td>\n",
       "      <td>3.4</td>\n",
       "      <td>0</td>\n",
       "      <td>1</td>\n",
       "      <td>0</td>\n",
       "      <td>0</td>\n",
       "      <td>0</td>\n",
       "      <td>...</td>\n",
       "      <td>0</td>\n",
       "      <td>1</td>\n",
       "      <td>0</td>\n",
       "      <td>0</td>\n",
       "      <td>1</td>\n",
       "      <td>0</td>\n",
       "      <td>0</td>\n",
       "      <td>0</td>\n",
       "      <td>0</td>\n",
       "      <td>1</td>\n",
       "    </tr>\n",
       "    <tr>\n",
       "      <th>301</th>\n",
       "      <td>57</td>\n",
       "      <td>130</td>\n",
       "      <td>131</td>\n",
       "      <td>115</td>\n",
       "      <td>1.2</td>\n",
       "      <td>0</td>\n",
       "      <td>1</td>\n",
       "      <td>0</td>\n",
       "      <td>0</td>\n",
       "      <td>0</td>\n",
       "      <td>...</td>\n",
       "      <td>1</td>\n",
       "      <td>1</td>\n",
       "      <td>0</td>\n",
       "      <td>1</td>\n",
       "      <td>0</td>\n",
       "      <td>0</td>\n",
       "      <td>0</td>\n",
       "      <td>0</td>\n",
       "      <td>0</td>\n",
       "      <td>1</td>\n",
       "    </tr>\n",
       "    <tr>\n",
       "      <th>302</th>\n",
       "      <td>57</td>\n",
       "      <td>130</td>\n",
       "      <td>236</td>\n",
       "      <td>174</td>\n",
       "      <td>0.0</td>\n",
       "      <td>0</td>\n",
       "      <td>0</td>\n",
       "      <td>1</td>\n",
       "      <td>0</td>\n",
       "      <td>0</td>\n",
       "      <td>...</td>\n",
       "      <td>0</td>\n",
       "      <td>1</td>\n",
       "      <td>0</td>\n",
       "      <td>1</td>\n",
       "      <td>0</td>\n",
       "      <td>0</td>\n",
       "      <td>0</td>\n",
       "      <td>0</td>\n",
       "      <td>1</td>\n",
       "      <td>0</td>\n",
       "    </tr>\n",
       "  </tbody>\n",
       "</table>\n",
       "<p>298 rows × 23 columns</p>\n",
       "</div>"
      ],
      "text/plain": [
       "     age  trtbps  chol  thalachh  oldpeak  output  sex_1  cp_1  cp_2  cp_3  \\\n",
       "0     63     145   233       150      2.3       1      1     0     0     1   \n",
       "1     37     130   250       187      3.5       1      1     0     1     0   \n",
       "2     41     130   204       172      1.4       1      0     1     0     0   \n",
       "3     56     120   236       178      0.8       1      1     1     0     0   \n",
       "4     57     120   354       163      0.6       1      0     0     0     0   \n",
       "..   ...     ...   ...       ...      ...     ...    ...   ...   ...   ...   \n",
       "298   57     140   241       123      0.2       0      0     0     0     0   \n",
       "299   45     110   264       132      1.2       0      1     0     0     1   \n",
       "300   68     144   193       141      3.4       0      1     0     0     0   \n",
       "301   57     130   131       115      1.2       0      1     0     0     0   \n",
       "302   57     130   236       174      0.0       0      0     1     0     0   \n",
       "\n",
       "     ...  exng_1  slp_1  slp_2  caa_1  caa_2  caa_3  caa_4  thall_1  thall_2  \\\n",
       "0    ...       0      0      0      0      0      0      0        1        0   \n",
       "1    ...       0      0      0      0      0      0      0        0        1   \n",
       "2    ...       0      0      1      0      0      0      0        0        1   \n",
       "3    ...       0      0      1      0      0      0      0        0        1   \n",
       "4    ...       1      0      1      0      0      0      0        0        1   \n",
       "..   ...     ...    ...    ...    ...    ...    ...    ...      ...      ...   \n",
       "298  ...       1      1      0      0      0      0      0        0        0   \n",
       "299  ...       0      1      0      0      0      0      0        0        0   \n",
       "300  ...       0      1      0      0      1      0      0        0        0   \n",
       "301  ...       1      1      0      1      0      0      0        0        0   \n",
       "302  ...       0      1      0      1      0      0      0        0        1   \n",
       "\n",
       "     thall_3  \n",
       "0          0  \n",
       "1          0  \n",
       "2          0  \n",
       "3          0  \n",
       "4          0  \n",
       "..       ...  \n",
       "298        1  \n",
       "299        1  \n",
       "300        1  \n",
       "301        1  \n",
       "302        0  \n",
       "\n",
       "[298 rows x 23 columns]"
      ]
     },
     "execution_count": 47,
     "metadata": {},
     "output_type": "execute_result"
    }
   ],
   "source": [
    "df_process"
   ]
  },
  {
   "cell_type": "markdown",
   "id": "11048363",
   "metadata": {
    "papermill": {
     "duration": 0.111508,
     "end_time": "2021-07-08T11:18:21.259749",
     "exception": false,
     "start_time": "2021-07-08T11:18:21.148241",
     "status": "completed"
    },
    "tags": []
   },
   "source": [
    "Now we have 23 features"
   ]
  },
  {
   "cell_type": "code",
   "execution_count": 48,
   "id": "b0821023",
   "metadata": {
    "execution": {
     "iopub.execute_input": "2021-07-08T11:18:21.488531Z",
     "iopub.status.busy": "2021-07-08T11:18:21.487911Z",
     "iopub.status.idle": "2021-07-08T11:18:21.493283Z",
     "shell.execute_reply": "2021-07-08T11:18:21.493864Z",
     "shell.execute_reply.started": "2021-07-08T11:05:01.059803Z"
    },
    "papermill": {
     "duration": 0.120645,
     "end_time": "2021-07-08T11:18:21.494037",
     "exception": false,
     "start_time": "2021-07-08T11:18:21.373392",
     "status": "completed"
    },
    "tags": []
   },
   "outputs": [],
   "source": [
    "# Seperate output feature\n",
    "X = df_process.drop(columns='output')\n",
    "y = df_process.output"
   ]
  },
  {
   "cell_type": "code",
   "execution_count": 49,
   "id": "94467a21",
   "metadata": {
    "execution": {
     "iopub.execute_input": "2021-07-08T11:18:21.720964Z",
     "iopub.status.busy": "2021-07-08T11:18:21.720290Z",
     "iopub.status.idle": "2021-07-08T11:18:21.848202Z",
     "shell.execute_reply": "2021-07-08T11:18:21.847635Z",
     "shell.execute_reply.started": "2021-07-08T11:05:01.067936Z"
    },
    "papermill": {
     "duration": 0.242422,
     "end_time": "2021-07-08T11:18:21.848351",
     "exception": false,
     "start_time": "2021-07-08T11:18:21.605929",
     "status": "completed"
    },
    "tags": []
   },
   "outputs": [],
   "source": [
    "# Standardise data to improve accuracy of Linear models\n",
    "from sklearn.preprocessing import StandardScaler\n",
    "scaler = StandardScaler()\n",
    "scaler.fit(X)\n",
    "df_scale = scaler.transform(X)"
   ]
  },
  {
   "cell_type": "code",
   "execution_count": 50,
   "id": "abb97edd",
   "metadata": {
    "execution": {
     "iopub.execute_input": "2021-07-08T11:18:22.074326Z",
     "iopub.status.busy": "2021-07-08T11:18:22.073676Z",
     "iopub.status.idle": "2021-07-08T11:18:22.128964Z",
     "shell.execute_reply": "2021-07-08T11:18:22.128361Z",
     "shell.execute_reply.started": "2021-07-08T11:05:01.090338Z"
    },
    "papermill": {
     "duration": 0.170129,
     "end_time": "2021-07-08T11:18:22.129121",
     "exception": false,
     "start_time": "2021-07-08T11:18:21.958992",
     "status": "completed"
    },
    "tags": []
   },
   "outputs": [],
   "source": [
    "# Dividing data into train and test set\n",
    "from sklearn.model_selection import train_test_split\n",
    "X_train, X_test, y_train, y_test = train_test_split(X, y, test_size=0.2, random_state=42, stratify=y)"
   ]
  },
  {
   "cell_type": "code",
   "execution_count": 51,
   "id": "64534dbf",
   "metadata": {
    "execution": {
     "iopub.execute_input": "2021-07-08T11:18:22.369624Z",
     "iopub.status.busy": "2021-07-08T11:18:22.368950Z",
     "iopub.status.idle": "2021-07-08T11:18:22.374624Z",
     "shell.execute_reply": "2021-07-08T11:18:22.375267Z",
     "shell.execute_reply.started": "2021-07-08T11:05:01.102835Z"
    },
    "papermill": {
     "duration": 0.134724,
     "end_time": "2021-07-08T11:18:22.375461",
     "exception": false,
     "start_time": "2021-07-08T11:18:22.240737",
     "status": "completed"
    },
    "tags": []
   },
   "outputs": [
    {
     "data": {
      "text/plain": [
       "((238, 22), (60, 22), (238,), (60,))"
      ]
     },
     "execution_count": 51,
     "metadata": {},
     "output_type": "execute_result"
    }
   ],
   "source": [
    "X_train.shape, X_test.shape, y_train.shape, y_test.shape"
   ]
  },
  {
   "cell_type": "markdown",
   "id": "f051f514",
   "metadata": {
    "papermill": {
     "duration": 0.111779,
     "end_time": "2021-07-08T11:18:22.609568",
     "exception": false,
     "start_time": "2021-07-08T11:18:22.497789",
     "status": "completed"
    },
    "tags": []
   },
   "source": [
    "For training we have 238 data points and for testing we have 60"
   ]
  },
  {
   "cell_type": "markdown",
   "id": "0b249345",
   "metadata": {
    "papermill": {
     "duration": 0.112207,
     "end_time": "2021-07-08T11:18:22.834366",
     "exception": false,
     "start_time": "2021-07-08T11:18:22.722159",
     "status": "completed"
    },
    "tags": []
   },
   "source": [
    "Data is imbalance we cannot trust ACCURACY we use F1 score"
   ]
  },
  {
   "cell_type": "code",
   "execution_count": 52,
   "id": "e215e6c8",
   "metadata": {
    "execution": {
     "iopub.execute_input": "2021-07-08T11:18:23.066152Z",
     "iopub.status.busy": "2021-07-08T11:18:23.065381Z",
     "iopub.status.idle": "2021-07-08T11:18:23.386144Z",
     "shell.execute_reply": "2021-07-08T11:18:23.385554Z",
     "shell.execute_reply.started": "2021-07-08T11:05:01.118420Z"
    },
    "papermill": {
     "duration": 0.439059,
     "end_time": "2021-07-08T11:18:23.386285",
     "exception": false,
     "start_time": "2021-07-08T11:18:22.947226",
     "status": "completed"
    },
    "tags": []
   },
   "outputs": [],
   "source": [
    "from sklearn.linear_model import LogisticRegression\n",
    "from sklearn.svm import SVC\n",
    "from sklearn.tree import DecisionTreeClassifier\n",
    "from sklearn.ensemble import RandomForestClassifier\n",
    "from sklearn.ensemble import GradientBoostingClassifier\n",
    "from sklearn.neighbors import KNeighborsClassifier\n",
    "\n",
    "\n",
    "from sklearn.model_selection import RepeatedStratifiedKFold\n",
    "from sklearn.model_selection import GridSearchCV\n",
    "from sklearn.metrics import classification_report\n",
    "target_names = ['class 0', 'class 1']"
   ]
  },
  {
   "cell_type": "code",
   "execution_count": 53,
   "id": "b58e84fa",
   "metadata": {
    "execution": {
     "iopub.execute_input": "2021-07-08T11:18:23.618077Z",
     "iopub.status.busy": "2021-07-08T11:18:23.617366Z",
     "iopub.status.idle": "2021-07-08T11:18:23.635178Z",
     "shell.execute_reply": "2021-07-08T11:18:23.635876Z",
     "shell.execute_reply.started": "2021-07-08T11:05:01.132527Z"
    },
    "papermill": {
     "duration": 0.137757,
     "end_time": "2021-07-08T11:18:23.636120",
     "exception": false,
     "start_time": "2021-07-08T11:18:23.498363",
     "status": "completed"
    },
    "tags": []
   },
   "outputs": [
    {
     "name": "stdout",
     "output_type": "stream",
     "text": [
      "              precision    recall  f1-score   support\n",
      "\n",
      "     class 0       0.79      0.85      0.82        27\n",
      "     class 1       0.87      0.82      0.84        33\n",
      "\n",
      "    accuracy                           0.83        60\n",
      "   macro avg       0.83      0.84      0.83        60\n",
      "weighted avg       0.84      0.83      0.83        60\n",
      "\n"
     ]
    }
   ],
   "source": [
    "lr = LogisticRegression(solver='liblinear')\n",
    "lr.fit(X_train,y_train)\n",
    "y_pred = lr.predict(X_test)\n",
    "print(classification_report(y_test, y_pred, target_names=target_names))"
   ]
  },
  {
   "cell_type": "code",
   "execution_count": 54,
   "id": "6209afd6",
   "metadata": {
    "execution": {
     "iopub.execute_input": "2021-07-08T11:18:23.866686Z",
     "iopub.status.busy": "2021-07-08T11:18:23.866020Z",
     "iopub.status.idle": "2021-07-08T11:18:23.881625Z",
     "shell.execute_reply": "2021-07-08T11:18:23.881001Z",
     "shell.execute_reply.started": "2021-07-08T11:05:01.158103Z"
    },
    "papermill": {
     "duration": 0.133413,
     "end_time": "2021-07-08T11:18:23.881771",
     "exception": false,
     "start_time": "2021-07-08T11:18:23.748358",
     "status": "completed"
    },
    "tags": []
   },
   "outputs": [
    {
     "name": "stdout",
     "output_type": "stream",
     "text": [
      "              precision    recall  f1-score   support\n",
      "\n",
      "     class 0       0.61      0.52      0.56        27\n",
      "     class 1       0.65      0.73      0.69        33\n",
      "\n",
      "    accuracy                           0.63        60\n",
      "   macro avg       0.63      0.62      0.62        60\n",
      "weighted avg       0.63      0.63      0.63        60\n",
      "\n"
     ]
    }
   ],
   "source": [
    "sv = SVC()\n",
    "sv.fit(X_train,y_train)\n",
    "y_pred = sv.predict(X_test)\n",
    "print(classification_report(y_test, y_pred, target_names=target_names))"
   ]
  },
  {
   "cell_type": "code",
   "execution_count": 55,
   "id": "92b47bbe",
   "metadata": {
    "execution": {
     "iopub.execute_input": "2021-07-08T11:18:24.114795Z",
     "iopub.status.busy": "2021-07-08T11:18:24.114151Z",
     "iopub.status.idle": "2021-07-08T11:18:24.125273Z",
     "shell.execute_reply": "2021-07-08T11:18:24.124730Z",
     "shell.execute_reply.started": "2021-07-08T11:05:01.180721Z"
    },
    "papermill": {
     "duration": 0.131219,
     "end_time": "2021-07-08T11:18:24.125419",
     "exception": false,
     "start_time": "2021-07-08T11:18:23.994200",
     "status": "completed"
    },
    "tags": []
   },
   "outputs": [
    {
     "name": "stdout",
     "output_type": "stream",
     "text": [
      "              precision    recall  f1-score   support\n",
      "\n",
      "     class 0       0.59      0.81      0.69        27\n",
      "     class 1       0.78      0.55      0.64        33\n",
      "\n",
      "    accuracy                           0.67        60\n",
      "   macro avg       0.69      0.68      0.67        60\n",
      "weighted avg       0.70      0.67      0.66        60\n",
      "\n"
     ]
    }
   ],
   "source": [
    "dt = DecisionTreeClassifier()\n",
    "dt.fit(X_train,y_train)\n",
    "y_pred = dt.predict(X_test)\n",
    "print(classification_report(y_test, y_pred, target_names=target_names))"
   ]
  },
  {
   "cell_type": "code",
   "execution_count": 56,
   "id": "bd958e87",
   "metadata": {
    "execution": {
     "iopub.execute_input": "2021-07-08T11:18:24.394661Z",
     "iopub.status.busy": "2021-07-08T11:18:24.368729Z",
     "iopub.status.idle": "2021-07-08T11:18:24.571949Z",
     "shell.execute_reply": "2021-07-08T11:18:24.571389Z",
     "shell.execute_reply.started": "2021-07-08T11:05:01.201928Z"
    },
    "papermill": {
     "duration": 0.334264,
     "end_time": "2021-07-08T11:18:24.572087",
     "exception": false,
     "start_time": "2021-07-08T11:18:24.237823",
     "status": "completed"
    },
    "tags": []
   },
   "outputs": [
    {
     "name": "stdout",
     "output_type": "stream",
     "text": [
      "              precision    recall  f1-score   support\n",
      "\n",
      "     class 0       0.77      0.74      0.75        27\n",
      "     class 1       0.79      0.82      0.81        33\n",
      "\n",
      "    accuracy                           0.78        60\n",
      "   macro avg       0.78      0.78      0.78        60\n",
      "weighted avg       0.78      0.78      0.78        60\n",
      "\n"
     ]
    }
   ],
   "source": [
    "rf = RandomForestClassifier()\n",
    "rf.fit(X_train,y_train)\n",
    "y_pred = rf.predict(X_test)\n",
    "print(classification_report(y_test, y_pred, target_names=target_names))"
   ]
  },
  {
   "cell_type": "code",
   "execution_count": 57,
   "id": "2621e1c6",
   "metadata": {
    "execution": {
     "iopub.execute_input": "2021-07-08T11:18:24.806731Z",
     "iopub.status.busy": "2021-07-08T11:18:24.806018Z",
     "iopub.status.idle": "2021-07-08T11:18:24.836884Z",
     "shell.execute_reply": "2021-07-08T11:18:24.836346Z",
     "shell.execute_reply.started": "2021-07-08T11:05:01.397509Z"
    },
    "papermill": {
     "duration": 0.151415,
     "end_time": "2021-07-08T11:18:24.837014",
     "exception": false,
     "start_time": "2021-07-08T11:18:24.685599",
     "status": "completed"
    },
    "tags": []
   },
   "outputs": [
    {
     "name": "stdout",
     "output_type": "stream",
     "text": [
      "              precision    recall  f1-score   support\n",
      "\n",
      "     class 0       0.69      0.67      0.68        27\n",
      "     class 1       0.74      0.76      0.75        33\n",
      "\n",
      "    accuracy                           0.72        60\n",
      "   macro avg       0.71      0.71      0.71        60\n",
      "weighted avg       0.72      0.72      0.72        60\n",
      "\n"
     ]
    }
   ],
   "source": [
    "gb = GradientBoostingClassifier(n_estimators=20)\n",
    "gb.fit(X_train,y_train)\n",
    "y_pred = gb.predict(X_test)\n",
    "print(classification_report(y_test, y_pred, target_names=target_names))"
   ]
  },
  {
   "cell_type": "markdown",
   "id": "7c0204f3",
   "metadata": {
    "papermill": {
     "duration": 0.114709,
     "end_time": "2021-07-08T11:18:25.064459",
     "exception": false,
     "start_time": "2021-07-08T11:18:24.949750",
     "status": "completed"
    },
    "tags": []
   },
   "source": [
    "# Hyperparameter Tunning"
   ]
  },
  {
   "cell_type": "code",
   "execution_count": 58,
   "id": "7ed96435",
   "metadata": {
    "execution": {
     "iopub.execute_input": "2021-07-08T11:18:25.297066Z",
     "iopub.status.busy": "2021-07-08T11:18:25.296430Z",
     "iopub.status.idle": "2021-07-08T11:18:31.063635Z",
     "shell.execute_reply": "2021-07-08T11:18:31.064285Z",
     "shell.execute_reply.started": "2021-07-08T11:05:01.439971Z"
    },
    "papermill": {
     "duration": 5.884908,
     "end_time": "2021-07-08T11:18:31.064456",
     "exception": false,
     "start_time": "2021-07-08T11:18:25.179548",
     "status": "completed"
    },
    "tags": []
   },
   "outputs": [
    {
     "name": "stdout",
     "output_type": "stream",
     "text": [
      "Best: 0.850151 using {'C': 10, 'penalty': 'l2', 'solver': 'liblinear'}\n"
     ]
    }
   ],
   "source": [
    "lr = LogisticRegression()\n",
    "solvers = ['newton-cg', 'lbfgs', 'liblinear']\n",
    "penalty = ['l1','l2']\n",
    "c_values = [100, 10, 1.0, 0.1, 0.01]\n",
    "grid = dict(solver=solvers,penalty=penalty,C=c_values)\n",
    "cv = RepeatedStratifiedKFold(n_splits=5, n_repeats=3, random_state=1)\n",
    "\n",
    "grid_search = GridSearchCV(estimator=lr, param_grid=grid, n_jobs=-1, cv=cv, scoring='accuracy',error_score=0)\n",
    "grid_result = grid_search.fit(X, y)\n",
    "# summarize results\n",
    "print(\"Best: %f using %s\" % (grid_result.best_score_, grid_result.best_params_))"
   ]
  },
  {
   "cell_type": "code",
   "execution_count": 59,
   "id": "562b512d",
   "metadata": {
    "execution": {
     "iopub.execute_input": "2021-07-08T11:18:31.300788Z",
     "iopub.status.busy": "2021-07-08T11:18:31.299616Z",
     "iopub.status.idle": "2021-07-08T11:18:31.352719Z",
     "shell.execute_reply": "2021-07-08T11:18:31.353261Z",
     "shell.execute_reply.started": "2021-07-08T11:05:06.465295Z"
    },
    "papermill": {
     "duration": 0.175126,
     "end_time": "2021-07-08T11:18:31.353438",
     "exception": false,
     "start_time": "2021-07-08T11:18:31.178312",
     "status": "completed"
    },
    "tags": []
   },
   "outputs": [
    {
     "name": "stdout",
     "output_type": "stream",
     "text": [
      "              precision    recall  f1-score   support\n",
      "\n",
      "     class 0       0.79      0.85      0.82        27\n",
      "     class 1       0.87      0.82      0.84        33\n",
      "\n",
      "    accuracy                           0.83        60\n",
      "   macro avg       0.83      0.84      0.83        60\n",
      "weighted avg       0.84      0.83      0.83        60\n",
      "\n"
     ]
    }
   ],
   "source": [
    "lr = LogisticRegression(C=10, penalty='l2',solver='newton-cg')\n",
    "lr.fit(X_train,y_train)\n",
    "y_pred = lr.predict(X_test)\n",
    "print(classification_report(y_test, y_pred, target_names=target_names))"
   ]
  },
  {
   "cell_type": "code",
   "execution_count": 60,
   "id": "f3d45a45",
   "metadata": {
    "execution": {
     "iopub.execute_input": "2021-07-08T11:18:31.587465Z",
     "iopub.status.busy": "2021-07-08T11:18:31.586743Z",
     "iopub.status.idle": "2021-07-08T11:18:32.773426Z",
     "shell.execute_reply": "2021-07-08T11:18:32.772860Z",
     "shell.execute_reply.started": "2021-07-08T11:05:06.521916Z"
    },
    "papermill": {
     "duration": 1.305332,
     "end_time": "2021-07-08T11:18:32.773599",
     "exception": false,
     "start_time": "2021-07-08T11:18:31.468267",
     "status": "completed"
    },
    "tags": []
   },
   "outputs": [
    {
     "name": "stdout",
     "output_type": "stream",
     "text": [
      "Best: 0.718117 using {'C': 50, 'gamma': 'scale', 'kernel': 'poly'}\n"
     ]
    }
   ],
   "source": [
    "model = SVC()\n",
    "kernel = ['poly', 'rbf', 'sigmoid']\n",
    "C = [50, 10, 5, 1.0, 0.1, 0.01]\n",
    "gamma = ['scale']\n",
    "# define grid search\n",
    "grid = dict(kernel=kernel,C=C,gamma=gamma)\n",
    "cv = RepeatedStratifiedKFold(n_splits=5, n_repeats=3, random_state=1)\n",
    "grid_search = GridSearchCV(estimator=model, param_grid=grid, n_jobs=-1, cv=cv, scoring='accuracy',error_score=0)\n",
    "grid_result = grid_search.fit(X, y)\n",
    "# summarize results\n",
    "print(\"Best: %f using %s\" % (grid_result.best_score_, grid_result.best_params_))"
   ]
  },
  {
   "cell_type": "code",
   "execution_count": 61,
   "id": "062223db",
   "metadata": {
    "execution": {
     "iopub.execute_input": "2021-07-08T11:18:33.007226Z",
     "iopub.status.busy": "2021-07-08T11:18:33.006570Z",
     "iopub.status.idle": "2021-07-08T11:19:28.699737Z",
     "shell.execute_reply": "2021-07-08T11:19:28.700283Z",
     "shell.execute_reply.started": "2021-07-08T11:05:07.728489Z"
    },
    "papermill": {
     "duration": 55.811115,
     "end_time": "2021-07-08T11:19:28.700466",
     "exception": false,
     "start_time": "2021-07-08T11:18:32.889351",
     "status": "completed"
    },
    "tags": []
   },
   "outputs": [
    {
     "name": "stdout",
     "output_type": "stream",
     "text": [
      "Best: 0.794406 using {'max_features': 'sqrt', 'n_estimators': 100}\n"
     ]
    }
   ],
   "source": [
    "model = RandomForestClassifier()\n",
    "n_estimators = [10, 100, 1000]\n",
    "max_features = ['sqrt', 'log2']\n",
    "# define grid search\n",
    "grid = dict(n_estimators=n_estimators,max_features=max_features)\n",
    "cv = RepeatedStratifiedKFold(n_splits=10, n_repeats=3, random_state=1)\n",
    "grid_search = GridSearchCV(estimator=model, param_grid=grid, n_jobs=-1, cv=cv, scoring='accuracy',error_score=0)\n",
    "grid_result = grid_search.fit(X, y)\n",
    "# summarize results\n",
    "print(\"Best: %f using %s\" % (grid_result.best_score_, grid_result.best_params_))"
   ]
  },
  {
   "cell_type": "code",
   "execution_count": 62,
   "id": "5f99716a",
   "metadata": {
    "execution": {
     "iopub.execute_input": "2021-07-08T11:19:28.933763Z",
     "iopub.status.busy": "2021-07-08T11:19:28.932824Z",
     "iopub.status.idle": "2021-07-08T11:19:28.935951Z",
     "shell.execute_reply": "2021-07-08T11:19:28.936397Z",
     "shell.execute_reply.started": "2021-07-08T11:05:54.845742Z"
    },
    "papermill": {
     "duration": 0.121839,
     "end_time": "2021-07-08T11:19:28.936567",
     "exception": false,
     "start_time": "2021-07-08T11:19:28.814728",
     "status": "completed"
    },
    "tags": []
   },
   "outputs": [],
   "source": [
    "# model = GradientBoostingClassifier()\n",
    "# n_estimators = [10, 30, 70, 100, 1000]\n",
    "# learning_rate = [0.001, 0.01, 0.1]\n",
    "# subsample = [0.5, 0.7, 1.0]\n",
    "# max_depth = [2, 4, 6, 8, 10]\n",
    "# # define grid search\n",
    "# grid = dict(learning_rate=learning_rate, n_estimators=n_estimators, subsample=subsample, max_depth=max_depth)\n",
    "# cv = RepeatedStratifiedKFold(n_splits=5, n_repeats=3, random_state=1)\n",
    "# grid_search = GridSearchCV(estimator=model, param_grid=grid, n_jobs=-1, cv=cv, scoring='accuracy',error_score=0)\n",
    "# grid_result = grid_search.fit(X, y)\n",
    "# # summarize results\n",
    "# print(\"Best: %f using %s\" % (grid_result.best_score_, grid_result.best_params_))\n",
    "\n",
    "# >>>> Best: 0.827759 using {'learning_rate': 0.01, 'max_depth': 2, 'n_estimators': 1000, 'subsample': 0.5}"
   ]
  },
  {
   "cell_type": "code",
   "execution_count": 63,
   "id": "5a2caa05",
   "metadata": {
    "execution": {
     "iopub.execute_input": "2021-07-08T11:19:29.174807Z",
     "iopub.status.busy": "2021-07-08T11:19:29.174163Z",
     "iopub.status.idle": "2021-07-08T11:19:29.893011Z",
     "shell.execute_reply": "2021-07-08T11:19:29.892422Z",
     "shell.execute_reply.started": "2021-07-08T11:05:54.851076Z"
    },
    "papermill": {
     "duration": 0.841459,
     "end_time": "2021-07-08T11:19:29.893158",
     "exception": false,
     "start_time": "2021-07-08T11:19:29.051699",
     "status": "completed"
    },
    "tags": []
   },
   "outputs": [
    {
     "name": "stdout",
     "output_type": "stream",
     "text": [
      "              precision    recall  f1-score   support\n",
      "\n",
      "     class 0       0.78      0.78      0.78        27\n",
      "     class 1       0.82      0.82      0.82        33\n",
      "\n",
      "    accuracy                           0.80        60\n",
      "   macro avg       0.80      0.80      0.80        60\n",
      "weighted avg       0.80      0.80      0.80        60\n",
      "\n"
     ]
    }
   ],
   "source": [
    "gb = GradientBoostingClassifier(learning_rate=0.01, max_depth=2, n_estimators=1000, subsample=0.5)\n",
    "gb.fit(X_train,y_train)\n",
    "y_pred = gb.predict(X_test)\n",
    "print(classification_report(y_test, y_pred, target_names=target_names))"
   ]
  },
  {
   "cell_type": "code",
   "execution_count": 64,
   "id": "04451dba",
   "metadata": {
    "execution": {
     "iopub.execute_input": "2021-07-08T11:19:30.129275Z",
     "iopub.status.busy": "2021-07-08T11:19:30.128561Z",
     "iopub.status.idle": "2021-07-08T11:19:30.211183Z",
     "shell.execute_reply": "2021-07-08T11:19:30.210642Z",
     "shell.execute_reply.started": "2021-07-08T11:05:55.560174Z"
    },
    "papermill": {
     "duration": 0.203285,
     "end_time": "2021-07-08T11:19:30.211328",
     "exception": false,
     "start_time": "2021-07-08T11:19:30.008043",
     "status": "completed"
    },
    "tags": []
   },
   "outputs": [],
   "source": [
    "import xgboost as xgb\n",
    "from sklearn.model_selection import RandomizedSearchCV, GridSearchCV\n",
    "from sklearn.metrics import f1_score, make_scorer\n",
    "import xgboost"
   ]
  },
  {
   "cell_type": "code",
   "execution_count": 65,
   "id": "a61d5441",
   "metadata": {
    "execution": {
     "iopub.execute_input": "2021-07-08T11:19:30.445746Z",
     "iopub.status.busy": "2021-07-08T11:19:30.445100Z",
     "iopub.status.idle": "2021-07-08T11:19:30.448256Z",
     "shell.execute_reply": "2021-07-08T11:19:30.447709Z",
     "shell.execute_reply.started": "2021-07-08T11:05:55.569729Z"
    },
    "papermill": {
     "duration": 0.121888,
     "end_time": "2021-07-08T11:19:30.448405",
     "exception": false,
     "start_time": "2021-07-08T11:19:30.326517",
     "status": "completed"
    },
    "tags": []
   },
   "outputs": [],
   "source": [
    "#  It takes half hour to run\n",
    "# model = xgboost.XGBClassifier()\n",
    "# params = {\"learning_rate\"    : [0.05, 0.10, 0.15],\n",
    "#          \"max_depth\"        : [ 3, 4, 5, 6, 8, 10, 12, 15],\n",
    "#           \"min_child_weight\" : [ 1, 3, 5, 7 ],\n",
    "#           \"gamma\"            : [ 0.0, 0.1, 0.2 , 0.3, 0.4 ],\n",
    "#           \"colsample_bytree\" : [ 0.3, 0.4, 0.5 , 0.7 ] }\n",
    "\n",
    "# cv = RepeatedStratifiedKFold(n_splits=3, n_repeats=3, random_state=1)\n",
    "# grid_search = RandomizedSearchCV(estimator=model, param_distributions=params, n_jobs=-1, cv=cv, scoring='accuracy',error_score=0,n_iter=20)\n",
    "# grid_result = grid_search.fit(X, y)\n",
    "# # summarize results\n",
    "# print(\"Best: %f using %s\" % (grid_result.best_score_, grid_result.best_params_))\n",
    "\n",
    "# # >>> Best: 0.813143 using {'min_child_weight': 1, 'max_depth': 3, 'learning_rate': 0.1, 'gamma': 0.3, 'colsample_bytree': 0.3}"
   ]
  },
  {
   "cell_type": "code",
   "execution_count": 66,
   "id": "0b519c3f",
   "metadata": {
    "execution": {
     "iopub.execute_input": "2021-07-08T11:19:30.685383Z",
     "iopub.status.busy": "2021-07-08T11:19:30.684720Z",
     "iopub.status.idle": "2021-07-08T11:19:30.756428Z",
     "shell.execute_reply": "2021-07-08T11:19:30.757121Z",
     "shell.execute_reply.started": "2021-07-08T11:05:55.583450Z"
    },
    "papermill": {
     "duration": 0.193537,
     "end_time": "2021-07-08T11:19:30.757320",
     "exception": false,
     "start_time": "2021-07-08T11:19:30.563783",
     "status": "completed"
    },
    "tags": []
   },
   "outputs": [
    {
     "name": "stdout",
     "output_type": "stream",
     "text": [
      "[11:19:30] WARNING: ../src/learner.cc:1095: Starting in XGBoost 1.3.0, the default evaluation metric used with the objective 'binary:logistic' was changed from 'error' to 'logloss'. Explicitly set eval_metric if you'd like to restore the old behavior.\n",
      "              precision    recall  f1-score   support\n",
      "\n",
      "     class 0       0.82      0.85      0.84        27\n",
      "     class 1       0.88      0.85      0.86        33\n",
      "\n",
      "    accuracy                           0.85        60\n",
      "   macro avg       0.85      0.85      0.85        60\n",
      "weighted avg       0.85      0.85      0.85        60\n",
      "\n"
     ]
    }
   ],
   "source": [
    "xgbt = xgboost.XGBClassifier(min_child_weight=1, max_depth=3, learning_rate=0.1, gamma=0.3, colsample_bytree=0.3)\n",
    "xgbt.fit(X_train,y_train)\n",
    "y_pred = xgbt.predict(X_test)\n",
    "print(classification_report(y_test, y_pred, target_names=target_names))"
   ]
  },
  {
   "cell_type": "code",
   "execution_count": 67,
   "id": "7d7f37df",
   "metadata": {
    "execution": {
     "iopub.execute_input": "2021-07-08T11:19:30.994491Z",
     "iopub.status.busy": "2021-07-08T11:19:30.993855Z",
     "iopub.status.idle": "2021-07-08T11:19:30.995497Z",
     "shell.execute_reply": "2021-07-08T11:19:30.995996Z",
     "shell.execute_reply.started": "2021-07-08T11:07:53.341726Z"
    },
    "papermill": {
     "duration": 0.122192,
     "end_time": "2021-07-08T11:19:30.996159",
     "exception": false,
     "start_time": "2021-07-08T11:19:30.873967",
     "status": "completed"
    },
    "tags": []
   },
   "outputs": [],
   "source": [
    "param = {'min_child_weight': 1, 'max_depth': 3, 'learning_rate': 0.1, 'gamma': 0.3, 'colsample_bytree': 0.3}\n",
    "num_round = 20"
   ]
  },
  {
   "cell_type": "code",
   "execution_count": 68,
   "id": "26df91ef",
   "metadata": {
    "execution": {
     "iopub.execute_input": "2021-07-08T11:19:31.229785Z",
     "iopub.status.busy": "2021-07-08T11:19:31.229166Z",
     "iopub.status.idle": "2021-07-08T11:19:31.251061Z",
     "shell.execute_reply": "2021-07-08T11:19:31.251672Z",
     "shell.execute_reply.started": "2021-07-08T11:08:33.157196Z"
    },
    "papermill": {
     "duration": 0.140089,
     "end_time": "2021-07-08T11:19:31.251891",
     "exception": false,
     "start_time": "2021-07-08T11:19:31.111802",
     "status": "completed"
    },
    "tags": []
   },
   "outputs": [],
   "source": [
    "txgb = xgboost.XGBClassifier(min_child_weight=1, max_depth=3, learning_rate=0.1, gamma=0.3, colsample_bytree=0.3)\n",
    "dtrain = xgb.DMatrix(df.drop('output',axis=1), label=df.output, enable_categorical=True)\n",
    "bst = xgb.train(param, dtrain, num_round)\n",
    "# txgb.fit(dtrain)\n",
    "# y_pred = txgb.predict(X_test)\n",
    "# print(classification_report(y_test, y_pred, target_names=target_names))"
   ]
  },
  {
   "cell_type": "code",
   "execution_count": 69,
   "id": "c2a6f4c7",
   "metadata": {
    "execution": {
     "iopub.execute_input": "2021-07-08T11:19:31.495547Z",
     "iopub.status.busy": "2021-07-08T11:19:31.494841Z",
     "iopub.status.idle": "2021-07-08T11:19:32.251761Z",
     "shell.execute_reply": "2021-07-08T11:19:32.252310Z",
     "shell.execute_reply.started": "2021-07-08T11:10:56.492326Z"
    },
    "papermill": {
     "duration": 0.883365,
     "end_time": "2021-07-08T11:19:32.252476",
     "exception": false,
     "start_time": "2021-07-08T11:19:31.369111",
     "status": "completed"
    },
    "tags": []
   },
   "outputs": [
    {
     "data": {
      "text/plain": [
       "GradientBoostingClassifier(learning_rate=0.01, max_depth=2, n_estimators=1000,\n",
       "                           subsample=0.5)"
      ]
     },
     "execution_count": 69,
     "metadata": {},
     "output_type": "execute_result"
    }
   ],
   "source": [
    "# For features importance\n",
    "gb = GradientBoostingClassifier(learning_rate=0.01, max_depth=2, n_estimators=1000, subsample=0.5)\n",
    "gb.fit(df.drop('output',axis=1),df.output)"
   ]
  },
  {
   "cell_type": "code",
   "execution_count": 70,
   "id": "15e84aaa",
   "metadata": {
    "execution": {
     "iopub.execute_input": "2021-07-08T11:19:32.487950Z",
     "iopub.status.busy": "2021-07-08T11:19:32.487251Z",
     "iopub.status.idle": "2021-07-08T11:19:32.494130Z",
     "shell.execute_reply": "2021-07-08T11:19:32.494634Z",
     "shell.execute_reply.started": "2021-07-08T11:14:40.931513Z"
    },
    "papermill": {
     "duration": 0.125846,
     "end_time": "2021-07-08T11:19:32.494803",
     "exception": false,
     "start_time": "2021-07-08T11:19:32.368957",
     "status": "completed"
    },
    "tags": []
   },
   "outputs": [],
   "source": [
    "def plot_feature_importance(importance,names,model_type):\n",
    "    #Create arrays from feature importance and feature names\n",
    "    feature_importance = np.array(importance)\n",
    "    feature_names = np.array(names)\n",
    "\n",
    "    #Create a DataFrame using a Dictionary\n",
    "    data={'feature_names':feature_names,'feature_importance':feature_importance}\n",
    "    fi_df = pd.DataFrame(data)\n",
    "\n",
    "    #Sort the DataFrame in order decreasing feature importance\n",
    "    fi_df.sort_values(by=['feature_importance'], ascending=False,inplace=True)\n",
    "\n",
    "    #Define size of bar plot\n",
    "    plt.figure(figsize=(10,8))\n",
    "    #Plot Searborn bar chart\n",
    "    sns.barplot(x=fi_df['feature_importance'], y=fi_df['feature_names'])\n",
    "    #Add chart labels\n",
    "    plt.title(model_type + 'FEATURE IMPORTANCE')\n",
    "    plt.xlabel('FEATURE IMPORTANCE')\n",
    "    plt.ylabel('FEATURE NAMES')\n"
   ]
  },
  {
   "cell_type": "code",
   "execution_count": 71,
   "id": "4d7dc953",
   "metadata": {
    "execution": {
     "iopub.execute_input": "2021-07-08T11:19:32.731239Z",
     "iopub.status.busy": "2021-07-08T11:19:32.730580Z",
     "iopub.status.idle": "2021-07-08T11:19:33.020148Z",
     "shell.execute_reply": "2021-07-08T11:19:33.020665Z",
     "shell.execute_reply.started": "2021-07-08T11:15:50.977045Z"
    },
    "papermill": {
     "duration": 0.408641,
     "end_time": "2021-07-08T11:19:33.020861",
     "exception": false,
     "start_time": "2021-07-08T11:19:32.612220",
     "status": "completed"
    },
    "tags": []
   },
   "outputs": [
    {
     "data": {
      "image/png": "[encoded data removed]",
      "text/plain": [
       "<Figure size 720x576 with 1 Axes>"
      ]
     },
     "metadata": {},
     "output_type": "display_data"
    }
   ],
   "source": [
    "plot_feature_importance(gb.feature_importances_,df.drop('output',axis=1).columns,'GRADIENT BOOST')"
   ]
  },
  {
   "cell_type": "markdown",
   "id": "2a94f2b4",
   "metadata": {
    "papermill": {
     "duration": 0.11682,
     "end_time": "2021-07-08T11:19:33.256306",
     "exception": false,
     "start_time": "2021-07-08T11:19:33.139486",
     "status": "completed"
    },
    "tags": []
   },
   "source": [
    "We see here Chest pain has maximium contribution to predictiong more chances of heart attack."
   ]
  },
  {
   "cell_type": "code",
   "execution_count": 72,
   "id": "04b16946",
   "metadata": {
    "execution": {
     "iopub.execute_input": "2021-07-08T11:19:33.494054Z",
     "iopub.status.busy": "2021-07-08T11:19:33.493369Z",
     "iopub.status.idle": "2021-07-08T11:19:33.511235Z",
     "shell.execute_reply": "2021-07-08T11:19:33.511759Z",
     "shell.execute_reply.started": "2021-07-08T11:16:09.310878Z"
    },
    "papermill": {
     "duration": 0.137848,
     "end_time": "2021-07-08T11:19:33.511948",
     "exception": false,
     "start_time": "2021-07-08T11:19:33.374100",
     "status": "completed"
    },
    "tags": []
   },
   "outputs": [
    {
     "data": {
      "text/plain": [
       "cp          0.172411\n",
       "caa         0.139169\n",
       "oldpeak     0.135592\n",
       "thall       0.132392\n",
       "thalachh    0.092157\n",
       "age         0.069711\n",
       "chol        0.065149\n",
       "trtbps      0.064721\n",
       "slp         0.044749\n",
       "exng        0.033268\n",
       "sex         0.033179\n",
       "restecg     0.014580\n",
       "fbs         0.002922\n",
       "dtype: float64"
      ]
     },
     "execution_count": 72,
     "metadata": {},
     "output_type": "execute_result"
    }
   ],
   "source": [
    "# we plot feature importance\n",
    "pd.Series(gb.feature_importances_,index=df.drop('output',axis=1).columns).sort_values(ascending=False)"
   ]
  },
  {
   "cell_type": "markdown",
   "id": "0016faf7",
   "metadata": {
    "papermill": {
     "duration": 0.117423,
     "end_time": "2021-07-08T11:19:33.747660",
     "exception": false,
     "start_time": "2021-07-08T11:19:33.630237",
     "status": "completed"
    },
    "tags": []
   },
   "source": [
    "# I hope this is HELPFUL❤️ !!!"
   ]
  },
  {
   "cell_type": "markdown",
   "id": "3a6c448e",
   "metadata": {
    "papermill": {
     "duration": 0.11708,
     "end_time": "2021-07-08T11:19:33.982151",
     "exception": false,
     "start_time": "2021-07-08T11:19:33.865071",
     "status": "completed"
    },
    "tags": []
   },
   "source": [
    "## What next\n",
    "* We can create webapp that give you advice for healthy heart from this dataset using `Flask` or `Stramlit`  "
   ]
  }
 ],
 "metadata": {
  "kernelspec": {
   "display_name": "Python 3",
   "language": "python",
   "name": "python3"
  },
  "language_info": {
   "codemirror_mode": {
    "name": "ipython",
    "version": 3
   },
   "file_extension": ".py",
   "mimetype": "text/x-python",
   "name": "python",
   "nbconvert_exporter": "python",
   "pygments_lexer": "ipython3",
   "version": "3.7.10"
  },
  "papermill": {
   "default_parameters": {},
   "duration": 104.057549,
   "end_time": "2021-07-08T11:19:35.551156",
   "environment_variables": {},
   "exception": null,
   "input_path": "__notebook__.ipynb",
   "output_path": "__notebook__.ipynb",
   "parameters": {},
   "start_time": "2021-07-08T11:17:51.493607",
   "version": "2.3.3"
  }
 },
 "nbformat": 4,
 "nbformat_minor": 5
}
